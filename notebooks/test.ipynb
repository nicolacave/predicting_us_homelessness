{
 "metadata": {
  "language_info": {
   "codemirror_mode": {
    "name": "ipython",
    "version": 3
   },
   "file_extension": ".py",
   "mimetype": "text/x-python",
   "name": "python",
   "nbconvert_exporter": "python",
   "pygments_lexer": "ipython3",
   "version": "3.8.10"
  },
  "orig_nbformat": 4,
  "kernelspec": {
   "name": "python3",
   "display_name": "Python 3.8.10 64-bit"
  },
  "interpreter": {
   "hash": "24bd0a8d74f35437157cf36f14598ef3477f99df4cd340566b47027f8059ba3f"
  }
 },
 "nbformat": 4,
 "nbformat_minor": 2,
 "cells": [
  {
   "cell_type": "code",
   "execution_count": 1,
   "metadata": {},
   "outputs": [],
   "source": [
    "import functions\n",
    "import pandas as pd\n",
    "import numpy as np"
   ]
  },
  {
   "cell_type": "code",
   "execution_count": 2,
   "metadata": {},
   "outputs": [],
   "source": [
    "PIT_2012 = pd.read_csv(\"../data/2007-2020-PIT-Estimates-by-CoC/2012-Table 1.csv\")"
   ]
  },
  {
   "cell_type": "code",
   "execution_count": 4,
   "metadata": {},
   "outputs": [
    {
     "output_type": "execute_result",
     "data": {
      "text/plain": [
       "Index(['CoC Number', 'CoC Name', 'Overall Homeless, 2012',\n",
       "       'Sheltered ES Homeless, 2012', 'Sheltered TH Homeless, 2012',\n",
       "       'Sheltered SH Homeless, 2012', 'Sheltered Total Homeless, 2012',\n",
       "       'Unsheltered Homeless, 2012', 'Overall Homeless Individuals, 2012',\n",
       "       'Overall Homeless Individuals - Under 18, 2012',\n",
       "       'Sheltered ES Homeless Individuals, 2012',\n",
       "       'Sheltered ES Homeless Individuals - Under 18, 2012',\n",
       "       'Sheltered TH Homeless Individuals, 2012',\n",
       "       'Sheltered TH Homeless Individuals - Under 18, 2012',\n",
       "       'Sheltered SH Homeless Individuals, 2012',\n",
       "       'Sheltered Total Homeless Individuals, 2012',\n",
       "       'Sheltered Total Homeless Individuals - Under 18, 2012',\n",
       "       'Unsheltered Homeless Individuals, 2012',\n",
       "       'Unsheltered Homeless Individuals - Under 18, 2012',\n",
       "       'Overall Homeless People in Families, 2012',\n",
       "       'Sheltered ES Homeless People in Families, 2012',\n",
       "       'Sheltered TH Homeless People in Families, 2012',\n",
       "       'Sheltered Total Homeless People in Families, 2012',\n",
       "       'Unsheltered Homeless People in Families, 2012',\n",
       "       'Overall Homeless Family Households, 2012',\n",
       "       'Sheltered ES Homeless Family Households, 2012',\n",
       "       'Sheltered TH Homeless Family Households, 2012',\n",
       "       'Sheltered Total Homeless Family Households, 2012',\n",
       "       'Unsheltered Homeless Family Households, 2012',\n",
       "       'Overall Chronically Homeless, 2012',\n",
       "       'Sheltered ES Chronically Homeless, 2012',\n",
       "       'Sheltered SH Chronically Homeless, 2012',\n",
       "       'Sheltered Total Chronically Homeless, 2012',\n",
       "       'Unsheltered Chronically Homeless, 2012',\n",
       "       'Overall Chronically Homeless Individuals, 2012',\n",
       "       'Sheltered ES Chronically Homeless Individuals, 2012',\n",
       "       'Sheltered SH Chronically Homeless Individuals, 2012',\n",
       "       'Sheltered Total Chronically Homeless Individuals, 2012',\n",
       "       'Unsheltered Chronically Homeless Individuals, 2012',\n",
       "       'Overall Chronically Homeless People in Families, 2012',\n",
       "       'Sheltered ES Chronically Homeless People in Families, 2012',\n",
       "       'Sheltered Total Chronically Homeless People in Families, 2012',\n",
       "       'Unsheltered Chronically Homeless People in Families, 2012',\n",
       "       'Overall Homeless Veterans, 2012',\n",
       "       'Sheltered Total Homeless Veterans, 2012',\n",
       "       'Unsheltered Homeless Veterans, 2012'],\n",
       "      dtype='object')"
      ]
     },
     "metadata": {},
     "execution_count": 4
    }
   ],
   "source": []
  },
  {
   "cell_type": "code",
   "execution_count": 3,
   "metadata": {},
   "outputs": [],
   "source": [
    "h = functions.homeless(PIT_2012, 2012)"
   ]
  },
  {
   "cell_type": "code",
   "execution_count": 4,
   "metadata": {},
   "outputs": [
    {
     "output_type": "execute_result",
     "data": {
      "text/plain": [
       "Index(['CoC Number', 'CoC Name', 'Overall Homeless, 2012',\n",
       "       'Sheltered ES Homeless, 2012', 'Sheltered TH Homeless, 2012',\n",
       "       'Sheltered SH Homeless, 2012', 'Sheltered Total Homeless, 2012',\n",
       "       'Unsheltered Homeless, 2012', 'Overall Homeless Individuals, 2012',\n",
       "       'Overall Homeless Individuals - Under 18, 2012',\n",
       "       'Sheltered ES Homeless Individuals, 2012',\n",
       "       'Sheltered ES Homeless Individuals - Under 18, 2012',\n",
       "       'Sheltered TH Homeless Individuals, 2012',\n",
       "       'Sheltered TH Homeless Individuals - Under 18, 2012',\n",
       "       'Sheltered SH Homeless Individuals, 2012',\n",
       "       'Sheltered Total Homeless Individuals, 2012',\n",
       "       'Sheltered Total Homeless Individuals - Under 18, 2012',\n",
       "       'Unsheltered Homeless Individuals, 2012',\n",
       "       'Unsheltered Homeless Individuals - Under 18, 2012',\n",
       "       'Overall Homeless People in Families, 2012',\n",
       "       'Sheltered ES Homeless People in Families, 2012',\n",
       "       'Sheltered TH Homeless People in Families, 2012',\n",
       "       'Sheltered Total Homeless People in Families, 2012',\n",
       "       'Unsheltered Homeless People in Families, 2012',\n",
       "       'Overall Homeless Family Households, 2012',\n",
       "       'Sheltered ES Homeless Family Households, 2012',\n",
       "       'Sheltered TH Homeless Family Households, 2012',\n",
       "       'Sheltered Total Homeless Family Households, 2012',\n",
       "       'Unsheltered Homeless Family Households, 2012',\n",
       "       'Overall Chronically Homeless, 2012',\n",
       "       'Sheltered ES Chronically Homeless, 2012',\n",
       "       'Sheltered SH Chronically Homeless, 2012',\n",
       "       'Sheltered Total Chronically Homeless, 2012',\n",
       "       'Unsheltered Chronically Homeless, 2012',\n",
       "       'Overall Chronically Homeless Individuals, 2012',\n",
       "       'Sheltered ES Chronically Homeless Individuals, 2012',\n",
       "       'Sheltered SH Chronically Homeless Individuals, 2012',\n",
       "       'Sheltered Total Chronically Homeless Individuals, 2012',\n",
       "       'Unsheltered Chronically Homeless Individuals, 2012',\n",
       "       'Overall Chronically Homeless People in Families, 2012',\n",
       "       'Sheltered ES Chronically Homeless People in Families, 2012',\n",
       "       'Sheltered Total Chronically Homeless People in Families, 2012',\n",
       "       'Unsheltered Chronically Homeless People in Families, 2012',\n",
       "       'Overall Homeless Veterans, 2012',\n",
       "       'Sheltered Total Homeless Veterans, 2012',\n",
       "       'Unsheltered Homeless Veterans, 2012'],\n",
       "      dtype='object')"
      ]
     },
     "metadata": {},
     "execution_count": 4
    }
   ],
   "source": [
    "h.df.columns"
   ]
  },
  {
   "cell_type": "code",
   "execution_count": 5,
   "metadata": {},
   "outputs": [],
   "source": [
    "# h.format_df()"
   ]
  },
  {
   "cell_type": "code",
   "execution_count": 6,
   "metadata": {},
   "outputs": [],
   "source": [
    "# PIT_2012.columns = PIT_2012.columns.str.replace('2012', '')\n",
    "# PIT_2012.columns = PIT_2012.columns.str.replace(',', '')\n"
   ]
  },
  {
   "cell_type": "code",
   "execution_count": 7,
   "metadata": {},
   "outputs": [
    {
     "output_type": "execute_result",
     "data": {
      "text/plain": [
       "Index(['CoC Number', 'CoC Name', 'Overall Homeless', 'Sheltered ES Homeless',\n",
       "       'Sheltered TH Homeless', 'Sheltered SH Homeless',\n",
       "       'Sheltered Total Homeless', 'Unsheltered Homeless',\n",
       "       'Overall Homeless Individuals',\n",
       "       'Overall Homeless Individuals - Under 18',\n",
       "       'Sheltered ES Homeless Individuals',\n",
       "       'Sheltered ES Homeless Individuals - Under 18',\n",
       "       'Sheltered TH Homeless Individuals',\n",
       "       'Sheltered TH Homeless Individuals - Under 18',\n",
       "       'Sheltered SH Homeless Individuals',\n",
       "       'Sheltered Total Homeless Individuals',\n",
       "       'Sheltered Total Homeless Individuals - Under 18',\n",
       "       'Unsheltered Homeless Individuals',\n",
       "       'Unsheltered Homeless Individuals - Under 18',\n",
       "       'Overall Homeless People in Families',\n",
       "       'Sheltered ES Homeless People in Families',\n",
       "       'Sheltered TH Homeless People in Families',\n",
       "       'Sheltered Total Homeless People in Families',\n",
       "       'Unsheltered Homeless People in Families',\n",
       "       'Overall Homeless Family Households',\n",
       "       'Sheltered ES Homeless Family Households',\n",
       "       'Sheltered TH Homeless Family Households',\n",
       "       'Sheltered Total Homeless Family Households',\n",
       "       'Unsheltered Homeless Family Households',\n",
       "       'Overall Chronically Homeless', 'Sheltered ES Chronically Homeless',\n",
       "       'Sheltered SH Chronically Homeless',\n",
       "       'Sheltered Total Chronically Homeless',\n",
       "       'Unsheltered Chronically Homeless',\n",
       "       'Overall Chronically Homeless Individuals',\n",
       "       'Sheltered ES Chronically Homeless Individuals',\n",
       "       'Sheltered SH Chronically Homeless Individuals',\n",
       "       'Sheltered Total Chronically Homeless Individuals',\n",
       "       'Unsheltered Chronically Homeless Individuals',\n",
       "       'Overall Chronically Homeless People in Families',\n",
       "       'Sheltered ES Chronically Homeless People in Families',\n",
       "       'Sheltered Total Chronically Homeless People in Families',\n",
       "       'Unsheltered Chronically Homeless People in Families',\n",
       "       'Overall Homeless Veterans', 'Sheltered Total Homeless Veterans',\n",
       "       'Unsheltered Homeless Veterans'],\n",
       "      dtype='object')"
      ]
     },
     "metadata": {},
     "execution_count": 7
    }
   ],
   "source": [
    "h.rename_columns()\n",
    "h.df.columns"
   ]
  },
  {
   "cell_type": "code",
   "execution_count": null,
   "metadata": {},
   "outputs": [],
   "source": []
  }
 ]
}