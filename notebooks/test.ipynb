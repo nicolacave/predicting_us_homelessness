{
 "metadata": {
  "language_info": {
   "codemirror_mode": {
    "name": "ipython",
    "version": 3
   },
   "file_extension": ".py",
   "mimetype": "text/x-python",
   "name": "python",
   "nbconvert_exporter": "python",
   "pygments_lexer": "ipython3",
   "version": "3.8.10"
  },
  "orig_nbformat": 4,
  "kernelspec": {
   "name": "python3",
   "display_name": "Python 3.8.10 64-bit"
  },
  "interpreter": {
   "hash": "24bd0a8d74f35437157cf36f14598ef3477f99df4cd340566b47027f8059ba3f"
  }
 },
 "nbformat": 4,
 "nbformat_minor": 2,
 "cells": [
  {
   "cell_type": "code",
   "execution_count": 1,
   "metadata": {},
   "outputs": [],
   "source": [
    "import functions\n",
    "import pandas as pd\n",
    "import numpy as np"
   ]
  },
  {
   "cell_type": "code",
   "execution_count": 2,
   "metadata": {},
   "outputs": [],
   "source": [
    "PIT_2012 = pd.read_csv(\"../data/2007-2020-PIT-Estimates-by-CoC/2012-Table 1.csv\")"
   ]
  },
  {
   "cell_type": "code",
   "execution_count": 3,
   "metadata": {},
   "outputs": [],
   "source": [
    "h = functions.homeless(PIT_2012, 2012)"
   ]
  },
  {
   "cell_type": "code",
   "execution_count": 4,
   "metadata": {},
   "outputs": [],
   "source": [
    "h.df.columns;"
   ]
  },
  {
   "cell_type": "code",
   "execution_count": 5,
   "metadata": {},
   "outputs": [],
   "source": [
    "h.format_df();"
   ]
  },
  {
   "cell_type": "code",
   "execution_count": 6,
   "metadata": {},
   "outputs": [],
   "source": [
    "# PIT_2012.columns = PIT_2012.columns.str.replace('2012', '')\n",
    "# PIT_2012.columns = PIT_2012.columns.str.replace(',', '')\n"
   ]
  },
  {
   "cell_type": "code",
   "execution_count": null,
   "metadata": {},
   "outputs": [],
   "source": []
  },
  {
   "cell_type": "code",
   "execution_count": 7,
   "metadata": {},
   "outputs": [],
   "source": [
    "h.rename_columns()\n",
    "h.df.columns;"
   ]
  },
  {
   "cell_type": "code",
   "execution_count": 8,
   "metadata": {},
   "outputs": [],
   "source": [
    "cols = ['CoC Name', 'CoC Number', 'Overall Chronically Homeless',\n",
    " 'Overall Chronically Homeless Individuals',\n",
    " 'Overall Chronically Homeless People in Families', 'Overall Homeless',\n",
    " 'Overall Homeless Family Households', 'Overall Homeless Individuals',\n",
    " 'Overall Homeless Individuals - Under 18',\n",
    " 'Overall Homeless People in Families', 'Overall Homeless Veterans',\n",
    " 'Sheltered ES Chronically Homeless',\n",
    " 'Sheltered ES Chronically Homeless Individuals',\n",
    " 'Sheltered ES Chronically Homeless People in Families',\n",
    " 'Sheltered ES Homeless', 'Sheltered ES Homeless Family Households',\n",
    " 'Sheltered ES Homeless Individuals',\n",
    " 'Sheltered ES Homeless Individuals - Under 18',\n",
    " 'Sheltered ES Homeless People in Families',\n",
    " 'Sheltered SH Chronically Homeless',\n",
    " 'Sheltered SH Chronically Homeless Individuals' 'Sheltered SH Homeless',\n",
    " 'Sheltered SH Homeless Individuals', 'Sheltered TH Homeless',\n",
    " 'Sheltered TH Homeless Family Households',\n",
    " 'Sheltered TH Homeless Individuals',\n",
    " 'Sheltered TH Homeless Individuals - Under 18',\n",
    " 'Sheltered TH Homeless People in Families',\n",
    " 'Sheltered Total Chronically Homeless',\n",
    " 'Sheltered Total Chronically Homeless Individuals',\n",
    " 'Sheltered Total Chronically Homeless People in Families',\n",
    " 'Sheltered Total Homeless', 'Sheltered Total Homeless Family Households',\n",
    " 'Sheltered Total Homeless Individuals',\n",
    " 'Sheltered Total Homeless Individuals - Under 18',\n",
    " 'Sheltered Total Homeless People in Families',\n",
    " 'Sheltered Total Homeless Veterans' 'Unsheltered Chronically Homeless',\n",
    " 'Unsheltered Chronically Homeless Individuals',\n",
    " 'Unsheltered Chronically Homeless People in Families',\n",
    " 'Unsheltered Homeless', 'Unsheltered Homeless Family Households',\n",
    " 'Unsheltered Homeless Individuals',\n",
    " 'Unsheltered Homeless Individuals - Under 18',\n",
    " 'Unsheltered Homeless People in Families', 'Unsheltered Homeless Veterans',\n",
    " 'unsheltered rate', 'year']"
   ]
  },
  {
   "cell_type": "code",
   "execution_count": 9,
   "metadata": {},
   "outputs": [
    {
     "output_type": "execute_result",
     "data": {
      "text/plain": [
       "46"
      ]
     },
     "metadata": {},
     "execution_count": 9
    }
   ],
   "source": [
    "len(cols)"
   ]
  },
  {
   "cell_type": "code",
   "execution_count": 10,
   "metadata": {},
   "outputs": [],
   "source": [
    "# ITh = functions.homeless(PIT_2012, 2012)\n",
    "# h.strip_columns(cols)"
   ]
  },
  {
   "cell_type": "code",
   "execution_count": 17,
   "metadata": {},
   "outputs": [
    {
     "output_type": "stream",
     "name": "stdout",
     "text": [
      "<class 'pandas.core.frame.DataFrame'>\nRangeIndex: 3538 entries, 0 to 3537\nData columns (total 50 columns):\n #   Column                                                   Non-Null Count  Dtype  \n---  ------                                                   --------------  -----  \n 0   Unnamed: 0                                               3538 non-null   int64  \n 1   CoC Number                                               3520 non-null   object \n 2   CoC Name                                                 3520 non-null   object \n 3   Overall Homeless                                         3520 non-null   float64\n 4   Sheltered ES Homeless                                    3520 non-null   float64\n 5   Sheltered TH Homeless                                    3520 non-null   float64\n 6   Sheltered SH Homeless                                    3520 non-null   float64\n 7   Sheltered Total Homeless                                 3520 non-null   float64\n 8   Unsheltered Homeless                                     3520 non-null   float64\n 9   Overall Homeless Individuals                             3520 non-null   float64\n 10  Overall Homeless Individuals - Under 18                  3520 non-null   float64\n 11  Sheltered ES Homeless Individuals                        3520 non-null   float64\n 12  Sheltered ES Homeless Individuals - Under 18             3520 non-null   float64\n 13  Sheltered TH Homeless Individuals                        3520 non-null   float64\n 14  Sheltered TH Homeless Individuals - Under 18             3520 non-null   float64\n 15  Sheltered SH Homeless Individuals                        3520 non-null   float64\n 16  Sheltered Total Homeless Individuals                     3520 non-null   float64\n 17  Sheltered Total Homeless Individuals - Under 18          3520 non-null   float64\n 18  Unsheltered Homeless Individuals                         3520 non-null   float64\n 19  Unsheltered Homeless Individuals - Under 18              3520 non-null   float64\n 20  Overall Homeless People in Families                      3520 non-null   float64\n 21  Sheltered ES Homeless People in Families                 3520 non-null   float64\n 22  Sheltered TH Homeless People in Families                 3520 non-null   float64\n 23  Sheltered Total Homeless People in Families              3520 non-null   float64\n 24  Unsheltered Homeless People in Families                  3520 non-null   float64\n 25  Overall Homeless Family Households                       3520 non-null   float64\n 26  Sheltered ES Homeless Family Households                  3520 non-null   float64\n 27  Sheltered TH Homeless Family Households                  3520 non-null   float64\n 28  Sheltered Total Homeless Family Households               3520 non-null   float64\n 29  Unsheltered Homeless Family Households                   3520 non-null   float64\n 30  Overall Chronically Homeless                             3520 non-null   float64\n 31  Sheltered ES Chronically Homeless                        3520 non-null   float64\n 32  Sheltered SH Chronically Homeless                        3520 non-null   float64\n 33  Sheltered Total Chronically Homeless                     3520 non-null   float64\n 34  Unsheltered Chronically Homeless                         3520 non-null   float64\n 35  Overall Chronically Homeless Individuals                 3520 non-null   float64\n 36  Sheltered ES Chronically Homeless Individuals            3520 non-null   float64\n 37  Sheltered SH Chronically Homeless Individuals            3520 non-null   float64\n 38  Sheltered Total Chronically Homeless Individuals         3520 non-null   float64\n 39  Unsheltered Chronically Homeless Individuals             3520 non-null   float64\n 40  Overall Chronically Homeless People in Families          3520 non-null   float64\n 41  Sheltered ES Chronically Homeless People in Families     3520 non-null   float64\n 42  Sheltered Total Chronically Homeless People in Families  3520 non-null   float64\n 43  Unsheltered Chronically Homeless People in Families      3520 non-null   float64\n 44  Overall Homeless Veterans                                3520 non-null   float64\n 45  Sheltered Total Homeless Veterans                        3520 non-null   float64\n 46  Unsheltered Homeless Veterans                            3520 non-null   float64\n 47  year                                                     3538 non-null   int64  \n 48  state                                                    3520 non-null   object \n 49  unsheltered rate                                         3520 non-null   float64\ndtypes: float64(45), int64(2), object(3)\nmemory usage: 1.3+ MB\n"
     ]
    }
   ],
   "source": [
    "PIT = pd.read_csv(\"../src/cleaned_PIT_df.csv\")\n",
    "PIT.info()"
   ]
  },
  {
   "cell_type": "code",
   "execution_count": 19,
   "metadata": {},
   "outputs": [],
   "source": [
    "# PIT.isnull().sum()/len(PIT)*100;\n",
    "# PIT[\"Overall Homeless\"] = PIT.groupby(\"state\").transform(lambda x: x.fillna(x.mean()))"
   ]
  },
  {
   "cell_type": "code",
   "execution_count": 21,
   "metadata": {},
   "outputs": [],
   "source": [
    "PIT1 = PIT.dropna()"
   ]
  },
  {
   "cell_type": "code",
   "execution_count": 22,
   "metadata": {},
   "outputs": [
    {
     "output_type": "stream",
     "name": "stdout",
     "text": [
      "<class 'pandas.core.frame.DataFrame'>\nInt64Index: 3511 entries, 0 to 3534\nData columns (total 50 columns):\n #   Column                                                   Non-Null Count  Dtype  \n---  ------                                                   --------------  -----  \n 0   Unnamed: 0                                               3511 non-null   int64  \n 1   CoC Number                                               3511 non-null   object \n 2   CoC Name                                                 3511 non-null   object \n 3   Overall Homeless                                         3511 non-null   float64\n 4   Sheltered ES Homeless                                    3511 non-null   float64\n 5   Sheltered TH Homeless                                    3511 non-null   float64\n 6   Sheltered SH Homeless                                    3511 non-null   float64\n 7   Sheltered Total Homeless                                 3511 non-null   float64\n 8   Unsheltered Homeless                                     3511 non-null   float64\n 9   Overall Homeless Individuals                             3511 non-null   float64\n 10  Overall Homeless Individuals - Under 18                  3511 non-null   float64\n 11  Sheltered ES Homeless Individuals                        3511 non-null   float64\n 12  Sheltered ES Homeless Individuals - Under 18             3511 non-null   float64\n 13  Sheltered TH Homeless Individuals                        3511 non-null   float64\n 14  Sheltered TH Homeless Individuals - Under 18             3511 non-null   float64\n 15  Sheltered SH Homeless Individuals                        3511 non-null   float64\n 16  Sheltered Total Homeless Individuals                     3511 non-null   float64\n 17  Sheltered Total Homeless Individuals - Under 18          3511 non-null   float64\n 18  Unsheltered Homeless Individuals                         3511 non-null   float64\n 19  Unsheltered Homeless Individuals - Under 18              3511 non-null   float64\n 20  Overall Homeless People in Families                      3511 non-null   float64\n 21  Sheltered ES Homeless People in Families                 3511 non-null   float64\n 22  Sheltered TH Homeless People in Families                 3511 non-null   float64\n 23  Sheltered Total Homeless People in Families              3511 non-null   float64\n 24  Unsheltered Homeless People in Families                  3511 non-null   float64\n 25  Overall Homeless Family Households                       3511 non-null   float64\n 26  Sheltered ES Homeless Family Households                  3511 non-null   float64\n 27  Sheltered TH Homeless Family Households                  3511 non-null   float64\n 28  Sheltered Total Homeless Family Households               3511 non-null   float64\n 29  Unsheltered Homeless Family Households                   3511 non-null   float64\n 30  Overall Chronically Homeless                             3511 non-null   float64\n 31  Sheltered ES Chronically Homeless                        3511 non-null   float64\n 32  Sheltered SH Chronically Homeless                        3511 non-null   float64\n 33  Sheltered Total Chronically Homeless                     3511 non-null   float64\n 34  Unsheltered Chronically Homeless                         3511 non-null   float64\n 35  Overall Chronically Homeless Individuals                 3511 non-null   float64\n 36  Sheltered ES Chronically Homeless Individuals            3511 non-null   float64\n 37  Sheltered SH Chronically Homeless Individuals            3511 non-null   float64\n 38  Sheltered Total Chronically Homeless Individuals         3511 non-null   float64\n 39  Unsheltered Chronically Homeless Individuals             3511 non-null   float64\n 40  Overall Chronically Homeless People in Families          3511 non-null   float64\n 41  Sheltered ES Chronically Homeless People in Families     3511 non-null   float64\n 42  Sheltered Total Chronically Homeless People in Families  3511 non-null   float64\n 43  Unsheltered Chronically Homeless People in Families      3511 non-null   float64\n 44  Overall Homeless Veterans                                3511 non-null   float64\n 45  Sheltered Total Homeless Veterans                        3511 non-null   float64\n 46  Unsheltered Homeless Veterans                            3511 non-null   float64\n 47  year                                                     3511 non-null   int64  \n 48  state                                                    3511 non-null   object \n 49  unsheltered rate                                         3511 non-null   float64\ndtypes: float64(45), int64(2), object(3)\nmemory usage: 1.4+ MB\n"
     ]
    }
   ],
   "source": [
    "PIT1.info()"
   ]
  },
  {
   "cell_type": "code",
   "execution_count": null,
   "metadata": {},
   "outputs": [],
   "source": []
  }
 ]
}