{
 "metadata": {
  "language_info": {
   "codemirror_mode": {
    "name": "ipython",
    "version": 3
   },
   "file_extension": ".py",
   "mimetype": "text/x-python",
   "name": "python",
   "nbconvert_exporter": "python",
   "pygments_lexer": "ipython3",
   "version": "3.8.10"
  },
  "orig_nbformat": 4,
  "kernelspec": {
   "name": "python3",
   "display_name": "Python 3.8.10 64-bit"
  },
  "interpreter": {
   "hash": "24bd0a8d74f35437157cf36f14598ef3477f99df4cd340566b47027f8059ba3f"
  }
 },
 "nbformat": 4,
 "nbformat_minor": 2,
 "cells": [
  {
   "source": [],
   "cell_type": "markdown",
   "metadata": {}
  },
  {
   "source": [
    "# Imports"
   ],
   "cell_type": "markdown",
   "metadata": {}
  },
  {
   "cell_type": "code",
   "execution_count": 1,
   "metadata": {},
   "outputs": [],
   "source": [
    "import pandas as pd\n",
    "import numpy as np\n",
    "import matplotlib.pyplot as plt\n",
    "import pprint\n",
    "from functions import homeless"
   ]
  },
  {
   "source": [
    "# Data Loading"
   ],
   "cell_type": "markdown",
   "metadata": {}
  },
  {
   "cell_type": "code",
   "execution_count": 18,
   "metadata": {},
   "outputs": [],
   "source": [
    "HIC_2012 = pd.read_csv(\"../data/2012HIC_RawData/2012HIC_RawData-Table 1.csv\")"
   ]
  },
  {
   "cell_type": "code",
   "execution_count": 19,
   "metadata": {},
   "outputs": [],
   "source": [
    "HIC_2012.head();"
   ]
  },
  {
   "cell_type": "code",
   "execution_count": 20,
   "metadata": {},
   "outputs": [
    {
     "output_type": "stream",
     "name": "stdout",
     "text": [
      "<class 'pandas.core.frame.DataFrame'>\nRangeIndex: 23193 entries, 0 to 23192\nData columns (total 33 columns):\n #   Column                                       Non-Null Count  Dtype  \n---  ------                                       --------------  -----  \n 0   RowID                                        23193 non-null  int64  \n 1   State                                        23193 non-null  object \n 2   CoC Name                                     23193 non-null  object \n 3   CoC ID                                       23193 non-null  int64  \n 4   HUD CoC Number                               23193 non-null  object \n 5   Year                                         23193 non-null  int64  \n 6   Organization Name                            23193 non-null  object \n 7   Program Name                                 23193 non-null  object \n 8   Program Type                                 23191 non-null  object \n 9   Bed Type                                     13863 non-null  object \n 10  Geo Code                                     23191 non-null  float64\n 11  Inventory Type                               23191 non-null  object \n 12  Target Population A                          23102 non-null  object \n 13  Target Population B                          4709 non-null   object \n 14  Mc Kinney-Vento                              23193 non-null  bool   \n 15  Beds for Households With Children            14347 non-null  float64\n 16  Units for Households With Children           14307 non-null  float64\n 17  Beds for Households Without Children         19393 non-null  float64\n 18  Beds for Households With Only Children       5679 non-null   float64\n 19  Total Year Round Beds                        23193 non-null  int64  \n 20  Chronically Homeless Beds                    7449 non-null   float64\n 21  HMIS Beds for Households With Children       10995 non-null  float64\n 22  HMIS Beds for Households Without Children    15876 non-null  float64\n 23  HMIS Beds for Households With Only Children  4619 non-null   float64\n 24  Domestic Violence Beds                       2345 non-null   float64\n 25  Total Seasonal Beds                          4528 non-null   float64\n 26  Seasonal Beds Available in HMIS              4474 non-null   float64\n 27  Availability Start Date                      467 non-null    object \n 28  Availability End Date                        467 non-null    object \n 29  Overflow and Voucher Beds                    4555 non-null   float64\n 30  HMIS Overflow and Voucher Beds               2318 non-null   float64\n 31  PIT Count                                    22265 non-null  float64\n 32  Total Beds                                   23193 non-null  int64  \ndtypes: bool(1), float64(15), int64(5), object(12)\nmemory usage: 5.7+ MB\n"
     ]
    }
   ],
   "source": [
    "HIC_2012.info();"
   ]
  },
  {
   "cell_type": "code",
   "execution_count": 21,
   "metadata": {},
   "outputs": [],
   "source": [
    "HIC_2012['Geo Code'];"
   ]
  },
  {
   "cell_type": "code",
   "execution_count": 22,
   "metadata": {},
   "outputs": [],
   "source": [
    "HIC_2013 = pd.read_excel(\"../data/2013-Housing-Inventory-Count-Raw-File.xlsx\")"
   ]
  },
  {
   "cell_type": "code",
   "execution_count": 21,
   "metadata": {},
   "outputs": [],
   "source": [
    "#HIC_2013.info()"
   ]
  },
  {
   "cell_type": "code",
   "execution_count": 23,
   "metadata": {},
   "outputs": [],
   "source": [
    "HIC_2014 = pd.read_excel(\"../data/2014-Housing-Inventory-Count-Raw-File.xlsx\")"
   ]
  },
  {
   "cell_type": "code",
   "execution_count": 23,
   "metadata": {},
   "outputs": [],
   "source": [
    "#HIC_2014.info()"
   ]
  },
  {
   "cell_type": "code",
   "execution_count": 24,
   "metadata": {},
   "outputs": [],
   "source": [
    "HIC_2015 = pd.read_excel(\"../data/2015-Housing-Inventory-Count-Raw-File.xlsx\")"
   ]
  },
  {
   "cell_type": "code",
   "execution_count": 25,
   "metadata": {},
   "outputs": [],
   "source": [
    "#HIC_2015.info()"
   ]
  },
  {
   "cell_type": "code",
   "execution_count": 25,
   "metadata": {},
   "outputs": [],
   "source": [
    "HIC_2016 = pd.read_excel(\"../data/2016-Housing-Inventory-Count-Raw-File.xlsx\")"
   ]
  },
  {
   "cell_type": "code",
   "execution_count": 27,
   "metadata": {},
   "outputs": [],
   "source": [
    "#HIC_2016.info()"
   ]
  },
  {
   "cell_type": "code",
   "execution_count": 26,
   "metadata": {},
   "outputs": [],
   "source": [
    "HIC_2017 = pd.read_excel(\"../data/2017-Housing-Inventory-Count-Raw-File.xlsx\")"
   ]
  },
  {
   "cell_type": "code",
   "execution_count": 29,
   "metadata": {},
   "outputs": [],
   "source": [
    "#HIC_2017.info()"
   ]
  },
  {
   "cell_type": "code",
   "execution_count": 27,
   "metadata": {},
   "outputs": [],
   "source": [
    "HIC_2018 = pd.read_excel(\"../data/2018-Housing-Inventory-County-RawFile.xlsx\")"
   ]
  },
  {
   "cell_type": "code",
   "execution_count": 31,
   "metadata": {},
   "outputs": [],
   "source": [
    "#HIC_2018.info()"
   ]
  },
  {
   "cell_type": "code",
   "execution_count": 28,
   "metadata": {},
   "outputs": [],
   "source": [
    "HIC_2019 = pd.read_excel(\"../data/2019-Housing-Inventory-County-RawFile.xlsx\")"
   ]
  },
  {
   "cell_type": "code",
   "execution_count": 33,
   "metadata": {},
   "outputs": [],
   "source": [
    "#HIC_2019.info()"
   ]
  },
  {
   "cell_type": "code",
   "execution_count": 29,
   "metadata": {},
   "outputs": [],
   "source": [
    "HIC_2020 = pd.read_excel(\"../data/2020-HIC-Raw-File.xlsx\")"
   ]
  },
  {
   "cell_type": "code",
   "execution_count": 35,
   "metadata": {},
   "outputs": [],
   "source": [
    "#HIC_2020.info()"
   ]
  },
  {
   "cell_type": "code",
   "execution_count": 30,
   "metadata": {},
   "outputs": [],
   "source": [
    "# list of all HIC dataframes\n",
    "HICs = [HIC_2012, HIC_2013, HIC_2014, HIC_2015, HIC_2016, HIC_2017, HIC_2018, HIC_2019, HIC_2020]"
   ]
  },
  {
   "cell_type": "code",
   "execution_count": 37,
   "metadata": {},
   "outputs": [],
   "source": [
    "#HIC_2020[\"CoC\\ID\"];"
   ]
  },
  {
   "source": [
    "# Table Merging"
   ],
   "cell_type": "markdown",
   "metadata": {}
  },
  {
   "cell_type": "code",
   "execution_count": 31,
   "metadata": {},
   "outputs": [],
   "source": [
    "HIC_df = pd.concat(HICs).drop([\"HIC Date\"], axis=1)"
   ]
  },
  {
   "cell_type": "code",
   "execution_count": 39,
   "metadata": {},
   "outputs": [
    {
     "output_type": "error",
     "ename": "TypeError",
     "evalue": "'<' not supported between instances of 'datetime.datetime' and 'int'",
     "traceback": [
      "\u001b[0;31m---------------------------------------------------------------------------\u001b[0m",
      "\u001b[0;31mTypeError\u001b[0m                                 Traceback (most recent call last)",
      "\u001b[0;32m<ipython-input-39-bb9761b045e1>\u001b[0m in \u001b[0;36m<module>\u001b[0;34m\u001b[0m\n\u001b[0;32m----> 1\u001b[0;31m \u001b[0mHIC_df\u001b[0m\u001b[0;34m.\u001b[0m\u001b[0mvalue_counts\u001b[0m\u001b[0;34m(\u001b[0m\u001b[0;34m)\u001b[0m\u001b[0;34m\u001b[0m\u001b[0;34m\u001b[0m\u001b[0m\n\u001b[0m",
      "\u001b[0;32m~/anaconda3/lib/python3.8/site-packages/pandas/core/frame.py\u001b[0m in \u001b[0;36mvalue_counts\u001b[0;34m(self, subset, normalize, sort, ascending, dropna)\u001b[0m\n\u001b[1;32m   6509\u001b[0m             \u001b[0msubset\u001b[0m \u001b[0;34m=\u001b[0m \u001b[0mself\u001b[0m\u001b[0;34m.\u001b[0m\u001b[0mcolumns\u001b[0m\u001b[0;34m.\u001b[0m\u001b[0mtolist\u001b[0m\u001b[0;34m(\u001b[0m\u001b[0;34m)\u001b[0m\u001b[0;34m\u001b[0m\u001b[0;34m\u001b[0m\u001b[0m\n\u001b[1;32m   6510\u001b[0m \u001b[0;34m\u001b[0m\u001b[0m\n\u001b[0;32m-> 6511\u001b[0;31m         \u001b[0mcounts\u001b[0m \u001b[0;34m=\u001b[0m \u001b[0mself\u001b[0m\u001b[0;34m.\u001b[0m\u001b[0mgroupby\u001b[0m\u001b[0;34m(\u001b[0m\u001b[0msubset\u001b[0m\u001b[0;34m,\u001b[0m \u001b[0mdropna\u001b[0m\u001b[0;34m=\u001b[0m\u001b[0mdropna\u001b[0m\u001b[0;34m)\u001b[0m\u001b[0;34m.\u001b[0m\u001b[0mgrouper\u001b[0m\u001b[0;34m.\u001b[0m\u001b[0msize\u001b[0m\u001b[0;34m(\u001b[0m\u001b[0;34m)\u001b[0m\u001b[0;34m\u001b[0m\u001b[0;34m\u001b[0m\u001b[0m\n\u001b[0m\u001b[1;32m   6512\u001b[0m \u001b[0;34m\u001b[0m\u001b[0m\n\u001b[1;32m   6513\u001b[0m         \u001b[0;32mif\u001b[0m \u001b[0msort\u001b[0m\u001b[0;34m:\u001b[0m\u001b[0;34m\u001b[0m\u001b[0;34m\u001b[0m\u001b[0m\n",
      "\u001b[0;32m~/anaconda3/lib/python3.8/site-packages/pandas/core/groupby/ops.py\u001b[0m in \u001b[0;36msize\u001b[0;34m(self)\u001b[0m\n\u001b[1;32m    852\u001b[0m         \u001b[0mCompute\u001b[0m \u001b[0mgroup\u001b[0m \u001b[0msizes\u001b[0m\u001b[0;34m.\u001b[0m\u001b[0;34m\u001b[0m\u001b[0;34m\u001b[0m\u001b[0m\n\u001b[1;32m    853\u001b[0m         \"\"\"\n\u001b[0;32m--> 854\u001b[0;31m         \u001b[0mids\u001b[0m\u001b[0;34m,\u001b[0m \u001b[0m_\u001b[0m\u001b[0;34m,\u001b[0m \u001b[0mngroups\u001b[0m \u001b[0;34m=\u001b[0m \u001b[0mself\u001b[0m\u001b[0;34m.\u001b[0m\u001b[0mgroup_info\u001b[0m\u001b[0;34m\u001b[0m\u001b[0;34m\u001b[0m\u001b[0m\n\u001b[0m\u001b[1;32m    855\u001b[0m         \u001b[0;32mif\u001b[0m \u001b[0mngroups\u001b[0m\u001b[0;34m:\u001b[0m\u001b[0;34m\u001b[0m\u001b[0;34m\u001b[0m\u001b[0m\n\u001b[1;32m    856\u001b[0m             \u001b[0mout\u001b[0m \u001b[0;34m=\u001b[0m \u001b[0mnp\u001b[0m\u001b[0;34m.\u001b[0m\u001b[0mbincount\u001b[0m\u001b[0;34m(\u001b[0m\u001b[0mids\u001b[0m\u001b[0;34m[\u001b[0m\u001b[0mids\u001b[0m \u001b[0;34m!=\u001b[0m \u001b[0;34m-\u001b[0m\u001b[0;36m1\u001b[0m\u001b[0;34m]\u001b[0m\u001b[0;34m,\u001b[0m \u001b[0mminlength\u001b[0m\u001b[0;34m=\u001b[0m\u001b[0mngroups\u001b[0m\u001b[0;34m)\u001b[0m\u001b[0;34m\u001b[0m\u001b[0;34m\u001b[0m\u001b[0m\n",
      "\u001b[0;32m~/anaconda3/lib/python3.8/site-packages/pandas/_libs/properties.pyx\u001b[0m in \u001b[0;36mpandas._libs.properties.CachedProperty.__get__\u001b[0;34m()\u001b[0m\n",
      "\u001b[0;32m~/anaconda3/lib/python3.8/site-packages/pandas/core/groupby/ops.py\u001b[0m in \u001b[0;36mgroup_info\u001b[0;34m(self)\u001b[0m\n\u001b[1;32m    877\u001b[0m     \u001b[0;34m@\u001b[0m\u001b[0mcache_readonly\u001b[0m\u001b[0;34m\u001b[0m\u001b[0;34m\u001b[0m\u001b[0m\n\u001b[1;32m    878\u001b[0m     \u001b[0;32mdef\u001b[0m \u001b[0mgroup_info\u001b[0m\u001b[0;34m(\u001b[0m\u001b[0mself\u001b[0m\u001b[0;34m)\u001b[0m\u001b[0;34m:\u001b[0m\u001b[0;34m\u001b[0m\u001b[0;34m\u001b[0m\u001b[0m\n\u001b[0;32m--> 879\u001b[0;31m         \u001b[0mcomp_ids\u001b[0m\u001b[0;34m,\u001b[0m \u001b[0mobs_group_ids\u001b[0m \u001b[0;34m=\u001b[0m \u001b[0mself\u001b[0m\u001b[0;34m.\u001b[0m\u001b[0m_get_compressed_codes\u001b[0m\u001b[0;34m(\u001b[0m\u001b[0;34m)\u001b[0m\u001b[0;34m\u001b[0m\u001b[0;34m\u001b[0m\u001b[0m\n\u001b[0m\u001b[1;32m    880\u001b[0m \u001b[0;34m\u001b[0m\u001b[0m\n\u001b[1;32m    881\u001b[0m         \u001b[0mngroups\u001b[0m \u001b[0;34m=\u001b[0m \u001b[0mlen\u001b[0m\u001b[0;34m(\u001b[0m\u001b[0mobs_group_ids\u001b[0m\u001b[0;34m)\u001b[0m\u001b[0;34m\u001b[0m\u001b[0;34m\u001b[0m\u001b[0m\n",
      "\u001b[0;32m~/anaconda3/lib/python3.8/site-packages/pandas/core/groupby/ops.py\u001b[0m in \u001b[0;36m_get_compressed_codes\u001b[0;34m(self)\u001b[0m\n\u001b[1;32m    897\u001b[0m     \u001b[0;32mdef\u001b[0m \u001b[0m_get_compressed_codes\u001b[0m\u001b[0;34m(\u001b[0m\u001b[0mself\u001b[0m\u001b[0;34m)\u001b[0m \u001b[0;34m->\u001b[0m \u001b[0mtuple\u001b[0m\u001b[0;34m[\u001b[0m\u001b[0mnp\u001b[0m\u001b[0;34m.\u001b[0m\u001b[0mndarray\u001b[0m\u001b[0;34m,\u001b[0m \u001b[0mnp\u001b[0m\u001b[0;34m.\u001b[0m\u001b[0mndarray\u001b[0m\u001b[0;34m]\u001b[0m\u001b[0;34m:\u001b[0m\u001b[0;34m\u001b[0m\u001b[0;34m\u001b[0m\u001b[0m\n\u001b[1;32m    898\u001b[0m         \u001b[0;32mif\u001b[0m \u001b[0mlen\u001b[0m\u001b[0;34m(\u001b[0m\u001b[0mself\u001b[0m\u001b[0;34m.\u001b[0m\u001b[0mgroupings\u001b[0m\u001b[0;34m)\u001b[0m \u001b[0;34m>\u001b[0m \u001b[0;36m1\u001b[0m\u001b[0;34m:\u001b[0m\u001b[0;34m\u001b[0m\u001b[0;34m\u001b[0m\u001b[0m\n\u001b[0;32m--> 899\u001b[0;31m             \u001b[0mgroup_index\u001b[0m \u001b[0;34m=\u001b[0m \u001b[0mget_group_index\u001b[0m\u001b[0;34m(\u001b[0m\u001b[0mself\u001b[0m\u001b[0;34m.\u001b[0m\u001b[0mcodes\u001b[0m\u001b[0;34m,\u001b[0m \u001b[0mself\u001b[0m\u001b[0;34m.\u001b[0m\u001b[0mshape\u001b[0m\u001b[0;34m,\u001b[0m \u001b[0msort\u001b[0m\u001b[0;34m=\u001b[0m\u001b[0;32mTrue\u001b[0m\u001b[0;34m,\u001b[0m \u001b[0mxnull\u001b[0m\u001b[0;34m=\u001b[0m\u001b[0;32mTrue\u001b[0m\u001b[0;34m)\u001b[0m\u001b[0;34m\u001b[0m\u001b[0;34m\u001b[0m\u001b[0m\n\u001b[0m\u001b[1;32m    900\u001b[0m             \u001b[0;32mreturn\u001b[0m \u001b[0mcompress_group_index\u001b[0m\u001b[0;34m(\u001b[0m\u001b[0mgroup_index\u001b[0m\u001b[0;34m,\u001b[0m \u001b[0msort\u001b[0m\u001b[0;34m=\u001b[0m\u001b[0mself\u001b[0m\u001b[0;34m.\u001b[0m\u001b[0m_sort\u001b[0m\u001b[0;34m)\u001b[0m\u001b[0;34m\u001b[0m\u001b[0;34m\u001b[0m\u001b[0m\n\u001b[1;32m    901\u001b[0m \u001b[0;34m\u001b[0m\u001b[0m\n",
      "\u001b[0;32m~/anaconda3/lib/python3.8/site-packages/pandas/core/groupby/ops.py\u001b[0m in \u001b[0;36mcodes\u001b[0;34m(self)\u001b[0m\n\u001b[1;32m    837\u001b[0m     \u001b[0;34m@\u001b[0m\u001b[0mproperty\u001b[0m\u001b[0;34m\u001b[0m\u001b[0;34m\u001b[0m\u001b[0m\n\u001b[1;32m    838\u001b[0m     \u001b[0;32mdef\u001b[0m \u001b[0mcodes\u001b[0m\u001b[0;34m(\u001b[0m\u001b[0mself\u001b[0m\u001b[0;34m)\u001b[0m \u001b[0;34m->\u001b[0m \u001b[0mlist\u001b[0m\u001b[0;34m[\u001b[0m\u001b[0mnp\u001b[0m\u001b[0;34m.\u001b[0m\u001b[0mndarray\u001b[0m\u001b[0;34m]\u001b[0m\u001b[0;34m:\u001b[0m\u001b[0;34m\u001b[0m\u001b[0;34m\u001b[0m\u001b[0m\n\u001b[0;32m--> 839\u001b[0;31m         \u001b[0;32mreturn\u001b[0m \u001b[0;34m[\u001b[0m\u001b[0mping\u001b[0m\u001b[0;34m.\u001b[0m\u001b[0mcodes\u001b[0m \u001b[0;32mfor\u001b[0m \u001b[0mping\u001b[0m \u001b[0;32min\u001b[0m \u001b[0mself\u001b[0m\u001b[0;34m.\u001b[0m\u001b[0mgroupings\u001b[0m\u001b[0;34m]\u001b[0m\u001b[0;34m\u001b[0m\u001b[0;34m\u001b[0m\u001b[0m\n\u001b[0m\u001b[1;32m    840\u001b[0m \u001b[0;34m\u001b[0m\u001b[0m\n\u001b[1;32m    841\u001b[0m     \u001b[0;34m@\u001b[0m\u001b[0mproperty\u001b[0m\u001b[0;34m\u001b[0m\u001b[0;34m\u001b[0m\u001b[0m\n",
      "\u001b[0;32m~/anaconda3/lib/python3.8/site-packages/pandas/core/groupby/ops.py\u001b[0m in \u001b[0;36m<listcomp>\u001b[0;34m(.0)\u001b[0m\n\u001b[1;32m    837\u001b[0m     \u001b[0;34m@\u001b[0m\u001b[0mproperty\u001b[0m\u001b[0;34m\u001b[0m\u001b[0;34m\u001b[0m\u001b[0m\n\u001b[1;32m    838\u001b[0m     \u001b[0;32mdef\u001b[0m \u001b[0mcodes\u001b[0m\u001b[0;34m(\u001b[0m\u001b[0mself\u001b[0m\u001b[0;34m)\u001b[0m \u001b[0;34m->\u001b[0m \u001b[0mlist\u001b[0m\u001b[0;34m[\u001b[0m\u001b[0mnp\u001b[0m\u001b[0;34m.\u001b[0m\u001b[0mndarray\u001b[0m\u001b[0;34m]\u001b[0m\u001b[0;34m:\u001b[0m\u001b[0;34m\u001b[0m\u001b[0;34m\u001b[0m\u001b[0m\n\u001b[0;32m--> 839\u001b[0;31m         \u001b[0;32mreturn\u001b[0m \u001b[0;34m[\u001b[0m\u001b[0mping\u001b[0m\u001b[0;34m.\u001b[0m\u001b[0mcodes\u001b[0m \u001b[0;32mfor\u001b[0m \u001b[0mping\u001b[0m \u001b[0;32min\u001b[0m \u001b[0mself\u001b[0m\u001b[0;34m.\u001b[0m\u001b[0mgroupings\u001b[0m\u001b[0;34m]\u001b[0m\u001b[0;34m\u001b[0m\u001b[0;34m\u001b[0m\u001b[0m\n\u001b[0m\u001b[1;32m    840\u001b[0m \u001b[0;34m\u001b[0m\u001b[0m\n\u001b[1;32m    841\u001b[0m     \u001b[0;34m@\u001b[0m\u001b[0mproperty\u001b[0m\u001b[0;34m\u001b[0m\u001b[0;34m\u001b[0m\u001b[0m\n",
      "\u001b[0;32m~/anaconda3/lib/python3.8/site-packages/pandas/core/groupby/grouper.py\u001b[0m in \u001b[0;36mcodes\u001b[0;34m(self)\u001b[0m\n\u001b[1;32m    610\u001b[0m             \u001b[0;32mreturn\u001b[0m \u001b[0mself\u001b[0m\u001b[0;34m.\u001b[0m\u001b[0m_codes\u001b[0m\u001b[0;34m\u001b[0m\u001b[0;34m\u001b[0m\u001b[0m\n\u001b[1;32m    611\u001b[0m \u001b[0;34m\u001b[0m\u001b[0m\n\u001b[0;32m--> 612\u001b[0;31m         \u001b[0;32mreturn\u001b[0m \u001b[0mself\u001b[0m\u001b[0;34m.\u001b[0m\u001b[0m_codes_and_uniques\u001b[0m\u001b[0;34m[\u001b[0m\u001b[0;36m0\u001b[0m\u001b[0;34m]\u001b[0m\u001b[0;34m\u001b[0m\u001b[0;34m\u001b[0m\u001b[0m\n\u001b[0m\u001b[1;32m    613\u001b[0m \u001b[0;34m\u001b[0m\u001b[0m\n\u001b[1;32m    614\u001b[0m     \u001b[0;34m@\u001b[0m\u001b[0mcache_readonly\u001b[0m\u001b[0;34m\u001b[0m\u001b[0;34m\u001b[0m\u001b[0m\n",
      "\u001b[0;32m~/anaconda3/lib/python3.8/site-packages/pandas/_libs/properties.pyx\u001b[0m in \u001b[0;36mpandas._libs.properties.CachedProperty.__get__\u001b[0;34m()\u001b[0m\n",
      "\u001b[0;32m~/anaconda3/lib/python3.8/site-packages/pandas/core/groupby/grouper.py\u001b[0m in \u001b[0;36m_codes_and_uniques\u001b[0;34m(self)\u001b[0m\n\u001b[1;32m    668\u001b[0m             \u001b[0;32melse\u001b[0m\u001b[0;34m:\u001b[0m\u001b[0;34m\u001b[0m\u001b[0;34m\u001b[0m\u001b[0m\n\u001b[1;32m    669\u001b[0m                 \u001b[0mna_sentinel\u001b[0m \u001b[0;34m=\u001b[0m \u001b[0;34m-\u001b[0m\u001b[0;36m1\u001b[0m\u001b[0;34m\u001b[0m\u001b[0;34m\u001b[0m\u001b[0m\n\u001b[0;32m--> 670\u001b[0;31m             codes, uniques = algorithms.factorize(\n\u001b[0m\u001b[1;32m    671\u001b[0m                 \u001b[0mself\u001b[0m\u001b[0;34m.\u001b[0m\u001b[0mgrouping_vector\u001b[0m\u001b[0;34m,\u001b[0m \u001b[0msort\u001b[0m\u001b[0;34m=\u001b[0m\u001b[0mself\u001b[0m\u001b[0;34m.\u001b[0m\u001b[0m_sort\u001b[0m\u001b[0;34m,\u001b[0m \u001b[0mna_sentinel\u001b[0m\u001b[0;34m=\u001b[0m\u001b[0mna_sentinel\u001b[0m\u001b[0;34m\u001b[0m\u001b[0;34m\u001b[0m\u001b[0m\n\u001b[1;32m    672\u001b[0m             )\n",
      "\u001b[0;32m~/anaconda3/lib/python3.8/site-packages/pandas/core/algorithms.py\u001b[0m in \u001b[0;36mfactorize\u001b[0;34m(values, sort, na_sentinel, size_hint)\u001b[0m\n\u001b[1;32m    763\u001b[0m \u001b[0;34m\u001b[0m\u001b[0m\n\u001b[1;32m    764\u001b[0m     \u001b[0;32mif\u001b[0m \u001b[0msort\u001b[0m \u001b[0;32mand\u001b[0m \u001b[0mlen\u001b[0m\u001b[0;34m(\u001b[0m\u001b[0muniques\u001b[0m\u001b[0;34m)\u001b[0m \u001b[0;34m>\u001b[0m \u001b[0;36m0\u001b[0m\u001b[0;34m:\u001b[0m\u001b[0;34m\u001b[0m\u001b[0;34m\u001b[0m\u001b[0m\n\u001b[0;32m--> 765\u001b[0;31m         uniques, codes = safe_sort(\n\u001b[0m\u001b[1;32m    766\u001b[0m             \u001b[0muniques\u001b[0m\u001b[0;34m,\u001b[0m \u001b[0mcodes\u001b[0m\u001b[0;34m,\u001b[0m \u001b[0mna_sentinel\u001b[0m\u001b[0;34m=\u001b[0m\u001b[0mna_sentinel\u001b[0m\u001b[0;34m,\u001b[0m \u001b[0massume_unique\u001b[0m\u001b[0;34m=\u001b[0m\u001b[0;32mTrue\u001b[0m\u001b[0;34m,\u001b[0m \u001b[0mverify\u001b[0m\u001b[0;34m=\u001b[0m\u001b[0;32mFalse\u001b[0m\u001b[0;34m\u001b[0m\u001b[0;34m\u001b[0m\u001b[0m\n\u001b[1;32m    767\u001b[0m         )\n",
      "\u001b[0;32m~/anaconda3/lib/python3.8/site-packages/pandas/core/algorithms.py\u001b[0m in \u001b[0;36msafe_sort\u001b[0;34m(values, codes, na_sentinel, assume_unique, verify)\u001b[0m\n\u001b[1;32m   1778\u001b[0m         \u001b[0;32mand\u001b[0m \u001b[0mlib\u001b[0m\u001b[0;34m.\u001b[0m\u001b[0minfer_dtype\u001b[0m\u001b[0;34m(\u001b[0m\u001b[0mvalues\u001b[0m\u001b[0;34m,\u001b[0m \u001b[0mskipna\u001b[0m\u001b[0;34m=\u001b[0m\u001b[0;32mFalse\u001b[0m\u001b[0;34m)\u001b[0m \u001b[0;34m==\u001b[0m \u001b[0;34m\"mixed-integer\"\u001b[0m\u001b[0;34m\u001b[0m\u001b[0;34m\u001b[0m\u001b[0m\n\u001b[1;32m   1779\u001b[0m     ):\n\u001b[0;32m-> 1780\u001b[0;31m         \u001b[0mordered\u001b[0m \u001b[0;34m=\u001b[0m \u001b[0m_sort_mixed\u001b[0m\u001b[0;34m(\u001b[0m\u001b[0mvalues\u001b[0m\u001b[0;34m)\u001b[0m\u001b[0;34m\u001b[0m\u001b[0;34m\u001b[0m\u001b[0m\n\u001b[0m\u001b[1;32m   1781\u001b[0m     \u001b[0;32melse\u001b[0m\u001b[0;34m:\u001b[0m\u001b[0;34m\u001b[0m\u001b[0;34m\u001b[0m\u001b[0m\n\u001b[1;32m   1782\u001b[0m         \u001b[0;32mtry\u001b[0m\u001b[0;34m:\u001b[0m\u001b[0;34m\u001b[0m\u001b[0;34m\u001b[0m\u001b[0m\n",
      "\u001b[0;32m~/anaconda3/lib/python3.8/site-packages/pandas/core/algorithms.py\u001b[0m in \u001b[0;36m_sort_mixed\u001b[0;34m(values)\u001b[0m\n\u001b[1;32m   1842\u001b[0m     \u001b[0;34m\"\"\"order ints before strings in 1d arrays, safe in py3\"\"\"\u001b[0m\u001b[0;34m\u001b[0m\u001b[0;34m\u001b[0m\u001b[0m\n\u001b[1;32m   1843\u001b[0m     \u001b[0mstr_pos\u001b[0m \u001b[0;34m=\u001b[0m \u001b[0mnp\u001b[0m\u001b[0;34m.\u001b[0m\u001b[0marray\u001b[0m\u001b[0;34m(\u001b[0m\u001b[0;34m[\u001b[0m\u001b[0misinstance\u001b[0m\u001b[0;34m(\u001b[0m\u001b[0mx\u001b[0m\u001b[0;34m,\u001b[0m \u001b[0mstr\u001b[0m\u001b[0;34m)\u001b[0m \u001b[0;32mfor\u001b[0m \u001b[0mx\u001b[0m \u001b[0;32min\u001b[0m \u001b[0mvalues\u001b[0m\u001b[0;34m]\u001b[0m\u001b[0;34m,\u001b[0m \u001b[0mdtype\u001b[0m\u001b[0;34m=\u001b[0m\u001b[0mbool\u001b[0m\u001b[0;34m)\u001b[0m\u001b[0;34m\u001b[0m\u001b[0;34m\u001b[0m\u001b[0m\n\u001b[0;32m-> 1844\u001b[0;31m     \u001b[0mnums\u001b[0m \u001b[0;34m=\u001b[0m \u001b[0mnp\u001b[0m\u001b[0;34m.\u001b[0m\u001b[0msort\u001b[0m\u001b[0;34m(\u001b[0m\u001b[0mvalues\u001b[0m\u001b[0;34m[\u001b[0m\u001b[0;34m~\u001b[0m\u001b[0mstr_pos\u001b[0m\u001b[0;34m]\u001b[0m\u001b[0;34m)\u001b[0m\u001b[0;34m\u001b[0m\u001b[0;34m\u001b[0m\u001b[0m\n\u001b[0m\u001b[1;32m   1845\u001b[0m     \u001b[0mstrs\u001b[0m \u001b[0;34m=\u001b[0m \u001b[0mnp\u001b[0m\u001b[0;34m.\u001b[0m\u001b[0msort\u001b[0m\u001b[0;34m(\u001b[0m\u001b[0mvalues\u001b[0m\u001b[0;34m[\u001b[0m\u001b[0mstr_pos\u001b[0m\u001b[0;34m]\u001b[0m\u001b[0;34m)\u001b[0m\u001b[0;34m\u001b[0m\u001b[0;34m\u001b[0m\u001b[0m\n\u001b[1;32m   1846\u001b[0m     \u001b[0;32mreturn\u001b[0m \u001b[0mnp\u001b[0m\u001b[0;34m.\u001b[0m\u001b[0mconcatenate\u001b[0m\u001b[0;34m(\u001b[0m\u001b[0;34m[\u001b[0m\u001b[0mnums\u001b[0m\u001b[0;34m,\u001b[0m \u001b[0mnp\u001b[0m\u001b[0;34m.\u001b[0m\u001b[0masarray\u001b[0m\u001b[0;34m(\u001b[0m\u001b[0mstrs\u001b[0m\u001b[0;34m,\u001b[0m \u001b[0mdtype\u001b[0m\u001b[0;34m=\u001b[0m\u001b[0mobject\u001b[0m\u001b[0;34m)\u001b[0m\u001b[0;34m]\u001b[0m\u001b[0;34m)\u001b[0m\u001b[0;34m\u001b[0m\u001b[0;34m\u001b[0m\u001b[0m\n",
      "\u001b[0;32m<__array_function__ internals>\u001b[0m in \u001b[0;36msort\u001b[0;34m(*args, **kwargs)\u001b[0m\n",
      "\u001b[0;32m~/anaconda3/lib/python3.8/site-packages/numpy/core/fromnumeric.py\u001b[0m in \u001b[0;36msort\u001b[0;34m(a, axis, kind, order)\u001b[0m\n\u001b[1;32m    996\u001b[0m     \u001b[0;32melse\u001b[0m\u001b[0;34m:\u001b[0m\u001b[0;34m\u001b[0m\u001b[0;34m\u001b[0m\u001b[0m\n\u001b[1;32m    997\u001b[0m         \u001b[0ma\u001b[0m \u001b[0;34m=\u001b[0m \u001b[0masanyarray\u001b[0m\u001b[0;34m(\u001b[0m\u001b[0ma\u001b[0m\u001b[0;34m)\u001b[0m\u001b[0;34m.\u001b[0m\u001b[0mcopy\u001b[0m\u001b[0;34m(\u001b[0m\u001b[0morder\u001b[0m\u001b[0;34m=\u001b[0m\u001b[0;34m\"K\"\u001b[0m\u001b[0;34m)\u001b[0m\u001b[0;34m\u001b[0m\u001b[0;34m\u001b[0m\u001b[0m\n\u001b[0;32m--> 998\u001b[0;31m     \u001b[0ma\u001b[0m\u001b[0;34m.\u001b[0m\u001b[0msort\u001b[0m\u001b[0;34m(\u001b[0m\u001b[0maxis\u001b[0m\u001b[0;34m=\u001b[0m\u001b[0maxis\u001b[0m\u001b[0;34m,\u001b[0m \u001b[0mkind\u001b[0m\u001b[0;34m=\u001b[0m\u001b[0mkind\u001b[0m\u001b[0;34m,\u001b[0m \u001b[0morder\u001b[0m\u001b[0;34m=\u001b[0m\u001b[0morder\u001b[0m\u001b[0;34m)\u001b[0m\u001b[0;34m\u001b[0m\u001b[0;34m\u001b[0m\u001b[0m\n\u001b[0m\u001b[1;32m    999\u001b[0m     \u001b[0;32mreturn\u001b[0m \u001b[0ma\u001b[0m\u001b[0;34m\u001b[0m\u001b[0;34m\u001b[0m\u001b[0m\n\u001b[1;32m   1000\u001b[0m \u001b[0;34m\u001b[0m\u001b[0m\n",
      "\u001b[0;31mTypeError\u001b[0m: '<' not supported between instances of 'datetime.datetime' and 'int'"
     ]
    }
   ],
   "source": [
    "HIC_df.value_counts()"
   ]
  },
  {
   "cell_type": "code",
   "execution_count": 32,
   "metadata": {},
   "outputs": [
    {
     "output_type": "execute_result",
     "data": {
      "text/plain": [
       "RowID                    float64\n",
       "State                     object\n",
       "CoC Name                  object\n",
       "CoC ID                   float64\n",
       "HUD CoC Number            object\n",
       "                          ...   \n",
       "HMIS Project ID           object\n",
       "Target Population         object\n",
       "HMIS Participating       float64\n",
       "mcKinneyVentoCocYhdp     float64\n",
       "mcKinneyVentoCocThRrh    float64\n",
       "Length: 136, dtype: object"
      ]
     },
     "metadata": {},
     "execution_count": 32
    }
   ],
   "source": [
    "HIC_df.dtypes"
   ]
  },
  {
   "cell_type": "code",
   "execution_count": 33,
   "metadata": {},
   "outputs": [
    {
     "output_type": "execute_result",
     "data": {
      "text/plain": [
       "136"
      ]
     },
     "metadata": {},
     "execution_count": 33
    }
   ],
   "source": [
    "len(HIC_df.columns)\n"
   ]
  },
  {
   "cell_type": "code",
   "execution_count": 2,
   "metadata": {},
   "outputs": [],
   "source": [
    "cols = ['CoC Name',\n",
    "'CoC Number',\n",
    "'Overall Chronically Homeless',\n",
    "'Overall Chronically Homeless Individuals',\n",
    "'Overall Chronically Homeless People in Families',\n",
    "'Overall Homeless',\n",
    "'Overall Homeless - Age 18 to 24',\n",
    "'Overall Homeless - American Indian or Alaska Native',\n",
    "'Overall Homeless - Asian',\n",
    "'Overall Homeless - Black or African American',\n",
    "'Overall Homeless - Female',\n",
    "'Overall Homeless - Hispanic/Latino',\n",
    "'Overall Homeless - Male',\n",
    "'Overall Homeless - Multiple Races',\n",
    "'Overall Homeless - Native Hawaiian or Other Pacific Islander',\n",
    "'Overall Homeless - Non-Hispanic/Non-Latino',\n",
    "'Overall Homeless - Over 24',\n",
    "'Overall Homeless - Transgender',\n",
    "'Overall Homeless - Under 18',\n",
    "'Overall Homeless - White',\n",
    "'Overall Homeless Children of Parenting Youth',\n",
    "'Overall Homeless Family Households',\n",
    "'Overall Homeless Individuals',\n",
    "'Overall Homeless Individuals - Age 18 to 24',\n",
    "'Overall Homeless Individuals - American Indian or Alaska Native',\n",
    "'Overall Homeless Individuals - Asian',\n",
    "'Overall Homeless Individuals - Black or African American',\n",
    "'Overall Homeless Individuals - Female',\n",
    "'Overall Homeless Individuals - Hispanic/Latino',\n",
    "'Overall Homeless Individuals - Male',\n",
    "'Overall Homeless Individuals - Multiple Races',\n",
    "'Overall Homeless Individuals - Native Hawaiian or Other Pacific Islander',\n",
    "'Overall Homeless Individuals - Non-Hispanic/Non-Latino',\n",
    "'Overall Homeless Individuals - Over 24',\n",
    "'Overall Homeless Individuals - Transgender',\n",
    "'Overall Homeless Individuals - Under 18',\n",
    "'Overall Homeless Individuals - White',\n",
    "'Overall Homeless Parenting Youth (Under 25)',\n",
    "'Overall Homeless Parenting Youth Age 18-24',\n",
    "'Overall Homeless Parenting Youth Under 18',\n",
    "'Overall Homeless People in Families',\n",
    "'Overall Homeless People in Families - Age 18 to 24',\n",
    "'Overall Homeless People in Families - American Indian or Alaska Native',\n",
    "'Overall Homeless People in Families - Asian',\n",
    "'Overall Homeless People in Families - Black or African American',\n",
    "'Overall Homeless People in Families - Female',\n",
    "'Overall Homeless People in Families - Hispanic/Latino',\n",
    "'Overall Homeless People in Families - Male',\n",
    "'Overall Homeless People in Families - Multiple Races',\n",
    "'Overall Homeless People in Families - Native Hawaiian or Other Pacific Islander',\n",
    "'Overall Homeless People in Families - Non-Hispanic/Non-Latino',\n",
    "'Overall Homeless People in Families - Over 24',\n",
    "'Overall Homeless People in Families - Transgender',\n",
    "'Overall Homeless People in Families - Under 18',\n",
    "'Overall Homeless People in Families - White',\n",
    "'Overall Homeless Unaccompanied Youth (Under 25)',\n",
    "'Overall Homeless Unaccompanied Youth Age 18-24',\n",
    "'Overall Homeless Unaccompanied Youth Under 18',\n",
    "'Overall Homeless Veterans',\n",
    "'Overall Homeless Veterans - American Indian or Alaska Native',\n",
    "'Overall Homeless Veterans - Asian',\n",
    "'Overall Homeless Veterans - Black or African American',\n",
    "'Overall Homeless Veterans - Female',\n",
    "'Overall Homeless Veterans - Hispanic/Latino',\n",
    "'Overall Homeless Veterans - Male',\n",
    "'Overall Homeless Veterans - Multiple Races',\n",
    "'Overall Homeless Veterans - Native Hawaiian or Other Pacific Islander',\n",
    "'Overall Homeless Veterans - Non-Hispanic/Non-Latino',\n",
    "'Overall Homeless Veterans - Transgender',\n",
    "'Overall Homeless Veterans - White',\n",
    "'Sheltered ES Chronically Homeless',\n",
    "'Sheltered ES Chronically Homeless Individuals',\n",
    "'Sheltered ES Chronically Homeless People in Families',\n",
    "'Sheltered ES Homeless',\n",
    "'Sheltered ES Homeless - Age 18 to 24',\n",
    "'Sheltered ES Homeless - American Indian or Alaska Native',\n",
    "'Sheltered ES Homeless - Asian',\n",
    "'Sheltered ES Homeless - Black or African American',\n",
    "'Sheltered ES Homeless - Female',\n",
    "'Sheltered ES Homeless - Hispanic/Latino',\n",
    "'Sheltered ES Homeless - Male',\n",
    "'Sheltered ES Homeless - Multiple Races',\n",
    "'Sheltered ES Homeless - Native Hawaiian or Other Pacific Islander',\n",
    "'Sheltered ES Homeless - Non-Hispanic/Non-Latino',\n",
    "'Sheltered ES Homeless - Over 24',\n",
    "'Sheltered ES Homeless - Transgender',\n",
    "'Sheltered ES Homeless - Under 18',\n",
    "'Sheltered ES Homeless - White',\n",
    "'Sheltered ES Homeless Children of Parenting Youth',\n",
    "'Sheltered ES Homeless Family Households',\n",
    "'Sheltered ES Homeless Individuals',\n",
    "'Sheltered ES Homeless Individuals - Age 18 to 24',\n",
    "'Sheltered ES Homeless Individuals - American Indian or Alaska Native',\n",
    "'Sheltered ES Homeless Individuals - Asian',\n",
    "'Sheltered ES Homeless Individuals - Black or African American',\n",
    "'Sheltered ES Homeless Individuals - Female',\n",
    "'Sheltered ES Homeless Individuals - Hispanic/Latino',\n",
    "'Sheltered ES Homeless Individuals - Male',\n",
    "'Sheltered ES Homeless Individuals - Multiple Races',\n",
    "'Sheltered ES Homeless Individuals - Native Hawaiian or Other Pacific Islander',\n",
    "'Sheltered ES Homeless Individuals - Non-Hispanic/Non-Latino',\n",
    "'Sheltered ES Homeless Individuals - Over 24',\n",
    "'Sheltered ES Homeless Individuals - Transgender',\n",
    "'Sheltered ES Homeless Individuals - Under 18',\n",
    "'Sheltered ES Homeless Individuals - White',\n",
    "'Sheltered ES Homeless Parenting Youth (Under 25)',\n",
    "'Sheltered ES Homeless Parenting Youth Age 18-24',\n",
    "'Sheltered ES Homeless Parenting Youth Under 18',\n",
    "'Sheltered ES Homeless People in Families',\n",
    "'Sheltered ES Homeless People in Families - Age 18 to 24',\n",
    "'Sheltered ES Homeless People in Families - American Indian or Alaska Native',\n",
    "'Sheltered ES Homeless People in Families - Asian',\n",
    "'Sheltered ES Homeless People in Families - Black or African American',\n",
    "'Sheltered ES Homeless People in Families - Female',\n",
    "'Sheltered ES Homeless People in Families - Hispanic/Latino',\n",
    "'Sheltered ES Homeless People in Families - Male',\n",
    "'Sheltered ES Homeless People in Families - Multiple Races',\n",
    "'Sheltered ES Homeless People in Families - Native Hawaiian or Other Pacific Islander',\n",
    "'Sheltered ES Homeless People in Families - Non-Hispanic/Non-Latino',\n",
    "'Sheltered ES Homeless People in Families - Over 24',\n",
    "'Sheltered ES Homeless People in Families - Transgender',\n",
    "'Sheltered ES Homeless People in Families - Under 18',\n",
    "'Sheltered ES Homeless People in Families - White',\n",
    "'Sheltered ES Homeless Unaccompanied Youth (Under 25)',\n",
    "'Sheltered ES Homeless Unaccompanied Youth Age 18-24',\n",
    "'Sheltered ES Homeless Unaccompanied Youth Under 18',\n",
    "'Sheltered ES Homeless Veterans',\n",
    "'Sheltered ES Homeless Veterans - American Indian or Alaska Native',\n",
    "'Sheltered ES Homeless Veterans - Asian',\n",
    "'Sheltered ES Homeless Veterans - Black or African American',\n",
    "'Sheltered ES Homeless Veterans - Female',\n",
    "'Sheltered ES Homeless Veterans - Hispanic/Latino',\n",
    "'Sheltered ES Homeless Veterans - Male',\n",
    "'Sheltered ES Homeless Veterans - Multiple Races',\n",
    "'Sheltered ES Homeless Veterans - Native Hawaiian or Other Pacific Islander',\n",
    "'Sheltered ES Homeless Veterans - Non-Hispanic/Non-Latino',\n",
    "'Sheltered ES Homeless Veterans - Transgender',\n",
    "'Sheltered ES Homeless Veterans - White',\n",
    "'Sheltered SH Chronically Homeless',\n",
    "'Sheltered SH Chronically Homeless Individuals',\n",
    "'Sheltered SH Homeless',\n",
    "'Sheltered SH Homeless - Age 18 to 24',\n",
    "'Sheltered SH Homeless - American Indian or Alaska Native',\n",
    "'Sheltered SH Homeless - Asian',\n",
    "'Sheltered SH Homeless - Black or African American',\n",
    "'Sheltered SH Homeless - Female',\n",
    "'Sheltered SH Homeless - Hispanic/Latino',\n",
    "'Sheltered SH Homeless - Male',\n",
    "'Sheltered SH Homeless - Multiple Races',\n",
    "'Sheltered SH Homeless - Native Hawaiian or Other Pacific Islander',\n",
    "'Sheltered SH Homeless - Non-Hispanic/Non-Latino',\n",
    "'Sheltered SH Homeless - Over 24',\n",
    "'Sheltered SH Homeless - Transgender',\n",
    "'Sheltered SH Homeless - White',\n",
    "'Sheltered SH Homeless Individuals',\n",
    "'Sheltered SH Homeless Individuals - Age 18 to 24',\n",
    "'Sheltered SH Homeless Individuals - American Indian or Alaska Native',\n",
    "'Sheltered SH Homeless Individuals - Asian',\n",
    "'Sheltered SH Homeless Individuals - Black or African American',\n",
    "'Sheltered SH Homeless Individuals - Female',\n",
    "'Sheltered SH Homeless Individuals - Hispanic/Latino',\n",
    "'Sheltered SH Homeless Individuals - Male',\n",
    "'Sheltered SH Homeless Individuals - Multiple Races',\n",
    "'Sheltered SH Homeless Individuals - Native Hawaiian or Other Pacific Islander',\n",
    "'Sheltered SH Homeless Individuals - Non-Hispanic/Non-Latino',\n",
    "'Sheltered SH Homeless Individuals - Over 24',\n",
    "'Sheltered SH Homeless Individuals - Transgender',\n",
    "'Sheltered SH Homeless Individuals - White',\n",
    "'Sheltered SH Homeless Unaccompanied Youth (Under 25)',\n",
    "'Sheltered SH Homeless Unaccompanied Youth Age 18-24',\n",
    "'Sheltered SH Homeless Veterans',\n",
    "'Sheltered SH Homeless Veterans - American Indian or Alaska Native',\n",
    "'Sheltered SH Homeless Veterans - Asian',\n",
    "'Sheltered SH Homeless Veterans - Black or African American',\n",
    "'Sheltered SH Homeless Veterans - Female',\n",
    "'Sheltered SH Homeless Veterans - Hispanic/Latino',\n",
    "'Sheltered SH Homeless Veterans - Male',\n",
    "'Sheltered SH Homeless Veterans - Multiple Races',\n",
    "'Sheltered SH Homeless Veterans - Native Hawaiian or Other Pacific Islander',\n",
    "'Sheltered SH Homeless Veterans - Non-Hispanic/Non-Latino',\n",
    "'Sheltered SH Homeless Veterans - Transgender',\n",
    "'Sheltered SH Homeless Veterans - White',\n",
    "'Sheltered TH Homeless',\n",
    "'Sheltered TH Homeless - Age 18 to 24',\n",
    "'Sheltered TH Homeless - American Indian or Alaska Native',\n",
    "'Sheltered TH Homeless - Asian',\n",
    "'Sheltered TH Homeless - Black or African American',\n",
    "'Sheltered TH Homeless - Female',\n",
    "'Sheltered TH Homeless - Hispanic/Latino',\n",
    "'Sheltered TH Homeless - Male',\n",
    "'Sheltered TH Homeless - Multiple Races',\n",
    "'Sheltered TH Homeless - Native Hawaiian or Other Pacific Islander',\n",
    "'Sheltered TH Homeless - Non-Hispanic/Non-Latino',\n",
    "'Sheltered TH Homeless - Over 24',\n",
    "'Sheltered TH Homeless - Transgender',\n",
    "'Sheltered TH Homeless - Under 18',\n",
    "'Sheltered TH Homeless - White',\n",
    "'Sheltered TH Homeless Children of Parenting Youth',\n",
    "'Sheltered TH Homeless Family Households',\n",
    "'Sheltered TH Homeless Individuals',\n",
    "'Sheltered TH Homeless Individuals - Age 18 to 24',\n",
    "'Sheltered TH Homeless Individuals - American Indian or Alaska Native',\n",
    "'Sheltered TH Homeless Individuals - Asian',\n",
    "'Sheltered TH Homeless Individuals - Black or African American',\n",
    "'Sheltered TH Homeless Individuals - Female',\n",
    "'Sheltered TH Homeless Individuals - Hispanic/Latino',\n",
    "'Sheltered TH Homeless Individuals - Male',\n",
    "'Sheltered TH Homeless Individuals - Multiple Races',\n",
    "'Sheltered TH Homeless Individuals - Native Hawaiian or Other Pacific Islander',\n",
    "'Sheltered TH Homeless Individuals - Non-Hispanic/Non-Latino',\n",
    "'Sheltered TH Homeless Individuals - Over 24',\n",
    "'Sheltered TH Homeless Individuals - Transgender',\n",
    "'Sheltered TH Homeless Individuals - Under 18',\n",
    "'Sheltered TH Homeless Individuals - White',\n",
    "'Sheltered TH Homeless Parenting Youth (Under 25)',\n",
    "'Sheltered TH Homeless Parenting Youth Age 18-24',\n",
    "'Sheltered TH Homeless Parenting Youth Under 18',\n",
    "'Sheltered TH Homeless People in Families',\n",
    "'Sheltered TH Homeless People in Families - Age 18 to 24',\n",
    "'Sheltered TH Homeless People in Families - American Indian or Alaska Native',\n",
    "'Sheltered TH Homeless People in Families - Asian',\n",
    "'Sheltered TH Homeless People in Families - Black or African American',\n",
    "'Sheltered TH Homeless People in Families - Female',\n",
    "'Sheltered TH Homeless People in Families - Hispanic/Latino',\n",
    "'Sheltered TH Homeless People in Families - Male',\n",
    "'Sheltered TH Homeless People in Families - Multiple Races',\n",
    "'Sheltered TH Homeless People in Families - Native Hawaiian or Other Pacific Islander',\n",
    "'Sheltered TH Homeless People in Families - Non-Hispanic/Non-Latino',\n",
    "'Sheltered TH Homeless People in Families - Over 24',\n",
    "'Sheltered TH Homeless People in Families - Transgender',\n",
    "'Sheltered TH Homeless People in Families - Under 18',\n",
    "'Sheltered TH Homeless People in Families - White',\n",
    "'Sheltered TH Homeless Unaccompanied Youth (Under 25)',\n",
    "'Sheltered TH Homeless Unaccompanied Youth Age 18-24',\n",
    "'Sheltered TH Homeless Unaccompanied Youth Under 18',\n",
    "'Sheltered TH Homeless Veterans',\n",
    "'Sheltered TH Homeless Veterans - American Indian or Alaska Native',\n",
    "'Sheltered TH Homeless Veterans - Asian',\n",
    "'Sheltered TH Homeless Veterans - Black or African American',\n",
    "'Sheltered TH Homeless Veterans - Female',\n",
    "'Sheltered TH Homeless Veterans - Hispanic/Latino',\n",
    "'Sheltered TH Homeless Veterans - Male',\n",
    "'Sheltered TH Homeless Veterans - Multiple Races',\n",
    "'Sheltered TH Homeless Veterans - Native Hawaiian or Other Pacific Islander',\n",
    "'Sheltered TH Homeless Veterans - Non-Hispanic/Non-Latino',\n",
    "'Sheltered TH Homeless Veterans - Transgender',\n",
    "'Sheltered TH Homeless Veterans - White',\n",
    "'Sheltered Total Chronically Homeless',\n",
    "'Sheltered Total Chronically Homeless Individuals',\n",
    "'Sheltered Total Chronically Homeless People in Families',\n",
    "'Sheltered Total Homeless',\n",
    "'Sheltered Total Homeless - Age 18 to 24',\n",
    "'Sheltered Total Homeless - American Indian or Alaska Native',\n",
    "'Sheltered Total Homeless - Asian',\n",
    "'Sheltered Total Homeless - Black or African American',\n",
    "'Sheltered Total Homeless - Female',\n",
    "'Sheltered Total Homeless - Hispanic/Latino',\n",
    "'Sheltered Total Homeless - Male',\n",
    "'Sheltered Total Homeless - Multiple Races',\n",
    "'Sheltered Total Homeless - Native Hawaiian or Other Pacific Islander',\n",
    "'Sheltered Total Homeless - Non-Hispanic/Non-Latino',\n",
    "'Sheltered Total Homeless - Over 24',\n",
    "'Sheltered Total Homeless - Transgender',\n",
    "'Sheltered Total Homeless - Under 18',\n",
    "'Sheltered Total Homeless - White',\n",
    "'Sheltered Total Homeless Children of Parenting Youth',\n",
    "'Sheltered Total Homeless Family Households',\n",
    "'Sheltered Total Homeless Individuals',\n",
    "'Sheltered Total Homeless Individuals - Age 18 to 24',\n",
    "'Sheltered Total Homeless Individuals - American Indian or Alaska Native',\n",
    "'Sheltered Total Homeless Individuals - Asian',\n",
    "'Sheltered Total Homeless Individuals - Black or African American',\n",
    "'Sheltered Total Homeless Individuals - Female',\n",
    "'Sheltered Total Homeless Individuals - Hispanic/Latino',\n",
    "'Sheltered Total Homeless Individuals - Male',\n",
    "'Sheltered Total Homeless Individuals - Multiple Races',\n",
    "'Sheltered Total Homeless Individuals - Native Hawaiian or Other Pacific Islander',\n",
    "'Sheltered Total Homeless Individuals - Non-Hispanic/Non-Latino',\n",
    "'Sheltered Total Homeless Individuals - Over 24',\n",
    "'Sheltered Total Homeless Individuals - Transgender',\n",
    "'Sheltered Total Homeless Individuals - Under 18',\n",
    "'Sheltered Total Homeless Individuals - White',\n",
    "'Sheltered Total Homeless Parenting Youth (Under 25)',\n",
    "'Sheltered Total Homeless Parenting Youth Age 18-24',\n",
    "'Sheltered Total Homeless Parenting Youth Under 18',\n",
    "'Sheltered Total Homeless People in Families',\n",
    "'Sheltered Total Homeless People in Families - Age 18 to 24',\n",
    "'Sheltered Total Homeless People in Families - American Indian or Alaska Native',\n",
    "'Sheltered Total Homeless People in Families - Asian',\n",
    "'Sheltered Total Homeless People in Families - Black or African American',\n",
    "'Sheltered Total Homeless People in Families - Female',\n",
    "'Sheltered Total Homeless People in Families - Hispanic/Latino',\n",
    "'Sheltered Total Homeless People in Families - Male',\n",
    "'Sheltered Total Homeless People in Families - Multiple Races',\n",
    "'Sheltered Total Homeless People in Families - Native Hawaiian or Other Pacific Islander',\n",
    "'Sheltered Total Homeless People in Families - Non-Hispanic/Non-Latino',\n",
    "'Sheltered Total Homeless People in Families - Over 24',\n",
    "'Sheltered Total Homeless People in Families - Transgender',\n",
    "'Sheltered Total Homeless People in Families - Under 18',\n",
    "'Sheltered Total Homeless People in Families - White',\n",
    "'Sheltered Total Homeless Unaccompanied Youth (Under 25)',\n",
    "'Sheltered Total Homeless Unaccompanied Youth Age 18-24',\n",
    "'Sheltered Total Homeless Unaccompanied Youth Under 18',\n",
    "'Sheltered Total Homeless Veterans',\n",
    "'Sheltered Total Homeless Veterans - American Indian or Alaska Native',\n",
    "'Sheltered Total Homeless Veterans - Asian',\n",
    "'Sheltered Total Homeless Veterans - Black or African American',\n",
    "'Sheltered Total Homeless Veterans - Female',\n",
    "'Sheltered Total Homeless Veterans - Hispanic/Latino',\n",
    "'Sheltered Total Homeless Veterans - Male',\n",
    "'Sheltered Total Homeless Veterans - Multiple Races',\n",
    "'Sheltered Total Homeless Veterans - Native Hawaiian or Other Pacific Islander',\n",
    "'Sheltered Total Homeless Veterans - Non-Hispanic/Non-Latino',\n",
    "'Sheltered Total Homeless Veterans - Transgender',\n",
    "'Sheltered Total Homeless Veterans - White',\n",
    "'Unsheltered Chronically Homeless',\n",
    "'Unsheltered Chronically Homeless Individuals',\n",
    "'Unsheltered Chronically Homeless People in Families',\n",
    "'Unsheltered Homeless',\n",
    "'Unsheltered Homeless - Age 18 to 24',\n",
    "'Unsheltered Homeless - American Indian or Alaska Native',\n",
    "'Unsheltered Homeless - Asian',\n",
    "'Unsheltered Homeless - Black or African American',\n",
    "'Unsheltered Homeless - Female',\n",
    "'Unsheltered Homeless - Hispanic/Latino',\n",
    "'Unsheltered Homeless - Male',\n",
    "'Unsheltered Homeless - Multiple Races',\n",
    "'Unsheltered Homeless - Native Hawaiian or Other Pacific Islander',\n",
    "'Unsheltered Homeless - Non-Hispanic/Non-Latino',\n",
    "'Unsheltered Homeless - Over 24',\n",
    "'Unsheltered Homeless - Transgender',\n",
    "'Unsheltered Homeless - Under 18',\n",
    "'Unsheltered Homeless - White',\n",
    "'Unsheltered Homeless Children of Parenting Youth',\n",
    "'Unsheltered Homeless Family Households',\n",
    "'Unsheltered Homeless Individuals',\n",
    "'Unsheltered Homeless Individuals - Age 18 to 24',\n",
    "'Unsheltered Homeless Individuals - American Indian or Alaska Native',\n",
    "'Unsheltered Homeless Individuals - Asian',\n",
    "'Unsheltered Homeless Individuals - Black or African American',\n",
    "'Unsheltered Homeless Individuals - Female',\n",
    "'Unsheltered Homeless Individuals - Hispanic/Latino',\n",
    "'Unsheltered Homeless Individuals - Male',\n",
    "'Unsheltered Homeless Individuals - Multiple Races',\n",
    "'Unsheltered Homeless Individuals - Native Hawaiian or Other Pacific Islander',\n",
    "'Unsheltered Homeless Individuals - Non-Hispanic/Non-Latino',\n",
    "'Unsheltered Homeless Individuals - Over 24',\n",
    "'Unsheltered Homeless Individuals - Transgender',\n",
    "'Unsheltered Homeless Individuals - Under 18',\n",
    "'Unsheltered Homeless Individuals - White',\n",
    "'Unsheltered Homeless Parenting Youth (Under 25)',\n",
    "'Unsheltered Homeless Parenting Youth Age 18-24',\n",
    "'Unsheltered Homeless Parenting Youth Under 18',\n",
    "'Unsheltered Homeless People in Families',\n",
    "'Unsheltered Homeless People in Families - Age 18 to 24',\n",
    "'Unsheltered Homeless People in Families - American Indian or Alaska Native',\n",
    "'Unsheltered Homeless People in Families - Asian',\n",
    "'Unsheltered Homeless People in Families - Black or African American',\n",
    "'Unsheltered Homeless People in Families - Female',\n",
    "'Unsheltered Homeless People in Families - Hispanic/Latino',\n",
    "'Unsheltered Homeless People in Families - Male',\n",
    "'Unsheltered Homeless People in Families - Multiple Races',\n",
    "'Unsheltered Homeless People in Families - Native Hawaiian or Other Pacific Islander',\n",
    "'Unsheltered Homeless People in Families - Non-Hispanic/Non-Latino',\n",
    "'Unsheltered Homeless People in Families - Over 24',\n",
    "'Unsheltered Homeless People in Families - Transgender',\n",
    "'Unsheltered Homeless People in Families - Under 18',\n",
    "'Unsheltered Homeless People in Families - White',\n",
    "'Unsheltered Homeless Unaccompanied Youth (Under 25)',\n",
    "'Unsheltered Homeless Unaccompanied Youth Age 18-24',\n",
    "'Unsheltered Homeless Unaccompanied Youth Under 18',\n",
    "'Unsheltered Homeless Veterans',\n",
    "'Unsheltered Homeless Veterans - American Indian or Alaska Native',\n",
    "'Unsheltered Homeless Veterans - Asian',\n",
    "'Unsheltered Homeless Veterans - Black or African American',\n",
    "'Unsheltered Homeless Veterans - Female',\n",
    "'Unsheltered Homeless Veterans - Hispanic/Latino',\n",
    "'Unsheltered Homeless Veterans - Male',\n",
    "'Unsheltered Homeless Veterans - Multiple Races',\n",
    "'Unsheltered Homeless Veterans - Native Hawaiian or Other Pacific Islander',\n",
    "'Unsheltered Homeless Veterans - Non-Hispanic/Non-Latino',\n",
    "'Unsheltered Homeless Veterans - Transgender',\n",
    "'Unsheltered Homeless Veterans - White',\n",
    "'state',\n",
    "'unsheltered rate',\n",
    "'year']"
   ]
  },
  {
   "cell_type": "code",
   "execution_count": 3,
   "metadata": {},
   "outputs": [
    {
     "output_type": "execute_result",
     "data": {
      "text/plain": [
       "386"
      ]
     },
     "metadata": {},
     "execution_count": 3
    }
   ],
   "source": [
    "len(cols)"
   ]
  },
  {
   "cell_type": "code",
   "execution_count": 5,
   "metadata": {},
   "outputs": [],
   "source": [
    "PIT_2012 = pd.read_csv(\"../data/2007-2020-PIT-Estimates-by-CoC/2012-Table 1.csv\")\n",
    "\n",
    "h = homeless(PIT_2012, 2012)\n",
    "h.rename_columns()\n",
    "h.format_df()\n",
    "PIT_2012 = h.strip_columns(cols)"
   ]
  },
  {
   "cell_type": "code",
   "execution_count": 6,
   "metadata": {
    "tags": []
   },
   "outputs": [],
   "source": [
    "PIT_2013 = pd.read_csv(\"../data/2007-2020-PIT-Estimates-by-CoC/2013-Table 1.csv\")\n",
    "\n",
    "h = homeless(PIT_2013, 2013)\n",
    "h.rename_columns()\n",
    "h.format_df()\n",
    "PIT_2013 = h.strip_columns(cols)\n",
    "#PIT_2013"
   ]
  },
  {
   "cell_type": "code",
   "execution_count": 7,
   "metadata": {},
   "outputs": [
    {
     "output_type": "execute_result",
     "data": {
      "text/plain": [
       "49"
      ]
     },
     "metadata": {},
     "execution_count": 7
    }
   ],
   "source": [
    "PIT_2014 = pd.read_csv(\"../data/2007-2020-PIT-Estimates-by-CoC/2014-Table 1.csv\")\n",
    "\n",
    "h = homeless(PIT_2014, 2014)\n",
    "h.rename_columns()\n",
    "h.format_df()\n",
    "PIT_2014 = h.strip_columns(cols)\n",
    "len(PIT_2014.columns)"
   ]
  },
  {
   "cell_type": "code",
   "execution_count": 4,
   "metadata": {},
   "outputs": [
    {
     "output_type": "execute_result",
     "data": {
      "text/plain": [
       "''"
      ]
     },
     "metadata": {},
     "execution_count": 4
    }
   ],
   "source": [
    "PIT_2015 = pd.read_csv(\"../data/2007-2020-PIT-Estimates-by-CoC/2015-Table 1.csv\")\n",
    "\n",
    "h = homeless(PIT_2015, 2015)\n",
    "h.rename_columns()\n",
    "h.format_df()\n",
    "PIT_2015 = h.strip_columns(cols)\n",
    "#PIT_2015\n",
    ";"
   ]
  },
  {
   "cell_type": "code",
   "execution_count": 5,
   "metadata": {},
   "outputs": [
    {
     "output_type": "execute_result",
     "data": {
      "text/plain": [
       "''"
      ]
     },
     "metadata": {},
     "execution_count": 5
    }
   ],
   "source": [
    "PIT_2016 = pd.read_csv(\"../data/2007-2020-PIT-Estimates-by-CoC/2016-Table 1.csv\")\n",
    "\n",
    "h = homeless(PIT_2016, 2016)\n",
    "h.rename_columns()\n",
    "h.format_df()\n",
    "PIT_2016 = h.strip_columns(cols)\n",
    "#PIT_2016\n",
    ";"
   ]
  },
  {
   "cell_type": "code",
   "execution_count": 6,
   "metadata": {},
   "outputs": [
    {
     "output_type": "execute_result",
     "data": {
      "text/plain": [
       "''"
      ]
     },
     "metadata": {},
     "execution_count": 6
    }
   ],
   "source": [
    "PIT_2017 = pd.read_csv(\"../data/2007-2020-PIT-Estimates-by-CoC/2017-Table 1.csv\")\n",
    "\n",
    "h = homeless(PIT_2017, 2017)\n",
    "h.rename_columns()\n",
    "h.format_df()\n",
    "PIT_2017 = h.strip_columns(cols)\n",
    "#PIT_2017\n",
    ";"
   ]
  },
  {
   "cell_type": "code",
   "execution_count": 7,
   "metadata": {},
   "outputs": [
    {
     "output_type": "execute_result",
     "data": {
      "text/plain": [
       "''"
      ]
     },
     "metadata": {},
     "execution_count": 7
    }
   ],
   "source": [
    "PIT_2018 = pd.read_csv(\"../data/2007-2020-PIT-Estimates-by-CoC/2018-Table 1.csv\")\n",
    "\n",
    "h = homeless(PIT_2018, 2018)\n",
    "h.rename_columns()\n",
    "h.format_df()\n",
    "PIT_2018 = h.strip_columns(cols)\n",
    "#PIT_2018\n",
    ";"
   ]
  },
  {
   "cell_type": "code",
   "execution_count": 8,
   "metadata": {},
   "outputs": [
    {
     "output_type": "execute_result",
     "data": {
      "text/plain": [
       "''"
      ]
     },
     "metadata": {},
     "execution_count": 8
    }
   ],
   "source": [
    "PIT_2019 = pd.read_csv(\"../data/2007-2020-PIT-Estimates-by-CoC/2019-Table 1.csv\")\n",
    "\n",
    "h = homeless(PIT_2019, 2019)\n",
    "h.rename_columns()\n",
    "h.format_df()\n",
    "PIT_2019 = h.strip_columns(cols)\n",
    "#PIT_2019\n",
    ";"
   ]
  },
  {
   "cell_type": "code",
   "execution_count": 9,
   "metadata": {},
   "outputs": [
    {
     "output_type": "execute_result",
     "data": {
      "text/plain": [
       "''"
      ]
     },
     "metadata": {},
     "execution_count": 9
    }
   ],
   "source": [
    "PIT_2020 = pd.read_csv(\"../data/2007-2020-PIT-Estimates-by-CoC/2020-Table 1.csv\").drop(\"CoC Category\", axis=1)\n",
    "\n",
    "h = homeless(PIT_2020, 2020)\n",
    "h.rename_columns()\n",
    "h.format_df()\n",
    "PIT_2020 = h.strip_columns(cols)\n",
    "#PIT_2020\n",
    ";"
   ]
  },
  {
   "cell_type": "code",
   "execution_count": 10,
   "metadata": {},
   "outputs": [],
   "source": [
    "PITs = [PIT_2015, PIT_2016, PIT_2017, PIT_2018, PIT_2019, PIT_2020]"
   ]
  },
  {
   "source": [
    "# Find features in common among all daataframes\n",
    "from functools import reduce\n",
    "a = reduce(np.intersect1d, [i.columns for i in PITs])\n",
    "#a = np.intersect1d(PITs[0].columns, [i.columns for i in PITs[1:]])\n",
    "print(len(a))\n",
    "\n",
    "for i in a:\n",
    "    print(f\"'{i}',\")"
   ],
   "cell_type": "code",
   "metadata": {
    "tags": []
   },
   "execution_count": 41,
   "outputs": [
    {
     "output_type": "stream",
     "name": "stdout",
     "text": [
      "386\n'CoC Name',\n'CoC Number',\n'Overall Chronically Homeless',\n'Overall Chronically Homeless Individuals',\n'Overall Chronically Homeless People in Families',\n'Overall Homeless',\n'Overall Homeless - Age 18 to 24',\n'Overall Homeless - American Indian or Alaska Native',\n'Overall Homeless - Asian',\n'Overall Homeless - Black or African American',\n'Overall Homeless - Female',\n'Overall Homeless - Hispanic/Latino',\n'Overall Homeless - Male',\n'Overall Homeless - Multiple Races',\n'Overall Homeless - Native Hawaiian or Other Pacific Islander',\n'Overall Homeless - Non-Hispanic/Non-Latino',\n'Overall Homeless - Over 24',\n'Overall Homeless - Transgender',\n'Overall Homeless - Under 18',\n'Overall Homeless - White',\n'Overall Homeless Children of Parenting Youth',\n'Overall Homeless Family Households',\n'Overall Homeless Individuals',\n'Overall Homeless Individuals - Age 18 to 24',\n'Overall Homeless Individuals - American Indian or Alaska Native',\n'Overall Homeless Individuals - Asian',\n'Overall Homeless Individuals - Black or African American',\n'Overall Homeless Individuals - Female',\n'Overall Homeless Individuals - Hispanic/Latino',\n'Overall Homeless Individuals - Male',\n'Overall Homeless Individuals - Multiple Races',\n'Overall Homeless Individuals - Native Hawaiian or Other Pacific Islander',\n'Overall Homeless Individuals - Non-Hispanic/Non-Latino',\n'Overall Homeless Individuals - Over 24',\n'Overall Homeless Individuals - Transgender',\n'Overall Homeless Individuals - Under 18',\n'Overall Homeless Individuals - White',\n'Overall Homeless Parenting Youth (Under 25)',\n'Overall Homeless Parenting Youth Age 18-24',\n'Overall Homeless Parenting Youth Under 18',\n'Overall Homeless People in Families',\n'Overall Homeless People in Families - Age 18 to 24',\n'Overall Homeless People in Families - American Indian or Alaska Native',\n'Overall Homeless People in Families - Asian',\n'Overall Homeless People in Families - Black or African American',\n'Overall Homeless People in Families - Female',\n'Overall Homeless People in Families - Hispanic/Latino',\n'Overall Homeless People in Families - Male',\n'Overall Homeless People in Families - Multiple Races',\n'Overall Homeless People in Families - Native Hawaiian or Other Pacific Islander',\n'Overall Homeless People in Families - Non-Hispanic/Non-Latino',\n'Overall Homeless People in Families - Over 24',\n'Overall Homeless People in Families - Transgender',\n'Overall Homeless People in Families - Under 18',\n'Overall Homeless People in Families - White',\n'Overall Homeless Unaccompanied Youth (Under 25)',\n'Overall Homeless Unaccompanied Youth Age 18-24',\n'Overall Homeless Unaccompanied Youth Under 18',\n'Overall Homeless Veterans',\n'Overall Homeless Veterans - American Indian or Alaska Native',\n'Overall Homeless Veterans - Asian',\n'Overall Homeless Veterans - Black or African American',\n'Overall Homeless Veterans - Female',\n'Overall Homeless Veterans - Hispanic/Latino',\n'Overall Homeless Veterans - Male',\n'Overall Homeless Veterans - Multiple Races',\n'Overall Homeless Veterans - Native Hawaiian or Other Pacific Islander',\n'Overall Homeless Veterans - Non-Hispanic/Non-Latino',\n'Overall Homeless Veterans - Transgender',\n'Overall Homeless Veterans - White',\n'Sheltered ES Chronically Homeless',\n'Sheltered ES Chronically Homeless Individuals',\n'Sheltered ES Chronically Homeless People in Families',\n'Sheltered ES Homeless',\n'Sheltered ES Homeless - Age 18 to 24',\n'Sheltered ES Homeless - American Indian or Alaska Native',\n'Sheltered ES Homeless - Asian',\n'Sheltered ES Homeless - Black or African American',\n'Sheltered ES Homeless - Female',\n'Sheltered ES Homeless - Hispanic/Latino',\n'Sheltered ES Homeless - Male',\n'Sheltered ES Homeless - Multiple Races',\n'Sheltered ES Homeless - Native Hawaiian or Other Pacific Islander',\n'Sheltered ES Homeless - Non-Hispanic/Non-Latino',\n'Sheltered ES Homeless - Over 24',\n'Sheltered ES Homeless - Transgender',\n'Sheltered ES Homeless - Under 18',\n'Sheltered ES Homeless - White',\n'Sheltered ES Homeless Children of Parenting Youth',\n'Sheltered ES Homeless Family Households',\n'Sheltered ES Homeless Individuals',\n'Sheltered ES Homeless Individuals - Age 18 to 24',\n'Sheltered ES Homeless Individuals - American Indian or Alaska Native',\n'Sheltered ES Homeless Individuals - Asian',\n'Sheltered ES Homeless Individuals - Black or African American',\n'Sheltered ES Homeless Individuals - Female',\n'Sheltered ES Homeless Individuals - Hispanic/Latino',\n'Sheltered ES Homeless Individuals - Male',\n'Sheltered ES Homeless Individuals - Multiple Races',\n'Sheltered ES Homeless Individuals - Native Hawaiian or Other Pacific Islander',\n'Sheltered ES Homeless Individuals - Non-Hispanic/Non-Latino',\n'Sheltered ES Homeless Individuals - Over 24',\n'Sheltered ES Homeless Individuals - Transgender',\n'Sheltered ES Homeless Individuals - Under 18',\n'Sheltered ES Homeless Individuals - White',\n'Sheltered ES Homeless Parenting Youth (Under 25)',\n'Sheltered ES Homeless Parenting Youth Age 18-24',\n'Sheltered ES Homeless Parenting Youth Under 18',\n'Sheltered ES Homeless People in Families',\n'Sheltered ES Homeless People in Families - Age 18 to 24',\n'Sheltered ES Homeless People in Families - American Indian or Alaska Native',\n'Sheltered ES Homeless People in Families - Asian',\n'Sheltered ES Homeless People in Families - Black or African American',\n'Sheltered ES Homeless People in Families - Female',\n'Sheltered ES Homeless People in Families - Hispanic/Latino',\n'Sheltered ES Homeless People in Families - Male',\n'Sheltered ES Homeless People in Families - Multiple Races',\n'Sheltered ES Homeless People in Families - Native Hawaiian or Other Pacific Islander',\n'Sheltered ES Homeless People in Families - Non-Hispanic/Non-Latino',\n'Sheltered ES Homeless People in Families - Over 24',\n'Sheltered ES Homeless People in Families - Transgender',\n'Sheltered ES Homeless People in Families - Under 18',\n'Sheltered ES Homeless People in Families - White',\n'Sheltered ES Homeless Unaccompanied Youth (Under 25)',\n'Sheltered ES Homeless Unaccompanied Youth Age 18-24',\n'Sheltered ES Homeless Unaccompanied Youth Under 18',\n'Sheltered ES Homeless Veterans',\n'Sheltered ES Homeless Veterans - American Indian or Alaska Native',\n'Sheltered ES Homeless Veterans - Asian',\n'Sheltered ES Homeless Veterans - Black or African American',\n'Sheltered ES Homeless Veterans - Female',\n'Sheltered ES Homeless Veterans - Hispanic/Latino',\n'Sheltered ES Homeless Veterans - Male',\n'Sheltered ES Homeless Veterans - Multiple Races',\n'Sheltered ES Homeless Veterans - Native Hawaiian or Other Pacific Islander',\n'Sheltered ES Homeless Veterans - Non-Hispanic/Non-Latino',\n'Sheltered ES Homeless Veterans - Transgender',\n'Sheltered ES Homeless Veterans - White',\n'Sheltered SH Chronically Homeless',\n'Sheltered SH Chronically Homeless Individuals',\n'Sheltered SH Homeless',\n'Sheltered SH Homeless - Age 18 to 24',\n'Sheltered SH Homeless - American Indian or Alaska Native',\n'Sheltered SH Homeless - Asian',\n'Sheltered SH Homeless - Black or African American',\n'Sheltered SH Homeless - Female',\n'Sheltered SH Homeless - Hispanic/Latino',\n'Sheltered SH Homeless - Male',\n'Sheltered SH Homeless - Multiple Races',\n'Sheltered SH Homeless - Native Hawaiian or Other Pacific Islander',\n'Sheltered SH Homeless - Non-Hispanic/Non-Latino',\n'Sheltered SH Homeless - Over 24',\n'Sheltered SH Homeless - Transgender',\n'Sheltered SH Homeless - White',\n'Sheltered SH Homeless Individuals',\n'Sheltered SH Homeless Individuals - Age 18 to 24',\n'Sheltered SH Homeless Individuals - American Indian or Alaska Native',\n'Sheltered SH Homeless Individuals - Asian',\n'Sheltered SH Homeless Individuals - Black or African American',\n'Sheltered SH Homeless Individuals - Female',\n'Sheltered SH Homeless Individuals - Hispanic/Latino',\n'Sheltered SH Homeless Individuals - Male',\n'Sheltered SH Homeless Individuals - Multiple Races',\n'Sheltered SH Homeless Individuals - Native Hawaiian or Other Pacific Islander',\n'Sheltered SH Homeless Individuals - Non-Hispanic/Non-Latino',\n'Sheltered SH Homeless Individuals - Over 24',\n'Sheltered SH Homeless Individuals - Transgender',\n'Sheltered SH Homeless Individuals - White',\n'Sheltered SH Homeless Unaccompanied Youth (Under 25)',\n'Sheltered SH Homeless Unaccompanied Youth Age 18-24',\n'Sheltered SH Homeless Veterans',\n'Sheltered SH Homeless Veterans - American Indian or Alaska Native',\n'Sheltered SH Homeless Veterans - Asian',\n'Sheltered SH Homeless Veterans - Black or African American',\n'Sheltered SH Homeless Veterans - Female',\n'Sheltered SH Homeless Veterans - Hispanic/Latino',\n'Sheltered SH Homeless Veterans - Male',\n'Sheltered SH Homeless Veterans - Multiple Races',\n'Sheltered SH Homeless Veterans - Native Hawaiian or Other Pacific Islander',\n'Sheltered SH Homeless Veterans - Non-Hispanic/Non-Latino',\n'Sheltered SH Homeless Veterans - Transgender',\n'Sheltered SH Homeless Veterans - White',\n'Sheltered TH Homeless',\n'Sheltered TH Homeless - Age 18 to 24',\n'Sheltered TH Homeless - American Indian or Alaska Native',\n'Sheltered TH Homeless - Asian',\n'Sheltered TH Homeless - Black or African American',\n'Sheltered TH Homeless - Female',\n'Sheltered TH Homeless - Hispanic/Latino',\n'Sheltered TH Homeless - Male',\n'Sheltered TH Homeless - Multiple Races',\n'Sheltered TH Homeless - Native Hawaiian or Other Pacific Islander',\n'Sheltered TH Homeless - Non-Hispanic/Non-Latino',\n'Sheltered TH Homeless - Over 24',\n'Sheltered TH Homeless - Transgender',\n'Sheltered TH Homeless - Under 18',\n'Sheltered TH Homeless - White',\n'Sheltered TH Homeless Children of Parenting Youth',\n'Sheltered TH Homeless Family Households',\n'Sheltered TH Homeless Individuals',\n'Sheltered TH Homeless Individuals - Age 18 to 24',\n'Sheltered TH Homeless Individuals - American Indian or Alaska Native',\n'Sheltered TH Homeless Individuals - Asian',\n'Sheltered TH Homeless Individuals - Black or African American',\n'Sheltered TH Homeless Individuals - Female',\n'Sheltered TH Homeless Individuals - Hispanic/Latino',\n'Sheltered TH Homeless Individuals - Male',\n'Sheltered TH Homeless Individuals - Multiple Races',\n'Sheltered TH Homeless Individuals - Native Hawaiian or Other Pacific Islander',\n'Sheltered TH Homeless Individuals - Non-Hispanic/Non-Latino',\n'Sheltered TH Homeless Individuals - Over 24',\n'Sheltered TH Homeless Individuals - Transgender',\n'Sheltered TH Homeless Individuals - Under 18',\n'Sheltered TH Homeless Individuals - White',\n'Sheltered TH Homeless Parenting Youth (Under 25)',\n'Sheltered TH Homeless Parenting Youth Age 18-24',\n'Sheltered TH Homeless Parenting Youth Under 18',\n'Sheltered TH Homeless People in Families',\n'Sheltered TH Homeless People in Families - Age 18 to 24',\n'Sheltered TH Homeless People in Families - American Indian or Alaska Native',\n'Sheltered TH Homeless People in Families - Asian',\n'Sheltered TH Homeless People in Families - Black or African American',\n'Sheltered TH Homeless People in Families - Female',\n'Sheltered TH Homeless People in Families - Hispanic/Latino',\n'Sheltered TH Homeless People in Families - Male',\n'Sheltered TH Homeless People in Families - Multiple Races',\n'Sheltered TH Homeless People in Families - Native Hawaiian or Other Pacific Islander',\n'Sheltered TH Homeless People in Families - Non-Hispanic/Non-Latino',\n'Sheltered TH Homeless People in Families - Over 24',\n'Sheltered TH Homeless People in Families - Transgender',\n'Sheltered TH Homeless People in Families - Under 18',\n'Sheltered TH Homeless People in Families - White',\n'Sheltered TH Homeless Unaccompanied Youth (Under 25)',\n'Sheltered TH Homeless Unaccompanied Youth Age 18-24',\n'Sheltered TH Homeless Unaccompanied Youth Under 18',\n'Sheltered TH Homeless Veterans',\n'Sheltered TH Homeless Veterans - American Indian or Alaska Native',\n'Sheltered TH Homeless Veterans - Asian',\n'Sheltered TH Homeless Veterans - Black or African American',\n'Sheltered TH Homeless Veterans - Female',\n'Sheltered TH Homeless Veterans - Hispanic/Latino',\n'Sheltered TH Homeless Veterans - Male',\n'Sheltered TH Homeless Veterans - Multiple Races',\n'Sheltered TH Homeless Veterans - Native Hawaiian or Other Pacific Islander',\n'Sheltered TH Homeless Veterans - Non-Hispanic/Non-Latino',\n'Sheltered TH Homeless Veterans - Transgender',\n'Sheltered TH Homeless Veterans - White',\n'Sheltered Total Chronically Homeless',\n'Sheltered Total Chronically Homeless Individuals',\n'Sheltered Total Chronically Homeless People in Families',\n'Sheltered Total Homeless',\n'Sheltered Total Homeless - Age 18 to 24',\n'Sheltered Total Homeless - American Indian or Alaska Native',\n'Sheltered Total Homeless - Asian',\n'Sheltered Total Homeless - Black or African American',\n'Sheltered Total Homeless - Female',\n'Sheltered Total Homeless - Hispanic/Latino',\n'Sheltered Total Homeless - Male',\n'Sheltered Total Homeless - Multiple Races',\n'Sheltered Total Homeless - Native Hawaiian or Other Pacific Islander',\n'Sheltered Total Homeless - Non-Hispanic/Non-Latino',\n'Sheltered Total Homeless - Over 24',\n'Sheltered Total Homeless - Transgender',\n'Sheltered Total Homeless - Under 18',\n'Sheltered Total Homeless - White',\n'Sheltered Total Homeless Children of Parenting Youth',\n'Sheltered Total Homeless Family Households',\n'Sheltered Total Homeless Individuals',\n'Sheltered Total Homeless Individuals - Age 18 to 24',\n'Sheltered Total Homeless Individuals - American Indian or Alaska Native',\n'Sheltered Total Homeless Individuals - Asian',\n'Sheltered Total Homeless Individuals - Black or African American',\n'Sheltered Total Homeless Individuals - Female',\n'Sheltered Total Homeless Individuals - Hispanic/Latino',\n'Sheltered Total Homeless Individuals - Male',\n'Sheltered Total Homeless Individuals - Multiple Races',\n'Sheltered Total Homeless Individuals - Native Hawaiian or Other Pacific Islander',\n'Sheltered Total Homeless Individuals - Non-Hispanic/Non-Latino',\n'Sheltered Total Homeless Individuals - Over 24',\n'Sheltered Total Homeless Individuals - Transgender',\n'Sheltered Total Homeless Individuals - Under 18',\n'Sheltered Total Homeless Individuals - White',\n'Sheltered Total Homeless Parenting Youth (Under 25)',\n'Sheltered Total Homeless Parenting Youth Age 18-24',\n'Sheltered Total Homeless Parenting Youth Under 18',\n'Sheltered Total Homeless People in Families',\n'Sheltered Total Homeless People in Families - Age 18 to 24',\n'Sheltered Total Homeless People in Families - American Indian or Alaska Native',\n'Sheltered Total Homeless People in Families - Asian',\n'Sheltered Total Homeless People in Families - Black or African American',\n'Sheltered Total Homeless People in Families - Female',\n'Sheltered Total Homeless People in Families - Hispanic/Latino',\n'Sheltered Total Homeless People in Families - Male',\n'Sheltered Total Homeless People in Families - Multiple Races',\n'Sheltered Total Homeless People in Families - Native Hawaiian or Other Pacific Islander',\n'Sheltered Total Homeless People in Families - Non-Hispanic/Non-Latino',\n'Sheltered Total Homeless People in Families - Over 24',\n'Sheltered Total Homeless People in Families - Transgender',\n'Sheltered Total Homeless People in Families - Under 18',\n'Sheltered Total Homeless People in Families - White',\n'Sheltered Total Homeless Unaccompanied Youth (Under 25)',\n'Sheltered Total Homeless Unaccompanied Youth Age 18-24',\n'Sheltered Total Homeless Unaccompanied Youth Under 18',\n'Sheltered Total Homeless Veterans',\n'Sheltered Total Homeless Veterans - American Indian or Alaska Native',\n'Sheltered Total Homeless Veterans - Asian',\n'Sheltered Total Homeless Veterans - Black or African American',\n'Sheltered Total Homeless Veterans - Female',\n'Sheltered Total Homeless Veterans - Hispanic/Latino',\n'Sheltered Total Homeless Veterans - Male',\n'Sheltered Total Homeless Veterans - Multiple Races',\n'Sheltered Total Homeless Veterans - Native Hawaiian or Other Pacific Islander',\n'Sheltered Total Homeless Veterans - Non-Hispanic/Non-Latino',\n'Sheltered Total Homeless Veterans - Transgender',\n'Sheltered Total Homeless Veterans - White',\n'Unsheltered Chronically Homeless',\n'Unsheltered Chronically Homeless Individuals',\n'Unsheltered Chronically Homeless People in Families',\n'Unsheltered Homeless',\n'Unsheltered Homeless - Age 18 to 24',\n'Unsheltered Homeless - American Indian or Alaska Native',\n'Unsheltered Homeless - Asian',\n'Unsheltered Homeless - Black or African American',\n'Unsheltered Homeless - Female',\n'Unsheltered Homeless - Hispanic/Latino',\n'Unsheltered Homeless - Male',\n'Unsheltered Homeless - Multiple Races',\n'Unsheltered Homeless - Native Hawaiian or Other Pacific Islander',\n'Unsheltered Homeless - Non-Hispanic/Non-Latino',\n'Unsheltered Homeless - Over 24',\n'Unsheltered Homeless - Transgender',\n'Unsheltered Homeless - Under 18',\n'Unsheltered Homeless - White',\n'Unsheltered Homeless Children of Parenting Youth',\n'Unsheltered Homeless Family Households',\n'Unsheltered Homeless Individuals',\n'Unsheltered Homeless Individuals - Age 18 to 24',\n'Unsheltered Homeless Individuals - American Indian or Alaska Native',\n'Unsheltered Homeless Individuals - Asian',\n'Unsheltered Homeless Individuals - Black or African American',\n'Unsheltered Homeless Individuals - Female',\n'Unsheltered Homeless Individuals - Hispanic/Latino',\n'Unsheltered Homeless Individuals - Male',\n'Unsheltered Homeless Individuals - Multiple Races',\n'Unsheltered Homeless Individuals - Native Hawaiian or Other Pacific Islander',\n'Unsheltered Homeless Individuals - Non-Hispanic/Non-Latino',\n'Unsheltered Homeless Individuals - Over 24',\n'Unsheltered Homeless Individuals - Transgender',\n'Unsheltered Homeless Individuals - Under 18',\n'Unsheltered Homeless Individuals - White',\n'Unsheltered Homeless Parenting Youth (Under 25)',\n'Unsheltered Homeless Parenting Youth Age 18-24',\n'Unsheltered Homeless Parenting Youth Under 18',\n'Unsheltered Homeless People in Families',\n'Unsheltered Homeless People in Families - Age 18 to 24',\n'Unsheltered Homeless People in Families - American Indian or Alaska Native',\n'Unsheltered Homeless People in Families - Asian',\n'Unsheltered Homeless People in Families - Black or African American',\n'Unsheltered Homeless People in Families - Female',\n'Unsheltered Homeless People in Families - Hispanic/Latino',\n'Unsheltered Homeless People in Families - Male',\n'Unsheltered Homeless People in Families - Multiple Races',\n'Unsheltered Homeless People in Families - Native Hawaiian or Other Pacific Islander',\n'Unsheltered Homeless People in Families - Non-Hispanic/Non-Latino',\n'Unsheltered Homeless People in Families - Over 24',\n'Unsheltered Homeless People in Families - Transgender',\n'Unsheltered Homeless People in Families - Under 18',\n'Unsheltered Homeless People in Families - White',\n'Unsheltered Homeless Unaccompanied Youth (Under 25)',\n'Unsheltered Homeless Unaccompanied Youth Age 18-24',\n'Unsheltered Homeless Unaccompanied Youth Under 18',\n'Unsheltered Homeless Veterans',\n'Unsheltered Homeless Veterans - American Indian or Alaska Native',\n'Unsheltered Homeless Veterans - Asian',\n'Unsheltered Homeless Veterans - Black or African American',\n'Unsheltered Homeless Veterans - Female',\n'Unsheltered Homeless Veterans - Hispanic/Latino',\n'Unsheltered Homeless Veterans - Male',\n'Unsheltered Homeless Veterans - Multiple Races',\n'Unsheltered Homeless Veterans - Native Hawaiian or Other Pacific Islander',\n'Unsheltered Homeless Veterans - Non-Hispanic/Non-Latino',\n'Unsheltered Homeless Veterans - Transgender',\n'Unsheltered Homeless Veterans - White',\n'state',\n'unsheltered rate',\n'year',\n"
     ]
    }
   ]
  },
  {
   "cell_type": "code",
   "execution_count": 11,
   "metadata": {},
   "outputs": [
    {
     "output_type": "stream",
     "name": "stdout",
     "text": [
      "386\n386\n386\n386\n386\n386\n"
     ]
    }
   ],
   "source": [
    "for i in PITs:\n",
    "    print(len(i.columns))"
   ]
  },
  {
   "cell_type": "code",
   "execution_count": 12,
   "metadata": {},
   "outputs": [],
   "source": [
    "PIT_df = pd.concat(PITs).dropna()"
   ]
  },
  {
   "cell_type": "code",
   "execution_count": 16,
   "metadata": {},
   "outputs": [
    {
     "output_type": "execute_result",
     "data": {
      "text/plain": [
       "    CoC Number                                           CoC Name  \\\n",
       "0       AK-500                                      Anchorage CoC   \n",
       "1       AK-501                        Alaska Balance of State CoC   \n",
       "2       AL-500  Birmingham/Jefferson St. Clair Shelby Counties...   \n",
       "3       AL-501            Mobile City & County/Baldwin County CoC   \n",
       "4       AL-502                     Florence/Northwest Alabama CoC   \n",
       "..         ...                                                ...   \n",
       "387     WV-500                          Wheeling Weirton Area CoC   \n",
       "388     WV-501               Huntington/Cabell Wayne Counties CoC   \n",
       "389     WV-503  Charleston/Kanawha Putnam Boone Clay Counties CoC   \n",
       "390     WV-508                 West Virginia Balance of State CoC   \n",
       "391     WY-500                              Wyoming Statewide CoC   \n",
       "\n",
       "     Overall Homeless Overall Homeless - Under 18  \\\n",
       "0              1208.0                         258   \n",
       "1               748.0                         153   \n",
       "2              1153.0                         181   \n",
       "3               578.0                          72   \n",
       "4               245.0                          56   \n",
       "..                ...                         ...   \n",
       "387             129.0                          11   \n",
       "388             194.0                          17   \n",
       "389             294.0                          31   \n",
       "390             724.0                          63   \n",
       "391             612.0                         143   \n",
       "\n",
       "    Overall Homeless - Age 18 to 24 Overall Homeless - Over 24  \\\n",
       "0                               128                        822   \n",
       "1                                69                        526   \n",
       "2                                89                        883   \n",
       "3                                36                        470   \n",
       "4                                 5                        184   \n",
       "..                              ...                        ...   \n",
       "387                              18                        100   \n",
       "388                              14                        163   \n",
       "389                              20                        243   \n",
       "390                              63                        598   \n",
       "391                              92                        377   \n",
       "\n",
       "    Overall Homeless - Female Overall Homeless - Male  \\\n",
       "0                         453                     753   \n",
       "1                         320                     428   \n",
       "2                         386                     759   \n",
       "3                         173                     405   \n",
       "4                         142                     102   \n",
       "..                        ...                     ...   \n",
       "387                        57                      71   \n",
       "388                        70                     124   \n",
       "389                       111                     183   \n",
       "390                       284                     440   \n",
       "391                       268                     344   \n",
       "\n",
       "    Overall Homeless - Transgender Overall Homeless - Non-Hispanic/Non-Latino  \\\n",
       "0                                2                                       1136   \n",
       "1                                0                                        726   \n",
       "2                                8                                       1133   \n",
       "3                                0                                        564   \n",
       "4                                1                                        235   \n",
       "..                             ...                                        ...   \n",
       "387                              1                                        126   \n",
       "388                              0                                        189   \n",
       "389                              0                                        288   \n",
       "390                              0                                        708   \n",
       "391                              0                                        536   \n",
       "\n",
       "     ... Sheltered Total Homeless Parenting Youth Age 18-24  \\\n",
       "0    ...                                                 15   \n",
       "1    ...                                                  3   \n",
       "2    ...                                                  6   \n",
       "3    ...                                                  3   \n",
       "4    ...                                                  0   \n",
       "..   ...                                                ...   \n",
       "387  ...                                                  0   \n",
       "388  ...                                                  1   \n",
       "389  ...                                                  2   \n",
       "390  ...                                                  1   \n",
       "391  ...                                                 19   \n",
       "\n",
       "    Unsheltered Homeless Parenting Youth Age 18-24  \\\n",
       "0                                              0.0   \n",
       "1                                              0.0   \n",
       "2                                              0.0   \n",
       "3                                              0.0   \n",
       "4                                              0.0   \n",
       "..                                             ...   \n",
       "387                                            0.0   \n",
       "388                                            0.0   \n",
       "389                                            0.0   \n",
       "390                                            0.0   \n",
       "391                                            0.0   \n",
       "\n",
       "    Overall Homeless Children of Parenting Youth  \\\n",
       "0                                             16   \n",
       "1                                              5   \n",
       "2                                             13   \n",
       "3                                              6   \n",
       "4                                              0   \n",
       "..                                           ...   \n",
       "387                                            0   \n",
       "388                                            1   \n",
       "389                                            4   \n",
       "390                                            2   \n",
       "391                                           16   \n",
       "\n",
       "    Sheltered ES Homeless Children of Parenting Youth  \\\n",
       "0                                                   7   \n",
       "1                                                   2   \n",
       "2                                                   6   \n",
       "3                                                   0   \n",
       "4                                                   0   \n",
       "..                                                ...   \n",
       "387                                                 0   \n",
       "388                                                 1   \n",
       "389                                                 1   \n",
       "390                                                 2   \n",
       "391                                                11   \n",
       "\n",
       "    Sheltered TH Homeless Children of Parenting Youth  \\\n",
       "0                                                   9   \n",
       "1                                                   3   \n",
       "2                                                   7   \n",
       "3                                                   6   \n",
       "4                                                   0   \n",
       "..                                                ...   \n",
       "387                                                 0   \n",
       "388                                                 0   \n",
       "389                                                 3   \n",
       "390                                                 0   \n",
       "391                                                 5   \n",
       "\n",
       "    Sheltered Total Homeless Children of Parenting Youth  \\\n",
       "0                                                   16     \n",
       "1                                                    5     \n",
       "2                                                   13     \n",
       "3                                                    6     \n",
       "4                                                    0     \n",
       "..                                                 ...     \n",
       "387                                                  0     \n",
       "388                                                  1     \n",
       "389                                                  4     \n",
       "390                                                  2     \n",
       "391                                                 16     \n",
       "\n",
       "    Unsheltered Homeless Children of Parenting Youth  year state  \\\n",
       "0                                                0.0  2015    AK   \n",
       "1                                                0.0  2015    AK   \n",
       "2                                                0.0  2015    AL   \n",
       "3                                                0.0  2015    AL   \n",
       "4                                                0.0  2015    AL   \n",
       "..                                               ...   ...   ...   \n",
       "387                                              0.0  2020    WV   \n",
       "388                                              0.0  2020    WV   \n",
       "389                                              0.0  2020    WV   \n",
       "390                                              0.0  2020    WV   \n",
       "391                                              0.0  2020    WY   \n",
       "\n",
       "    unsheltered rate  \n",
       "0           0.148179  \n",
       "1           0.184492  \n",
       "2           0.205551  \n",
       "3           0.370242  \n",
       "4           0.126531  \n",
       "..               ...  \n",
       "387         0.116279  \n",
       "388         0.237113  \n",
       "389         0.044218  \n",
       "390         0.280387  \n",
       "391         0.200980  \n",
       "\n",
       "[2348 rows x 386 columns]"
      ],
      "text/html": "<div>\n<style scoped>\n    .dataframe tbody tr th:only-of-type {\n        vertical-align: middle;\n    }\n\n    .dataframe tbody tr th {\n        vertical-align: top;\n    }\n\n    .dataframe thead th {\n        text-align: right;\n    }\n</style>\n<table border=\"1\" class=\"dataframe\">\n  <thead>\n    <tr style=\"text-align: right;\">\n      <th></th>\n      <th>CoC Number</th>\n      <th>CoC Name</th>\n      <th>Overall Homeless</th>\n      <th>Overall Homeless - Under 18</th>\n      <th>Overall Homeless - Age 18 to 24</th>\n      <th>Overall Homeless - Over 24</th>\n      <th>Overall Homeless - Female</th>\n      <th>Overall Homeless - Male</th>\n      <th>Overall Homeless - Transgender</th>\n      <th>Overall Homeless - Non-Hispanic/Non-Latino</th>\n      <th>...</th>\n      <th>Sheltered Total Homeless Parenting Youth Age 18-24</th>\n      <th>Unsheltered Homeless Parenting Youth Age 18-24</th>\n      <th>Overall Homeless Children of Parenting Youth</th>\n      <th>Sheltered ES Homeless Children of Parenting Youth</th>\n      <th>Sheltered TH Homeless Children of Parenting Youth</th>\n      <th>Sheltered Total Homeless Children of Parenting Youth</th>\n      <th>Unsheltered Homeless Children of Parenting Youth</th>\n      <th>year</th>\n      <th>state</th>\n      <th>unsheltered rate</th>\n    </tr>\n  </thead>\n  <tbody>\n    <tr>\n      <th>0</th>\n      <td>AK-500</td>\n      <td>Anchorage CoC</td>\n      <td>1208.0</td>\n      <td>258</td>\n      <td>128</td>\n      <td>822</td>\n      <td>453</td>\n      <td>753</td>\n      <td>2</td>\n      <td>1136</td>\n      <td>...</td>\n      <td>15</td>\n      <td>0.0</td>\n      <td>16</td>\n      <td>7</td>\n      <td>9</td>\n      <td>16</td>\n      <td>0.0</td>\n      <td>2015</td>\n      <td>AK</td>\n      <td>0.148179</td>\n    </tr>\n    <tr>\n      <th>1</th>\n      <td>AK-501</td>\n      <td>Alaska Balance of State CoC</td>\n      <td>748.0</td>\n      <td>153</td>\n      <td>69</td>\n      <td>526</td>\n      <td>320</td>\n      <td>428</td>\n      <td>0</td>\n      <td>726</td>\n      <td>...</td>\n      <td>3</td>\n      <td>0.0</td>\n      <td>5</td>\n      <td>2</td>\n      <td>3</td>\n      <td>5</td>\n      <td>0.0</td>\n      <td>2015</td>\n      <td>AK</td>\n      <td>0.184492</td>\n    </tr>\n    <tr>\n      <th>2</th>\n      <td>AL-500</td>\n      <td>Birmingham/Jefferson St. Clair Shelby Counties...</td>\n      <td>1153.0</td>\n      <td>181</td>\n      <td>89</td>\n      <td>883</td>\n      <td>386</td>\n      <td>759</td>\n      <td>8</td>\n      <td>1133</td>\n      <td>...</td>\n      <td>6</td>\n      <td>0.0</td>\n      <td>13</td>\n      <td>6</td>\n      <td>7</td>\n      <td>13</td>\n      <td>0.0</td>\n      <td>2015</td>\n      <td>AL</td>\n      <td>0.205551</td>\n    </tr>\n    <tr>\n      <th>3</th>\n      <td>AL-501</td>\n      <td>Mobile City &amp; County/Baldwin County CoC</td>\n      <td>578.0</td>\n      <td>72</td>\n      <td>36</td>\n      <td>470</td>\n      <td>173</td>\n      <td>405</td>\n      <td>0</td>\n      <td>564</td>\n      <td>...</td>\n      <td>3</td>\n      <td>0.0</td>\n      <td>6</td>\n      <td>0</td>\n      <td>6</td>\n      <td>6</td>\n      <td>0.0</td>\n      <td>2015</td>\n      <td>AL</td>\n      <td>0.370242</td>\n    </tr>\n    <tr>\n      <th>4</th>\n      <td>AL-502</td>\n      <td>Florence/Northwest Alabama CoC</td>\n      <td>245.0</td>\n      <td>56</td>\n      <td>5</td>\n      <td>184</td>\n      <td>142</td>\n      <td>102</td>\n      <td>1</td>\n      <td>235</td>\n      <td>...</td>\n      <td>0</td>\n      <td>0.0</td>\n      <td>0</td>\n      <td>0</td>\n      <td>0</td>\n      <td>0</td>\n      <td>0.0</td>\n      <td>2015</td>\n      <td>AL</td>\n      <td>0.126531</td>\n    </tr>\n    <tr>\n      <th>...</th>\n      <td>...</td>\n      <td>...</td>\n      <td>...</td>\n      <td>...</td>\n      <td>...</td>\n      <td>...</td>\n      <td>...</td>\n      <td>...</td>\n      <td>...</td>\n      <td>...</td>\n      <td>...</td>\n      <td>...</td>\n      <td>...</td>\n      <td>...</td>\n      <td>...</td>\n      <td>...</td>\n      <td>...</td>\n      <td>...</td>\n      <td>...</td>\n      <td>...</td>\n      <td>...</td>\n    </tr>\n    <tr>\n      <th>387</th>\n      <td>WV-500</td>\n      <td>Wheeling Weirton Area CoC</td>\n      <td>129.0</td>\n      <td>11</td>\n      <td>18</td>\n      <td>100</td>\n      <td>57</td>\n      <td>71</td>\n      <td>1</td>\n      <td>126</td>\n      <td>...</td>\n      <td>0</td>\n      <td>0.0</td>\n      <td>0</td>\n      <td>0</td>\n      <td>0</td>\n      <td>0</td>\n      <td>0.0</td>\n      <td>2020</td>\n      <td>WV</td>\n      <td>0.116279</td>\n    </tr>\n    <tr>\n      <th>388</th>\n      <td>WV-501</td>\n      <td>Huntington/Cabell Wayne Counties CoC</td>\n      <td>194.0</td>\n      <td>17</td>\n      <td>14</td>\n      <td>163</td>\n      <td>70</td>\n      <td>124</td>\n      <td>0</td>\n      <td>189</td>\n      <td>...</td>\n      <td>1</td>\n      <td>0.0</td>\n      <td>1</td>\n      <td>1</td>\n      <td>0</td>\n      <td>1</td>\n      <td>0.0</td>\n      <td>2020</td>\n      <td>WV</td>\n      <td>0.237113</td>\n    </tr>\n    <tr>\n      <th>389</th>\n      <td>WV-503</td>\n      <td>Charleston/Kanawha Putnam Boone Clay Counties CoC</td>\n      <td>294.0</td>\n      <td>31</td>\n      <td>20</td>\n      <td>243</td>\n      <td>111</td>\n      <td>183</td>\n      <td>0</td>\n      <td>288</td>\n      <td>...</td>\n      <td>2</td>\n      <td>0.0</td>\n      <td>4</td>\n      <td>1</td>\n      <td>3</td>\n      <td>4</td>\n      <td>0.0</td>\n      <td>2020</td>\n      <td>WV</td>\n      <td>0.044218</td>\n    </tr>\n    <tr>\n      <th>390</th>\n      <td>WV-508</td>\n      <td>West Virginia Balance of State CoC</td>\n      <td>724.0</td>\n      <td>63</td>\n      <td>63</td>\n      <td>598</td>\n      <td>284</td>\n      <td>440</td>\n      <td>0</td>\n      <td>708</td>\n      <td>...</td>\n      <td>1</td>\n      <td>0.0</td>\n      <td>2</td>\n      <td>2</td>\n      <td>0</td>\n      <td>2</td>\n      <td>0.0</td>\n      <td>2020</td>\n      <td>WV</td>\n      <td>0.280387</td>\n    </tr>\n    <tr>\n      <th>391</th>\n      <td>WY-500</td>\n      <td>Wyoming Statewide CoC</td>\n      <td>612.0</td>\n      <td>143</td>\n      <td>92</td>\n      <td>377</td>\n      <td>268</td>\n      <td>344</td>\n      <td>0</td>\n      <td>536</td>\n      <td>...</td>\n      <td>19</td>\n      <td>0.0</td>\n      <td>16</td>\n      <td>11</td>\n      <td>5</td>\n      <td>16</td>\n      <td>0.0</td>\n      <td>2020</td>\n      <td>WY</td>\n      <td>0.200980</td>\n    </tr>\n  </tbody>\n</table>\n<p>2348 rows × 386 columns</p>\n</div>"
     },
     "metadata": {},
     "execution_count": 16
    }
   ],
   "source": [
    "PIT_df"
   ]
  },
  {
   "cell_type": "code",
   "execution_count": 14,
   "metadata": {},
   "outputs": [
    {
     "output_type": "execute_result",
     "data": {
      "text/plain": [
       "386"
      ]
     },
     "metadata": {},
     "execution_count": 14
    }
   ],
   "source": [
    "len(PIT_df.columns)"
   ]
  },
  {
   "cell_type": "code",
   "execution_count": 37,
   "metadata": {},
   "outputs": [
    {
     "output_type": "execute_result",
     "data": {
      "text/plain": [
       "0.2779622233350178"
      ]
     },
     "metadata": {},
     "execution_count": 37
    }
   ],
   "source": [
    "(PIT_df['Unsheltered Homeless'] / PIT_df['Overall Homeless']).mean()"
   ]
  },
  {
   "cell_type": "code",
   "execution_count": 15,
   "metadata": {},
   "outputs": [],
   "source": [
    "PIT_df.to_csv(\"cleaned_PIT_df.csv\")"
   ]
  },
  {
   "source": [
    "# Missing values"
   ],
   "cell_type": "markdown",
   "metadata": {}
  },
  {
   "cell_type": "code",
   "execution_count": 87,
   "metadata": {},
   "outputs": [
    {
     "output_type": "execute_result",
     "data": {
      "text/plain": [
       "CoC Number                                                 0.508762\n",
       "CoC Name                                                   0.508762\n",
       "Overall Homeless                                           0.508762\n",
       "Sheltered ES Homeless                                      0.508762\n",
       "Sheltered TH Homeless                                      0.508762\n",
       "Sheltered SH Homeless                                      0.508762\n",
       "Sheltered Total Homeless                                   0.508762\n",
       "Unsheltered Homeless                                       0.508762\n",
       "Overall Homeless Individuals                               0.508762\n",
       "Overall Homeless Individuals - Under 18                    0.508762\n",
       "Sheltered ES Homeless Individuals                          0.508762\n",
       "Sheltered ES Homeless Individuals - Under 18               0.508762\n",
       "Sheltered TH Homeless Individuals                          0.508762\n",
       "Sheltered TH Homeless Individuals - Under 18               0.508762\n",
       "Sheltered SH Homeless Individuals                          0.508762\n",
       "Sheltered Total Homeless Individuals                       0.508762\n",
       "Sheltered Total Homeless Individuals - Under 18            0.508762\n",
       "Unsheltered Homeless Individuals                           0.508762\n",
       "Unsheltered Homeless Individuals - Under 18                0.508762\n",
       "Overall Homeless People in Families                        0.508762\n",
       "Sheltered ES Homeless People in Families                   0.508762\n",
       "Sheltered TH Homeless People in Families                   0.508762\n",
       "Sheltered Total Homeless People in Families                0.508762\n",
       "Unsheltered Homeless People in Families                    0.508762\n",
       "Overall Homeless Family Households                         0.508762\n",
       "Sheltered ES Homeless Family Households                    0.508762\n",
       "Sheltered TH Homeless Family Households                    0.508762\n",
       "Sheltered Total Homeless Family Households                 0.508762\n",
       "Unsheltered Homeless Family Households                     0.508762\n",
       "Overall Chronically Homeless                               0.508762\n",
       "Sheltered ES Chronically Homeless                          0.508762\n",
       "Sheltered SH Chronically Homeless                          0.508762\n",
       "Sheltered Total Chronically Homeless                       0.508762\n",
       "Unsheltered Chronically Homeless                           0.508762\n",
       "Overall Chronically Homeless Individuals                   0.508762\n",
       "Sheltered ES Chronically Homeless Individuals              0.508762\n",
       "Sheltered SH Chronically Homeless Individuals              0.508762\n",
       "Sheltered Total Chronically Homeless Individuals           0.508762\n",
       "Unsheltered Chronically Homeless Individuals               0.508762\n",
       "Overall Chronically Homeless People in Families            0.508762\n",
       "Sheltered ES Chronically Homeless People in Families       0.508762\n",
       "Sheltered Total Chronically Homeless People in Families    0.508762\n",
       "Unsheltered Chronically Homeless People in Families        0.508762\n",
       "Overall Homeless Veterans                                  0.508762\n",
       "Sheltered Total Homeless Veterans                          0.508762\n",
       "Unsheltered Homeless Veterans                              0.508762\n",
       "year                                                       0.000000\n",
       "unsheltered rate                                           0.508762\n",
       "dtype: float64"
      ]
     },
     "metadata": {},
     "execution_count": 87
    }
   ],
   "source": [
    "PIT_df.isnull().sum()/len(PIT_df)*100"
   ]
  },
  {
   "cell_type": "code",
   "execution_count": 75,
   "metadata": {},
   "outputs": [],
   "source": [
    "PIT_df.isnull().sum()/len(PIT_df)*100;\n",
    "df[\"value\"] = df.groupby(\"state\").transform(lambda x: x.fillna(x.mean()))"
   ]
  },
  {
   "source": [
    "## Important features:\n",
    "\n",
    "* overall homeless (year)\n",
    "* sheltered homeless\n",
    "* unsheltered homeless"
   ],
   "cell_type": "markdown",
   "metadata": {}
  },
  {
   "cell_type": "code",
   "execution_count": null,
   "metadata": {},
   "outputs": [],
   "source": []
  }
 ]
}