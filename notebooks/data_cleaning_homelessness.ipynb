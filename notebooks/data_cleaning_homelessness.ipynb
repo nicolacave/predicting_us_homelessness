{
 "metadata": {
  "language_info": {
   "codemirror_mode": {
    "name": "ipython",
    "version": 3
   },
   "file_extension": ".py",
   "mimetype": "text/x-python",
   "name": "python",
   "nbconvert_exporter": "python",
   "pygments_lexer": "ipython3",
   "version": "3.8.10"
  },
  "orig_nbformat": 4,
  "kernelspec": {
   "name": "python3",
   "display_name": "Python 3.8.10 64-bit"
  },
  "interpreter": {
   "hash": "24bd0a8d74f35437157cf36f14598ef3477f99df4cd340566b47027f8059ba3f"
  }
 },
 "nbformat": 4,
 "nbformat_minor": 2,
 "cells": [
  {
   "source": [],
   "cell_type": "markdown",
   "metadata": {}
  },
  {
   "source": [
    "# Imports"
   ],
   "cell_type": "markdown",
   "metadata": {}
  },
  {
   "cell_type": "code",
   "execution_count": 56,
   "metadata": {},
   "outputs": [],
   "source": [
    "import pandas as pd\n",
    "import numpy as np\n",
    "import matplotlib.pyplot as plt\n",
    "import pprint"
   ]
  },
  {
   "source": [
    "# Data Loading"
   ],
   "cell_type": "markdown",
   "metadata": {}
  },
  {
   "cell_type": "code",
   "execution_count": 24,
   "metadata": {},
   "outputs": [],
   "source": [
    "HIC_2012 = pd.read_csv(\"../data/2012HIC_RawData/2012HIC_RawData-Table 1.csv\")"
   ]
  },
  {
   "cell_type": "code",
   "execution_count": 25,
   "metadata": {},
   "outputs": [],
   "source": [
    "HIC_2012.head();"
   ]
  },
  {
   "cell_type": "code",
   "execution_count": 26,
   "metadata": {},
   "outputs": [
    {
     "output_type": "stream",
     "name": "stdout",
     "text": [
      "<class 'pandas.core.frame.DataFrame'>\nRangeIndex: 23193 entries, 0 to 23192\nData columns (total 33 columns):\n #   Column                                       Non-Null Count  Dtype  \n---  ------                                       --------------  -----  \n 0   RowID                                        23193 non-null  int64  \n 1   State                                        23193 non-null  object \n 2   CoC Name                                     23193 non-null  object \n 3   CoC ID                                       23193 non-null  int64  \n 4   HUD CoC Number                               23193 non-null  object \n 5   Year                                         23193 non-null  int64  \n 6   Organization Name                            23193 non-null  object \n 7   Program Name                                 23193 non-null  object \n 8   Program Type                                 23191 non-null  object \n 9   Bed Type                                     13863 non-null  object \n 10  Geo Code                                     23191 non-null  float64\n 11  Inventory Type                               23191 non-null  object \n 12  Target Population A                          23102 non-null  object \n 13  Target Population B                          4709 non-null   object \n 14  Mc Kinney-Vento                              23193 non-null  bool   \n 15  Beds for Households With Children            14347 non-null  float64\n 16  Units for Households With Children           14307 non-null  float64\n 17  Beds for Households Without Children         19393 non-null  float64\n 18  Beds for Households With Only Children       5679 non-null   float64\n 19  Total Year Round Beds                        23193 non-null  int64  \n 20  Chronically Homeless Beds                    7449 non-null   float64\n 21  HMIS Beds for Households With Children       10995 non-null  float64\n 22  HMIS Beds for Households Without Children    15876 non-null  float64\n 23  HMIS Beds for Households With Only Children  4619 non-null   float64\n 24  Domestic Violence Beds                       2345 non-null   float64\n 25  Total Seasonal Beds                          4528 non-null   float64\n 26  Seasonal Beds Available in HMIS              4474 non-null   float64\n 27  Availability Start Date                      467 non-null    object \n 28  Availability End Date                        467 non-null    object \n 29  Overflow and Voucher Beds                    4555 non-null   float64\n 30  HMIS Overflow and Voucher Beds               2318 non-null   float64\n 31  PIT Count                                    22265 non-null  float64\n 32  Total Beds                                   23193 non-null  int64  \ndtypes: bool(1), float64(15), int64(5), object(12)\nmemory usage: 5.7+ MB\n"
     ]
    }
   ],
   "source": [
    "HIC_2012.info();"
   ]
  },
  {
   "cell_type": "code",
   "execution_count": 27,
   "metadata": {},
   "outputs": [],
   "source": [
    "HIC_2012['Geo Code'];"
   ]
  },
  {
   "cell_type": "code",
   "execution_count": 28,
   "metadata": {},
   "outputs": [],
   "source": [
    "HIC_2013 = pd.read_excel(\"../data/2013-Housing-Inventory-Count-Raw-File.xlsx\")"
   ]
  },
  {
   "cell_type": "code",
   "execution_count": 29,
   "metadata": {},
   "outputs": [
    {
     "output_type": "stream",
     "name": "stdout",
     "text": [
      "<class 'pandas.core.frame.DataFrame'>\nRangeIndex: 23120 entries, 0 to 23119\nData columns (total 39 columns):\n #   Column                           Non-Null Count  Dtype         \n---  ------                           --------------  -----         \n 0   Row #                            23120 non-null  int64         \n 1   State                            23120 non-null  object        \n 2   CoC                              23120 non-null  object        \n 3   Coc\\ID                           23120 non-null  int64         \n 4   HudNum                           23120 non-null  object        \n 5   Status                           23120 non-null  object        \n 6   year                             23120 non-null  int64         \n 7   Organization Name                23120 non-null  object        \n 8   Program Name                     23120 non-null  object        \n 9   Program Type                     23120 non-null  object        \n 10  usesRrhModel                     6876 non-null   float64       \n 11  Bed Type                         6851 non-null   object        \n 12  Geo Code                         23120 non-null  int64         \n 13  Inventory Type                   23120 non-null  object        \n 14  beginsOperationsWithinYear       770 non-null    float64       \n 15  sandyRelated                     274 non-null    float64       \n 16  Target Population A              22913 non-null  object        \n 17  Target Population B              4872 non-null   object        \n 18  Mc Kinney-Vento                  23120 non-null  int64         \n 19  Beds HH w/ Children              15125 non-null  float64       \n 20  Units HH w/ Children             15064 non-null  float64       \n 21  Beds HH w/o Children             19468 non-null  float64       \n 22  Beds HH w/ only Children         7392 non-null   float64       \n 23  Year-Round Beds                  23120 non-null  int64         \n 24  CH Beds                          7361 non-null   float64       \n 25  HMIS Beds HH w/ Children         11674 non-null  float64       \n 26  HMIS Beds HH w/o Children        15904 non-null  float64       \n 27  HMIS Beds HH w/ only Children    5981 non-null   float64       \n 28  DV Beds                          2371 non-null   float64       \n 29  Total Seasonal Beds              4406 non-null   float64       \n 30  Seasonal Beds Available in HMIS  4294 non-null   float64       \n 31  Availability Start Date          521 non-null    datetime64[ns]\n 32  Availability End Date            521 non-null    datetime64[ns]\n 33  O/V Beds                         4433 non-null   float64       \n 34  HMIS O/V Beds                    2607 non-null   float64       \n 35  PIT Count                        22351 non-null  float64       \n 36  Total Beds                       23120 non-null  int64         \n 37  Updated On                       23120 non-null  datetime64[ns]\n 38  mergedDefunctYear                0 non-null      float64       \ndtypes: datetime64[ns](3), float64(18), int64(7), object(11)\nmemory usage: 6.9+ MB\n"
     ]
    }
   ],
   "source": [
    "HIC_2013.info()"
   ]
  },
  {
   "cell_type": "code",
   "execution_count": 30,
   "metadata": {},
   "outputs": [],
   "source": [
    "HIC_2014 = pd.read_excel(\"../data/2014-Housing-Inventory-Count-Raw-File.xlsx\")"
   ]
  },
  {
   "cell_type": "code",
   "execution_count": 31,
   "metadata": {},
   "outputs": [
    {
     "output_type": "stream",
     "name": "stdout",
     "text": [
      "<class 'pandas.core.frame.DataFrame'>\nRangeIndex: 23587 entries, 0 to 23586\nData columns (total 40 columns):\n #   Column                           Non-Null Count  Dtype         \n---  ------                           --------------  -----         \n 0   Row #                            23587 non-null  int64         \n 1   State                            23587 non-null  object        \n 2   CoC                              23587 non-null  object        \n 3   Coc\\ID                           23587 non-null  int64         \n 4   HudNum                           23587 non-null  object        \n 5   Status                           23587 non-null  object        \n 6   year                             23587 non-null  int64         \n 7   Organization Name                23587 non-null  object        \n 8   Project Name                     23587 non-null  object        \n 9   Project Type                     23587 non-null  object        \n 10  Bed Type                         6829 non-null   object        \n 11  Geo Code                         23587 non-null  int64         \n 12  Inventory Type                   23587 non-null  object        \n 13  beginsOperationsWithinYear       507 non-null    float64       \n 14  Target Population A              23466 non-null  object        \n 15  Target Population B              2949 non-null   object        \n 16  Mc Kinney-Vento                  23587 non-null  int64         \n 17  Beds HH w/ Children              16543 non-null  float64       \n 18  Units HH w/ Children             16476 non-null  float64       \n 19  Beds HH w/o Children             20465 non-null  float64       \n 20  Beds HH w/ only Children         9991 non-null   float64       \n 21  Year-Round Beds                  23587 non-null  int64         \n 22  CH Beds                          7613 non-null   float64       \n 23  HMIS Beds HH w/ Children         14185 non-null  float64       \n 24  HMIS Beds HH w/o Children        18155 non-null  float64       \n 25  HMIS Beds HH w/ only Children    9089 non-null   float64       \n 26  DV Beds                          2321 non-null   float64       \n 27  Total Seasonal Beds              4517 non-null   float64       \n 28  Seasonal Beds Available in HMIS  4425 non-null   float64       \n 29  Availability Start Date          560 non-null    datetime64[ns]\n 30  Availability End Date            560 non-null    datetime64[ns]\n 31  O/V Beds                         4537 non-null   float64       \n 32  HMIS O/V Beds                    3220 non-null   float64       \n 33  yearVeteranBedCount              23131 non-null  float64       \n 34  yearYouthBedCount                23129 non-null  float64       \n 35  youthAgeGroup                    1145 non-null   float64       \n 36  PIT Count                        23080 non-null  float64       \n 37  Total Beds                       23587 non-null  int64         \n 38  Updated On                       23587 non-null  datetime64[ns]\n 39  mergedDefunctYear                0 non-null      float64       \ndtypes: datetime64[ns](3), float64(19), int64(7), object(11)\nmemory usage: 7.2+ MB\n"
     ]
    }
   ],
   "source": [
    "HIC_2014.info()"
   ]
  },
  {
   "cell_type": "code",
   "execution_count": 32,
   "metadata": {},
   "outputs": [],
   "source": [
    "HIC_2015 = pd.read_excel(\"../data/2015-Housing-Inventory-Count-Raw-File.xlsx\")"
   ]
  },
  {
   "cell_type": "code",
   "execution_count": 33,
   "metadata": {},
   "outputs": [
    {
     "output_type": "stream",
     "name": "stdout",
     "text": [
      "<class 'pandas.core.frame.DataFrame'>\nRangeIndex: 24202 entries, 0 to 24201\nData columns (total 47 columns):\n #   Column                           Non-Null Count  Dtype         \n---  ------                           --------------  -----         \n 0   Row #                            24202 non-null  int64         \n 1   CoCState                         24202 non-null  object        \n 2   CoC                              24202 non-null  object        \n 3   Coc\\ID                           24202 non-null  int64         \n 4   HudNum                           24202 non-null  object        \n 5   Status                           24202 non-null  object        \n 6   year                             24202 non-null  int64         \n 7   Organization Name                24202 non-null  object        \n 8   Project Name                     24202 non-null  object        \n 9   Project Type                     24202 non-null  object        \n 10  Bed Type                         6946 non-null   object        \n 11  Geo Code                         24202 non-null  int64         \n 12  Inventory Type                   24202 non-null  object        \n 13  beginsOperationsWithinYear       538 non-null    float64       \n 14  Target Population A              23863 non-null  object        \n 15  Target Population B              3015 non-null   object        \n 16  Mc Kinney-Vento                  24202 non-null  int64         \n 17  Scattered Sites                  24202 non-null  object        \n 18  Victim Service Provider          24202 non-null  object        \n 19  Address1                         17385 non-null  object        \n 20  Address2                         148 non-null    object        \n 21  City                             17425 non-null  object        \n 22  State                            17469 non-null  object        \n 23  Zip                              17401 non-null  float64       \n 24  Beds HH w/ Children              17893 non-null  float64       \n 25  Units HH w/ Children             17825 non-null  float64       \n 26  Beds HH w/o Children             21363 non-null  float64       \n 27  Beds HH w/ only Children         11957 non-null  float64       \n 28  Year-Round Beds                  24202 non-null  int64         \n 29  CH Beds                          5875 non-null   float64       \n 30  HMIS Beds HH w/ Children         14852 non-null  float64       \n 31  HMIS Beds HH w/o Children        18363 non-null  float64       \n 32  HMIS Beds HH w/ only Children    10679 non-null  float64       \n 33  DV Beds                          2362 non-null   float64       \n 34  Total Seasonal Beds              4493 non-null   float64       \n 35  Seasonal Beds Available in HMIS  4389 non-null   float64       \n 36  Availability Start Date          545 non-null    datetime64[ns]\n 37  Availability End Date            545 non-null    datetime64[ns]\n 38  O/V Beds                         4510 non-null   float64       \n 39  HMIS O/V Beds                    3449 non-null   float64       \n 40  yearVeteranBedCount              23914 non-null  float64       \n 41  yearYouthBedCount                23914 non-null  float64       \n 42  youthAgeGroup                    1423 non-null   float64       \n 43  PIT Count                        23665 non-null  float64       \n 44  Total Beds                       24202 non-null  int64         \n 45  Updated On                       24202 non-null  datetime64[ns]\n 46  mergedDefunctYear                0 non-null      float64       \ndtypes: datetime64[ns](3), float64(20), int64(7), object(17)\nmemory usage: 8.7+ MB\n"
     ]
    }
   ],
   "source": [
    "HIC_2015.info()"
   ]
  },
  {
   "cell_type": "code",
   "execution_count": 34,
   "metadata": {},
   "outputs": [],
   "source": [
    "HIC_2016 = pd.read_excel(\"../data/2016-Housing-Inventory-Count-Raw-File.xlsx\")"
   ]
  },
  {
   "cell_type": "code",
   "execution_count": 35,
   "metadata": {},
   "outputs": [
    {
     "output_type": "stream",
     "name": "stdout",
     "text": [
      "<class 'pandas.core.frame.DataFrame'>\nRangeIndex: 24104 entries, 0 to 24103\nData columns (total 69 columns):\n #   Column                                  Non-Null Count  Dtype         \n---  ------                                  --------------  -----         \n 0   Row #                                   24104 non-null  int64         \n 1   CoCState                                24104 non-null  object        \n 2   CoC                                     24104 non-null  object        \n 3   Coc\\ID                                  24104 non-null  int64         \n 4   HudNum                                  24104 non-null  object        \n 5   Status                                  24104 non-null  object        \n 6   year                                    24104 non-null  int64         \n 7   Organization ID                         24104 non-null  int64         \n 8   Organization Name                       24104 non-null  object        \n 9   Project ID                              24104 non-null  int64         \n 10  Project Name                            24104 non-null  object        \n 11  Project Type                            24104 non-null  object        \n 12  Bed Type                                6837 non-null   object        \n 13  Geo Code                                24104 non-null  int64         \n 14  Inventory Type                          24104 non-null  object        \n 15  TH Unit Type                            5592 non-null   object        \n 16  beginsOperationsWithinYear              347 non-null    float64       \n 17  Target Population A                     22944 non-null  object        \n 18  Target Population B                     3042 non-null   object        \n 19  Mc Kinney-Vento                         24104 non-null  int64         \n 20  federalFunding                          24056 non-null  float64       \n 21  federalFundingVash                      24104 non-null  int64         \n 22  federalFundingSsvf                      24104 non-null  int64         \n 23  federalFundingGpd                       24104 non-null  int64         \n 24  federalFundingHchv                      24104 non-null  int64         \n 25  federalFundingCwt                       24104 non-null  int64         \n 26  federalFundingBcp                       24104 non-null  int64         \n 27  federalFundingTlp                       24104 non-null  int64         \n 28  federalFundingMgh                       24104 non-null  int64         \n 29  federalFundingHopwa                     24104 non-null  int64         \n 30  federalFundingPih                       24104 non-null  int64         \n 31  federalFundingOther                     24104 non-null  int64         \n 32  federalFundingOtherSpecify              1198 non-null   object        \n 33  Scattered Sites                         24104 non-null  int64         \n 34  Victim Service Provider                 24104 non-null  int64         \n 35  Address1                                17084 non-null  object        \n 36  Address2                                163 non-null    object        \n 37  City                                    17136 non-null  object        \n 38  State                                   17168 non-null  object        \n 39  Zip                                     17114 non-null  float64       \n 40  Beds HH w/ Children                     18776 non-null  float64       \n 41  Units HH w/ Children                    18737 non-null  float64       \n 42  HMIS Beds HH w/ Children                16706 non-null  float64       \n 43  Veteran Beds HH w/ Children             17123 non-null  float64       \n 44  Youth Beds HH w/ Children               17116 non-null  float64       \n 45  CH Beds HH w/ Children                  5527 non-null   float64       \n 46  Beds HH w/o Children                    21833 non-null  float64       \n 47  HMIS Beds HH w/o Children               20007 non-null  float64       \n 48  Veteran Beds HH w/o Children            20943 non-null  float64       \n 49  Youth Beds HH w/o Children              20939 non-null  float64       \n 50  CH Beds HH w/o Children                 7960 non-null   float64       \n 51  Beds HH w/ only Children                14109 non-null  float64       \n 52  HMIS Beds HH w/ only Children           13132 non-null  float64       \n 53  CH Beds HH w only Children              3602 non-null   float64       \n 54  Year-Round Beds                         24104 non-null  int64         \n 55  DV Beds                                 2392 non-null   float64       \n 56  Total Seasonal Beds                     4622 non-null   float64       \n 57  Seasonal Beds Available in HMIS         4548 non-null   float64       \n 58  Availability Start Date                 531 non-null    datetime64[ns]\n 59  Availability End Date                   531 non-null    datetime64[ns]\n 60  O/V Beds                                4651 non-null   float64       \n 61  HMIS O/V Beds                           3926 non-null   float64       \n 62  PIT Count                               23758 non-null  float64       \n 63  Total Beds                              24104 non-null  int64         \n 64  Updated On                              24104 non-null  datetime64[ns]\n 65  mergedDefunctYear                       0 non-null      float64       \n 66  questionUsesDescriptorElements          24104 non-null  int64         \n 67  questionDesiresToUseDescriptorElements  6455 non-null   float64       \n 68  notes                                   2371 non-null   object        \ndtypes: datetime64[ns](3), float64(25), int64(23), object(18)\nmemory usage: 12.7+ MB\n"
     ]
    }
   ],
   "source": [
    "HIC_2016.info()"
   ]
  },
  {
   "cell_type": "code",
   "execution_count": 36,
   "metadata": {},
   "outputs": [],
   "source": [
    "HIC_2017 = pd.read_excel(\"../data/2017-Housing-Inventory-Count-Raw-File.xlsx\")"
   ]
  },
  {
   "cell_type": "code",
   "execution_count": 37,
   "metadata": {},
   "outputs": [
    {
     "output_type": "stream",
     "name": "stdout",
     "text": [
      "<class 'pandas.core.frame.DataFrame'>\nRangeIndex: 24422 entries, 0 to 24421\nData columns (total 82 columns):\n #   Column                                  Non-Null Count  Dtype         \n---  ------                                  --------------  -----         \n 0   Row #                                   24422 non-null  int64         \n 1   State                                   24422 non-null  object        \n 2   CoC                                     24422 non-null  object        \n 3   Coc\\ID                                  24422 non-null  int64         \n 4   HudNum                                  24422 non-null  object        \n 5   Status                                  24422 non-null  object        \n 6   year                                    24422 non-null  int64         \n 7   Organization ID                         24422 non-null  int64         \n 8   Organization Name                       24422 non-null  object        \n 9   Project ID                              24422 non-null  int64         \n 10  Project Name                            24422 non-null  object        \n 11  Project Type                            24422 non-null  object        \n 12  Bed Type                                7009 non-null   object        \n 13  Geo Code                                24422 non-null  int64         \n 14  Inventory Type                          24422 non-null  object        \n 15  beginsOperationsWithinYear              475 non-null    float64       \n 16  Target Population A                     23257 non-null  object        \n 17  Target Population B                     2996 non-null   object        \n 18  Mc Kinney-Vento                         24422 non-null  int64         \n 19  mcKinneyVentoEsgEs                      24422 non-null  int64         \n 20  mcKinneyVentoEsgRrh                     24422 non-null  int64         \n 21  mcKinneyVentoCocSh                      24422 non-null  int64         \n 22  mcKinneyVentoCocTh                      24422 non-null  int64         \n 23  mcKinneyVentoCocPsh                     24422 non-null  int64         \n 24  mcKinneyVentoCocSso                     24422 non-null  int64         \n 25  mcKinneyVentoCocRrh                     24422 non-null  int64         \n 26  mcKinneyVentoCocSro                     24422 non-null  int64         \n 27  mcKinneyVentoSpC                        24422 non-null  int64         \n 28  mcKinneyVentoS8                         24422 non-null  int64         \n 29  mcKinneyVentoShp                        24422 non-null  int64         \n 30  federalFunding                          24422 non-null  int64         \n 31  federalFundingVash                      24422 non-null  int64         \n 32  federalFundingSsvf                      24422 non-null  int64         \n 33  federalFundingGpd                       24422 non-null  int64         \n 34  federalFundingHchv                      24422 non-null  int64         \n 35  federalFundingCwt                       24422 non-null  int64         \n 36  federalFundingBcp                       24422 non-null  int64         \n 37  federalFundingTlp                       24422 non-null  int64         \n 38  federalFundingMgh                       24422 non-null  int64         \n 39  federalFundingHopwa                     24422 non-null  int64         \n 40  federalFundingPih                       24422 non-null  int64         \n 41  federalFundingOther                     24422 non-null  int64         \n 42  federalFundingOtherSpecify              833 non-null    object        \n 43  housingType                             24422 non-null  object        \n 44  Victim Service Provider                 24422 non-null  int64         \n 45  address1                                19189 non-null  object        \n 46  address2                                218 non-null    object        \n 47  city                                    19508 non-null  object        \n 48  ProjectState                            20354 non-null  object        \n 49  zip                                     22244 non-null  float64       \n 50  Beds HH w/ Children                     19283 non-null  float64       \n 51  Units HH w/ Children                    19247 non-null  float64       \n 52  HMIS Beds HH w/ Children                16934 non-null  float64       \n 53  Veteran Beds HH w/ Children             18368 non-null  float64       \n 54  Youth Beds HH w/ Children               18354 non-null  float64       \n 55  CH Beds HH w/ Children                  5366 non-null   float64       \n 56  Beds HH w/o Children                    22091 non-null  float64       \n 57  HMIS Beds HH w/o Children               19870 non-null  float64       \n 58  Veteran Beds HH w/o Children            21639 non-null  float64       \n 59  Youth Beds HH w/o Children              21642 non-null  float64       \n 60  CH Beds HH w/o Children                 7820 non-null   float64       \n 61  Beds HH w/ only Children                14583 non-null  float64       \n 62  HMIS Beds HH w/ only Children           13293 non-null  float64       \n 63  CH Beds HH w only Children              3489 non-null   float64       \n 64  Year-Round Beds                         24422 non-null  int64         \n 65  DV Beds                                 2354 non-null   float64       \n 66  Total Seasonal Beds                     4445 non-null   float64       \n 67  Seasonal Beds Available in HMIS         4386 non-null   float64       \n 68  Availability Start Date                 545 non-null    datetime64[ns]\n 69  Availability End Date                   545 non-null    datetime64[ns]\n 70  O/V Beds                                4462 non-null   float64       \n 71  HMIS O/V Beds                           3961 non-null   float64       \n 72  PIT Count                               23947 non-null  float64       \n 73  Total Beds                              24422 non-null  int64         \n 74  Updated On                              24422 non-null  datetime64[ns]\n 75  mergedDefunctYear                       0 non-null      float64       \n 76  questionUsesDescriptorElements          24422 non-null  int64         \n 77  questionDesiresToUseDescriptorElements  6344 non-null   float64       \n 78  notes                                   2701 non-null   object        \n 79  projectNotes                            2636 non-null   object        \n 80  sandyRelated                            12251 non-null  float64       \n 81  sandyRelatedNote                        3 non-null      object        \ndtypes: datetime64[ns](3), float64(25), int64(34), object(20)\nmemory usage: 15.3+ MB\n"
     ]
    }
   ],
   "source": [
    "HIC_2017.info()"
   ]
  },
  {
   "cell_type": "code",
   "execution_count": 38,
   "metadata": {},
   "outputs": [],
   "source": [
    "HIC_2018 = pd.read_excel(\"../data/2018-Housing-Inventory-County-RawFile.xlsx\")"
   ]
  },
  {
   "cell_type": "code",
   "execution_count": 39,
   "metadata": {},
   "outputs": [
    {
     "output_type": "stream",
     "name": "stdout",
     "text": [
      "<class 'pandas.core.frame.DataFrame'>\nRangeIndex: 24635 entries, 0 to 24634\nData columns (total 96 columns):\n #   Column                                  Non-Null Count  Dtype         \n---  ------                                  --------------  -----         \n 0   Row #                                   24635 non-null  int64         \n 1   CocState                                24635 non-null  object        \n 2   CoC                                     24635 non-null  object        \n 3   Coc\\ID                                  24635 non-null  int64         \n 4   HudNum                                  24635 non-null  object        \n 5   Status                                  24635 non-null  object        \n 6   year                                    24635 non-null  int64         \n 7   Organization ID                         24635 non-null  int64         \n 8   Organization Name                       24635 non-null  object        \n 9   Project ID                              24635 non-null  int64         \n 10  Project Name                            24634 non-null  object        \n 11  Project Type                            24634 non-null  object        \n 12  Bed Type                                7122 non-null   object        \n 13  Geo Code                                24635 non-null  int64         \n 14  Inventory Type                          24634 non-null  object        \n 15  beginsOperationsWithinYear              405 non-null    float64       \n 16  Target Population A                     22872 non-null  object        \n 17  Target Population B                     3026 non-null   object        \n 18  Mc Kinney-Vento                         24635 non-null  int64         \n 19  mcKinneyVentoEsg                        24635 non-null  int64         \n 20  mcKinneyVentoEsgEs                      3062 non-null   float64       \n 21  mcKinneyVentoEsgRrh                     3062 non-null   float64       \n 22  mcKinneyVentoCoc                        24635 non-null  int64         \n 23  mcKinneyVentoCocSh                      6818 non-null   float64       \n 24  mcKinneyVentoCocTh                      6818 non-null   float64       \n 25  mcKinneyVentoCocPsh                     6818 non-null   float64       \n 26  mcKinneyVentoCocRrh                     6818 non-null   float64       \n 27  mcKinneyVentoCocSro                     6818 non-null   float64       \n 28  mcKinneyVentoSpC                        24635 non-null  int64         \n 29  mcKinneyVentoS8                         24635 non-null  int64         \n 30  mcKinneyVentoShp                        24635 non-null  int64         \n 31  federalFunding                          24635 non-null  int64         \n 32  federalFundingVash                      24635 non-null  int64         \n 33  federalFundingSsvf                      24635 non-null  int64         \n 34  federalFundingGpd                       24635 non-null  int64         \n 35  federalFundingGpdBh                     546 non-null    float64       \n 36  federalFundingGpdLd                     546 non-null    float64       \n 37  federalFundingGpdHh                     546 non-null    float64       \n 38  federalFundingGpdCt                     546 non-null    float64       \n 39  federalFundingGpdSith                   546 non-null    float64       \n 40  federalFundingGpdTp                     546 non-null    float64       \n 41  federalFundingHchv                      24635 non-null  int64         \n 42  federalFundingHchvCrs                   160 non-null    float64       \n 43  federalFundingHchvSh                    160 non-null    float64       \n 44  federalFundingCwt                       24635 non-null  int64         \n 45  federalFundingBcp                       24635 non-null  int64         \n 46  federalFundingTlp                       24635 non-null  int64         \n 47  federalFundingMgh                       24635 non-null  int64         \n 48  federalFundingRhyDp                     24635 non-null  int64         \n 49  federalFundingHopwa                     24635 non-null  int64         \n 50  federalFundingHopwaHmv                  331 non-null    float64       \n 51  federalFundingHopwaPh                   331 non-null    float64       \n 52  federalFundingHopwaStsf                 331 non-null    float64       \n 53  federalFundingHopwaTh                   331 non-null    float64       \n 54  federalFundingPih                       24635 non-null  int64         \n 55  federalFundingOther                     24635 non-null  int64         \n 56  federalFundingOtherSpecify              1042 non-null   object        \n 57  housingType                             24635 non-null  object        \n 58  Victim Service Provider                 24635 non-null  int64         \n 59  address1                                19160 non-null  object        \n 60  address2                                274 non-null    object        \n 61  city                                    19459 non-null  object        \n 62  state                                   20383 non-null  object        \n 63  zip                                     22367 non-null  float64       \n 64  Beds HH w/ Children                     20458 non-null  float64       \n 65  Units HH w/ Children                    20444 non-null  float64       \n 66  HMIS Beds HH w/ Children                18672 non-null  float64       \n 67  Veteran Beds HH w/ Children             19866 non-null  float64       \n 68  Youth Beds HH w/ Children               19869 non-null  float64       \n 69  CH Beds HH w/ Children                  5923 non-null   float64       \n 70  Beds HH w/o Children                    22709 non-null  float64       \n 71  HMIS Beds HH w/o Children               20985 non-null  float64       \n 72  Veteran Beds HH w/o Children            22452 non-null  float64       \n 73  Youth Beds HH w/o Children              22456 non-null  float64       \n 74  CH Beds HH w/o Children                 7873 non-null   float64       \n 75  Beds HH w/ only Children                16587 non-null  float64       \n 76  HMIS Beds HH w/ only Children           15375 non-null  float64       \n 77  CH Beds HH w only Children              4205 non-null   float64       \n 78  Year-Round Beds                         24635 non-null  int64         \n 79  DV Beds                                 2359 non-null   float64       \n 80  Total Seasonal Beds                     5013 non-null   float64       \n 81  Seasonal Beds Available in HMIS         4962 non-null   float64       \n 82  Availability Start Date                 571 non-null    datetime64[ns]\n 83  Availability End Date                   571 non-null    datetime64[ns]\n 84  O/V Beds                                5018 non-null   float64       \n 85  HMIS O/V Beds                           4642 non-null   float64       \n 86  PIT Count                               24229 non-null  float64       \n 87  Total Beds                              24635 non-null  int64         \n 88  Updated On                              24635 non-null  datetime64[ns]\n 89  mergedDefunctYear                       0 non-null      float64       \n 90  questionUsesDescriptorElements          24635 non-null  int64         \n 91  questionDesiresToUseDescriptorElements  5850 non-null   float64       \n 92  notes                                   3748 non-null   object        \n 93  projectNotes                            2152 non-null   object        \n 94  sandyRelated                            24599 non-null  float64       \n 95  sandyRelatedNote                        37 non-null     object        \ndtypes: datetime64[ns](3), float64(44), int64(29), object(20)\nmemory usage: 18.0+ MB\n"
     ]
    }
   ],
   "source": [
    "HIC_2018.info()"
   ]
  },
  {
   "cell_type": "code",
   "execution_count": 40,
   "metadata": {},
   "outputs": [],
   "source": [
    "HIC_2019 = pd.read_excel(\"../data/2019-Housing-Inventory-County-RawFile.xlsx\")"
   ]
  },
  {
   "cell_type": "code",
   "execution_count": 41,
   "metadata": {},
   "outputs": [
    {
     "output_type": "stream",
     "name": "stdout",
     "text": [
      "<class 'pandas.core.frame.DataFrame'>\nRangeIndex: 25142 entries, 0 to 25141\nData columns (total 98 columns):\n #   Column                                  Non-Null Count  Dtype         \n---  ------                                  --------------  -----         \n 0   Row #                                   25142 non-null  int64         \n 1   CocState                                25142 non-null  object        \n 2   CoC                                     25142 non-null  object        \n 3   Coc\\ID                                  25142 non-null  int64         \n 4   HudNum                                  25142 non-null  object        \n 5   Status                                  25142 non-null  object        \n 6   year                                    25142 non-null  int64         \n 7   Organization ID                         25142 non-null  int64         \n 8   Organization Name                       25142 non-null  object        \n 9   HMIS Org ID                             17803 non-null  object        \n 10  Project ID                              25142 non-null  int64         \n 11  Project Name                            25142 non-null  object        \n 12  HMIS Project ID                         25110 non-null  object        \n 13  HIC Date                                25142 non-null  datetime64[ns]\n 14  Project Type                            25142 non-null  object        \n 15  Bed Type                                7392 non-null   object        \n 16  Geo Code                                25142 non-null  int64         \n 17  Inventory Type                          25142 non-null  object        \n 18  beginsOperationsWithinYear              378 non-null    float64       \n 19  Target Population                       3051 non-null   object        \n 20  Mc Kinney-Vento                         25131 non-null  float64       \n 21  mcKinneyVentoEsg                        25142 non-null  int64         \n 22  mcKinneyVentoEsgEs                      3192 non-null   float64       \n 23  mcKinneyVentoEsgRrh                     3192 non-null   float64       \n 24  mcKinneyVentoCoc                        25142 non-null  int64         \n 25  mcKinneyVentoCocSh                      6685 non-null   float64       \n 26  mcKinneyVentoCocTh                      6685 non-null   float64       \n 27  mcKinneyVentoCocPsh                     6685 non-null   float64       \n 28  mcKinneyVentoCocRrh                     6685 non-null   float64       \n 29  mcKinneyVentoCocSro                     6685 non-null   float64       \n 30  mcKinneyVentoSpC                        25142 non-null  int64         \n 31  mcKinneyVentoS8                         25142 non-null  int64         \n 32  mcKinneyVentoShp                        25142 non-null  int64         \n 33  federalFunding                          25128 non-null  float64       \n 34  federalFundingVash                      25142 non-null  int64         \n 35  federalFundingSsvf                      25142 non-null  int64         \n 36  federalFundingGpd                       25142 non-null  int64         \n 37  federalFundingGpdBh                     527 non-null    float64       \n 38  federalFundingGpdLd                     527 non-null    float64       \n 39  federalFundingGpdHh                     526 non-null    float64       \n 40  federalFundingGpdCt                     527 non-null    float64       \n 41  federalFundingGpdSith                   526 non-null    float64       \n 42  federalFundingGpdTp                     527 non-null    float64       \n 43  federalFundingHchv                      25142 non-null  int64         \n 44  federalFundingHchvCrs                   149 non-null    float64       \n 45  federalFundingHchvSh                    149 non-null    float64       \n 46  federalFundingCwt                       25142 non-null  int64         \n 47  federalFundingBcp                       25142 non-null  int64         \n 48  federalFundingTlp                       25142 non-null  int64         \n 49  federalFundingMgh                       25142 non-null  int64         \n 50  federalFundingRhyDp                     25142 non-null  int64         \n 51  federalFundingHopwa                     25142 non-null  int64         \n 52  federalFundingHopwaHmv                  343 non-null    float64       \n 53  federalFundingHopwaPh                   343 non-null    float64       \n 54  federalFundingHopwaStsf                 343 non-null    float64       \n 55  federalFundingHopwaTh                   343 non-null    float64       \n 56  federalFundingPih                       25142 non-null  int64         \n 57  federalFundingOther                     25142 non-null  int64         \n 58  federalFundingOtherSpecify              1245 non-null   object        \n 59  housingType                             25142 non-null  object        \n 60  Victim Service Provider                 25142 non-null  int64         \n 61  address1                                19920 non-null  object        \n 62  address2                                307 non-null    object        \n 63  city                                    20187 non-null  object        \n 64  state                                   21179 non-null  object        \n 65  zip                                     23388 non-null  float64       \n 66  Beds HH w/ Children                     21298 non-null  float64       \n 67  Units HH w/ Children                    21287 non-null  float64       \n 68  HMIS Beds HH w/ Children                19814 non-null  float64       \n 69  Veteran Beds HH w/ Children             20888 non-null  float64       \n 70  Youth Beds HH w/ Children               20892 non-null  float64       \n 71  CH Beds HH w/ Children                  6062 non-null   float64       \n 72  Beds HH w/o Children                    23402 non-null  float64       \n 73  HMIS Beds HH w/o Children               21967 non-null  float64       \n 74  Veteran Beds HH w/o Children            23244 non-null  float64       \n 75  Youth Beds HH w/o Children              23248 non-null  float64       \n 76  CH Beds HH w/o Children                 8009 non-null   float64       \n 77  Beds HH w/ only Children                17771 non-null  float64       \n 78  HMIS Beds HH w/ only Children           16691 non-null  float64       \n 79  CH Beds HH w only Children              4374 non-null   float64       \n 80  Year-Round Beds                         25142 non-null  int64         \n 81  DV Beds                                 2372 non-null   float64       \n 82  Total Seasonal Beds                     5175 non-null   float64       \n 83  Seasonal Beds Available in HMIS         5143 non-null   float64       \n 84  Availability Start Date                 593 non-null    datetime64[ns]\n 85  Availability End Date                   593 non-null    datetime64[ns]\n 86  O/V Beds                                5217 non-null   float64       \n 87  HMIS O/V Beds                           4943 non-null   float64       \n 88  PIT Count                               24764 non-null  float64       \n 89  Total Beds                              25142 non-null  int64         \n 90  Updated On                              25142 non-null  datetime64[ns]\n 91  mergedDefunctYear                       0 non-null      float64       \n 92  questionUsesDescriptorElements          25142 non-null  int64         \n 93  questionDesiresToUseDescriptorElements  4716 non-null   float64       \n 94  notes                                   3854 non-null   object        \n 95  projectNotes                            2704 non-null   object        \n 96  sandyRelated                            25142 non-null  int64         \n 97  sandyRelatedNote                        17 non-null     object        \ndtypes: datetime64[ns](4), float64(45), int64(28), object(21)\nmemory usage: 18.8+ MB\n"
     ]
    }
   ],
   "source": [
    "HIC_2019.info()"
   ]
  },
  {
   "cell_type": "code",
   "execution_count": 42,
   "metadata": {},
   "outputs": [],
   "source": [
    "HIC_2020 = pd.read_excel(\"../data/2020-HIC-Raw-File.xlsx\")"
   ]
  },
  {
   "cell_type": "code",
   "execution_count": 43,
   "metadata": {},
   "outputs": [
    {
     "output_type": "stream",
     "name": "stdout",
     "text": [
      "<class 'pandas.core.frame.DataFrame'>\nRangeIndex: 25228 entries, 0 to 25227\nData columns (total 93 columns):\n #   Column                                  Non-Null Count  Dtype         \n---  ------                                  --------------  -----         \n 0   Row #                                   25228 non-null  int64         \n 1   CocState                                25228 non-null  object        \n 2   CoC                                     25228 non-null  object        \n 3   Coc\\ID                                  25228 non-null  int64         \n 4   HudNum                                  25228 non-null  object        \n 5   Status                                  25228 non-null  object        \n 6   year                                    25228 non-null  int64         \n 7   Organization ID                         25228 non-null  int64         \n 8   Organization Name                       25227 non-null  object        \n 9   HMIS Org ID                             25202 non-null  object        \n 10  Project ID                              25228 non-null  int64         \n 11  Project Name                            25228 non-null  object        \n 12  HMIS Project ID                         25218 non-null  object        \n 13  HIC Date                                25228 non-null  datetime64[ns]\n 14  Project Type                            25228 non-null  object        \n 15  Bed Type                                7572 non-null   object        \n 16  Geo Code                                25228 non-null  int64         \n 17  HMIS Participating                      25223 non-null  float64       \n 18  Inventory Type                          25226 non-null  object        \n 19  beginsOperationsWithinYear              400 non-null    float64       \n 20  Target Population                       3135 non-null   object        \n 21  mcKinneyVentoEsg                        25228 non-null  int64         \n 22  mcKinneyVentoEsgEs                      3115 non-null   float64       \n 23  mcKinneyVentoEsgRrh                     3115 non-null   float64       \n 24  mcKinneyVentoCoc                        25228 non-null  int64         \n 25  mcKinneyVentoCocSh                      6381 non-null   float64       \n 26  mcKinneyVentoCocTh                      6381 non-null   float64       \n 27  mcKinneyVentoCocPsh                     6381 non-null   float64       \n 28  mcKinneyVentoCocRrh                     6381 non-null   float64       \n 29  mcKinneyVentoCocSro                     6381 non-null   float64       \n 30  mcKinneyVentoCocYhdp                    6381 non-null   float64       \n 31  mcKinneyVentoCocThRrh                   6381 non-null   float64       \n 32  mcKinneyVentoSpC                        25228 non-null  int64         \n 33  mcKinneyVentoS8                         25228 non-null  int64         \n 34  mcKinneyVentoShp                        25228 non-null  int64         \n 35  federalFundingVash                      25228 non-null  int64         \n 36  federalFundingSsvf                      25228 non-null  int64         \n 37  federalFundingGpd                       25228 non-null  int64         \n 38  federalFundingGpdBh                     528 non-null    float64       \n 39  federalFundingGpdLd                     528 non-null    float64       \n 40  federalFundingGpdHh                     528 non-null    float64       \n 41  federalFundingGpdCt                     528 non-null    float64       \n 42  federalFundingGpdSith                   528 non-null    float64       \n 43  federalFundingGpdTp                     528 non-null    float64       \n 44  federalFundingHchv                      25228 non-null  int64         \n 45  federalFundingHchvCrs                   149 non-null    float64       \n 46  federalFundingHchvSh                    149 non-null    float64       \n 47  federalFundingBcp                       25228 non-null  int64         \n 48  federalFundingTlp                       25228 non-null  int64         \n 49  federalFundingMgh                       25228 non-null  int64         \n 50  federalFundingRhyDp                     25228 non-null  int64         \n 51  federalFundingHopwa                     25228 non-null  int64         \n 52  federalFundingHopwaHmv                  279 non-null    float64       \n 53  federalFundingHopwaPh                   279 non-null    float64       \n 54  federalFundingHopwaStsf                 279 non-null    float64       \n 55  federalFundingHopwaTh                   279 non-null    float64       \n 56  federalFundingPih                       25228 non-null  int64         \n 57  federalFundingOther                     25228 non-null  int64         \n 58  federalFundingOtherSpecify              1240 non-null   object        \n 59  housingType                             25228 non-null  object        \n 60  Victim Service Provider                 25228 non-null  int64         \n 61  address1                                19966 non-null  object        \n 62  address2                                298 non-null    object        \n 63  city                                    20327 non-null  object        \n 64  state                                   21247 non-null  object        \n 65  zip                                     23750 non-null  float64       \n 66  Beds HH w/ Children                     21444 non-null  float64       \n 67  Units HH w/ Children                    21391 non-null  float64       \n 68  Veteran Beds HH w/ Children             21109 non-null  float64       \n 69  Youth Beds HH w/ Children               21110 non-null  float64       \n 70  CH Beds HH w/ Children                  6175 non-null   float64       \n 71  Beds HH w/o Children                    23534 non-null  float64       \n 72  Veteran Beds HH w/o Children            23454 non-null  float64       \n 73  Youth Beds HH w/o Children              23443 non-null  float64       \n 74  CH Beds HH w/o Children                 7840 non-null   float64       \n 75  Beds HH w/ only Children                17903 non-null  float64       \n 76  CH Beds HH w only Children              4647 non-null   float64       \n 77  Year-Round Beds                         25228 non-null  int64         \n 78  DV Beds                                 2488 non-null   float64       \n 79  Total Seasonal Beds                     5162 non-null   float64       \n 80  Availability Start Date                 606 non-null    datetime64[ns]\n 81  Availability End Date                   606 non-null    datetime64[ns]\n 82  O/V Beds                                5202 non-null   float64       \n 83  PIT Count                               24826 non-null  float64       \n 84  Total Beds                              25228 non-null  int64         \n 85  Updated On                              25228 non-null  datetime64[ns]\n 86  mergedDefunctYear                       0 non-null      float64       \n 87  questionUsesDescriptorElements          25228 non-null  int64         \n 88  questionDesiresToUseDescriptorElements  4769 non-null   float64       \n 89  notes                                   4138 non-null   object        \n 90  projectNotes                            2650 non-null   object        \n 91  sandyRelated                            25228 non-null  int64         \n 92  sandyRelatedNote                        3 non-null      object        \ndtypes: datetime64[ns](4), float64(41), int64(27), object(21)\nmemory usage: 17.9+ MB\n"
     ]
    }
   ],
   "source": [
    "HIC_2020.info()"
   ]
  },
  {
   "cell_type": "code",
   "execution_count": 44,
   "metadata": {},
   "outputs": [],
   "source": [
    "# list of all dataframes\n",
    "HICs = [HIC_2012, HIC_2013, HIC_2014, HIC_2015, HIC_2016, HIC_2017, HIC_2018, HIC_2019, HIC_2020]"
   ]
  },
  {
   "cell_type": "code",
   "execution_count": 59,
   "metadata": {},
   "outputs": [
    {
     "output_type": "error",
     "ename": "KeyError",
     "evalue": "'CoC\\\\ID'",
     "traceback": [
      "\u001b[0;31m---------------------------------------------------------------------------\u001b[0m",
      "\u001b[0;31mKeyError\u001b[0m                                  Traceback (most recent call last)",
      "\u001b[0;32m~/anaconda3/lib/python3.8/site-packages/pandas/core/indexes/base.py\u001b[0m in \u001b[0;36mget_loc\u001b[0;34m(self, key, method, tolerance)\u001b[0m\n\u001b[1;32m   3360\u001b[0m             \u001b[0;32mtry\u001b[0m\u001b[0;34m:\u001b[0m\u001b[0;34m\u001b[0m\u001b[0;34m\u001b[0m\u001b[0m\n\u001b[0;32m-> 3361\u001b[0;31m                 \u001b[0;32mreturn\u001b[0m \u001b[0mself\u001b[0m\u001b[0;34m.\u001b[0m\u001b[0m_engine\u001b[0m\u001b[0;34m.\u001b[0m\u001b[0mget_loc\u001b[0m\u001b[0;34m(\u001b[0m\u001b[0mcasted_key\u001b[0m\u001b[0;34m)\u001b[0m\u001b[0;34m\u001b[0m\u001b[0;34m\u001b[0m\u001b[0m\n\u001b[0m\u001b[1;32m   3362\u001b[0m             \u001b[0;32mexcept\u001b[0m \u001b[0mKeyError\u001b[0m \u001b[0;32mas\u001b[0m \u001b[0merr\u001b[0m\u001b[0;34m:\u001b[0m\u001b[0;34m\u001b[0m\u001b[0;34m\u001b[0m\u001b[0m\n",
      "\u001b[0;32m~/anaconda3/lib/python3.8/site-packages/pandas/_libs/index.pyx\u001b[0m in \u001b[0;36mpandas._libs.index.IndexEngine.get_loc\u001b[0;34m()\u001b[0m\n",
      "\u001b[0;32m~/anaconda3/lib/python3.8/site-packages/pandas/_libs/index.pyx\u001b[0m in \u001b[0;36mpandas._libs.index.IndexEngine.get_loc\u001b[0;34m()\u001b[0m\n",
      "\u001b[0;32mpandas/_libs/hashtable_class_helper.pxi\u001b[0m in \u001b[0;36mpandas._libs.hashtable.PyObjectHashTable.get_item\u001b[0;34m()\u001b[0m\n",
      "\u001b[0;32mpandas/_libs/hashtable_class_helper.pxi\u001b[0m in \u001b[0;36mpandas._libs.hashtable.PyObjectHashTable.get_item\u001b[0;34m()\u001b[0m\n",
      "\u001b[0;31mKeyError\u001b[0m: 'CoC\\\\ID'",
      "\nThe above exception was the direct cause of the following exception:\n",
      "\u001b[0;31mKeyError\u001b[0m                                  Traceback (most recent call last)",
      "\u001b[0;32m<ipython-input-59-4c140626bc2a>\u001b[0m in \u001b[0;36m<module>\u001b[0;34m\u001b[0m\n\u001b[0;32m----> 1\u001b[0;31m \u001b[0mHIC_2020\u001b[0m\u001b[0;34m[\u001b[0m\u001b[0;34m\"CoC\\ID\"\u001b[0m\u001b[0;34m]\u001b[0m\u001b[0;34m;\u001b[0m\u001b[0;34m\u001b[0m\u001b[0;34m\u001b[0m\u001b[0m\n\u001b[0m",
      "\u001b[0;32m~/anaconda3/lib/python3.8/site-packages/pandas/core/frame.py\u001b[0m in \u001b[0;36m__getitem__\u001b[0;34m(self, key)\u001b[0m\n\u001b[1;32m   3453\u001b[0m             \u001b[0;32mif\u001b[0m \u001b[0mself\u001b[0m\u001b[0;34m.\u001b[0m\u001b[0mcolumns\u001b[0m\u001b[0;34m.\u001b[0m\u001b[0mnlevels\u001b[0m \u001b[0;34m>\u001b[0m \u001b[0;36m1\u001b[0m\u001b[0;34m:\u001b[0m\u001b[0;34m\u001b[0m\u001b[0;34m\u001b[0m\u001b[0m\n\u001b[1;32m   3454\u001b[0m                 \u001b[0;32mreturn\u001b[0m \u001b[0mself\u001b[0m\u001b[0;34m.\u001b[0m\u001b[0m_getitem_multilevel\u001b[0m\u001b[0;34m(\u001b[0m\u001b[0mkey\u001b[0m\u001b[0;34m)\u001b[0m\u001b[0;34m\u001b[0m\u001b[0;34m\u001b[0m\u001b[0m\n\u001b[0;32m-> 3455\u001b[0;31m             \u001b[0mindexer\u001b[0m \u001b[0;34m=\u001b[0m \u001b[0mself\u001b[0m\u001b[0;34m.\u001b[0m\u001b[0mcolumns\u001b[0m\u001b[0;34m.\u001b[0m\u001b[0mget_loc\u001b[0m\u001b[0;34m(\u001b[0m\u001b[0mkey\u001b[0m\u001b[0;34m)\u001b[0m\u001b[0;34m\u001b[0m\u001b[0;34m\u001b[0m\u001b[0m\n\u001b[0m\u001b[1;32m   3456\u001b[0m             \u001b[0;32mif\u001b[0m \u001b[0mis_integer\u001b[0m\u001b[0;34m(\u001b[0m\u001b[0mindexer\u001b[0m\u001b[0;34m)\u001b[0m\u001b[0;34m:\u001b[0m\u001b[0;34m\u001b[0m\u001b[0;34m\u001b[0m\u001b[0m\n\u001b[1;32m   3457\u001b[0m                 \u001b[0mindexer\u001b[0m \u001b[0;34m=\u001b[0m \u001b[0;34m[\u001b[0m\u001b[0mindexer\u001b[0m\u001b[0;34m]\u001b[0m\u001b[0;34m\u001b[0m\u001b[0;34m\u001b[0m\u001b[0m\n",
      "\u001b[0;32m~/anaconda3/lib/python3.8/site-packages/pandas/core/indexes/base.py\u001b[0m in \u001b[0;36mget_loc\u001b[0;34m(self, key, method, tolerance)\u001b[0m\n\u001b[1;32m   3361\u001b[0m                 \u001b[0;32mreturn\u001b[0m \u001b[0mself\u001b[0m\u001b[0;34m.\u001b[0m\u001b[0m_engine\u001b[0m\u001b[0;34m.\u001b[0m\u001b[0mget_loc\u001b[0m\u001b[0;34m(\u001b[0m\u001b[0mcasted_key\u001b[0m\u001b[0;34m)\u001b[0m\u001b[0;34m\u001b[0m\u001b[0;34m\u001b[0m\u001b[0m\n\u001b[1;32m   3362\u001b[0m             \u001b[0;32mexcept\u001b[0m \u001b[0mKeyError\u001b[0m \u001b[0;32mas\u001b[0m \u001b[0merr\u001b[0m\u001b[0;34m:\u001b[0m\u001b[0;34m\u001b[0m\u001b[0;34m\u001b[0m\u001b[0m\n\u001b[0;32m-> 3363\u001b[0;31m                 \u001b[0;32mraise\u001b[0m \u001b[0mKeyError\u001b[0m\u001b[0;34m(\u001b[0m\u001b[0mkey\u001b[0m\u001b[0;34m)\u001b[0m \u001b[0;32mfrom\u001b[0m \u001b[0merr\u001b[0m\u001b[0;34m\u001b[0m\u001b[0;34m\u001b[0m\u001b[0m\n\u001b[0m\u001b[1;32m   3364\u001b[0m \u001b[0;34m\u001b[0m\u001b[0m\n\u001b[1;32m   3365\u001b[0m         \u001b[0;32mif\u001b[0m \u001b[0mis_scalar\u001b[0m\u001b[0;34m(\u001b[0m\u001b[0mkey\u001b[0m\u001b[0;34m)\u001b[0m \u001b[0;32mand\u001b[0m \u001b[0misna\u001b[0m\u001b[0;34m(\u001b[0m\u001b[0mkey\u001b[0m\u001b[0;34m)\u001b[0m \u001b[0;32mand\u001b[0m \u001b[0;32mnot\u001b[0m \u001b[0mself\u001b[0m\u001b[0;34m.\u001b[0m\u001b[0mhasnans\u001b[0m\u001b[0;34m:\u001b[0m\u001b[0;34m\u001b[0m\u001b[0;34m\u001b[0m\u001b[0m\n",
      "\u001b[0;31mKeyError\u001b[0m: 'CoC\\\\ID'"
     ]
    }
   ],
   "source": [
    "HIC_2020[\"CoC\\ID\"];"
   ]
  },
  {
   "source": [
    "20# Table Merging"
   ],
   "cell_type": "markdown",
   "metadata": {}
  },
  {
   "cell_type": "code",
   "execution_count": 99,
   "metadata": {},
   "outputs": [],
   "source": [
    "HIC_df = pd.concat(HICs)"
   ]
  },
  {
   "cell_type": "code",
   "execution_count": 100,
   "metadata": {},
   "outputs": [
    {
     "output_type": "error",
     "ename": "TypeError",
     "evalue": "'<' not supported between instances of 'datetime.datetime' and 'int'",
     "traceback": [
      "\u001b[0;31m---------------------------------------------------------------------------\u001b[0m",
      "\u001b[0;31mTypeError\u001b[0m                                 Traceback (most recent call last)",
      "\u001b[0;32m<ipython-input-100-bb9761b045e1>\u001b[0m in \u001b[0;36m<module>\u001b[0;34m\u001b[0m\n\u001b[0;32m----> 1\u001b[0;31m \u001b[0mHIC_df\u001b[0m\u001b[0;34m.\u001b[0m\u001b[0mvalue_counts\u001b[0m\u001b[0;34m(\u001b[0m\u001b[0;34m)\u001b[0m\u001b[0;34m\u001b[0m\u001b[0;34m\u001b[0m\u001b[0m\n\u001b[0m",
      "\u001b[0;32m~/anaconda3/lib/python3.8/site-packages/pandas/core/frame.py\u001b[0m in \u001b[0;36mvalue_counts\u001b[0;34m(self, subset, normalize, sort, ascending, dropna)\u001b[0m\n\u001b[1;32m   6509\u001b[0m             \u001b[0msubset\u001b[0m \u001b[0;34m=\u001b[0m \u001b[0mself\u001b[0m\u001b[0;34m.\u001b[0m\u001b[0mcolumns\u001b[0m\u001b[0;34m.\u001b[0m\u001b[0mtolist\u001b[0m\u001b[0;34m(\u001b[0m\u001b[0;34m)\u001b[0m\u001b[0;34m\u001b[0m\u001b[0;34m\u001b[0m\u001b[0m\n\u001b[1;32m   6510\u001b[0m \u001b[0;34m\u001b[0m\u001b[0m\n\u001b[0;32m-> 6511\u001b[0;31m         \u001b[0mcounts\u001b[0m \u001b[0;34m=\u001b[0m \u001b[0mself\u001b[0m\u001b[0;34m.\u001b[0m\u001b[0mgroupby\u001b[0m\u001b[0;34m(\u001b[0m\u001b[0msubset\u001b[0m\u001b[0;34m,\u001b[0m \u001b[0mdropna\u001b[0m\u001b[0;34m=\u001b[0m\u001b[0mdropna\u001b[0m\u001b[0;34m)\u001b[0m\u001b[0;34m.\u001b[0m\u001b[0mgrouper\u001b[0m\u001b[0;34m.\u001b[0m\u001b[0msize\u001b[0m\u001b[0;34m(\u001b[0m\u001b[0;34m)\u001b[0m\u001b[0;34m\u001b[0m\u001b[0;34m\u001b[0m\u001b[0m\n\u001b[0m\u001b[1;32m   6512\u001b[0m \u001b[0;34m\u001b[0m\u001b[0m\n\u001b[1;32m   6513\u001b[0m         \u001b[0;32mif\u001b[0m \u001b[0msort\u001b[0m\u001b[0;34m:\u001b[0m\u001b[0;34m\u001b[0m\u001b[0;34m\u001b[0m\u001b[0m\n",
      "\u001b[0;32m~/anaconda3/lib/python3.8/site-packages/pandas/core/groupby/ops.py\u001b[0m in \u001b[0;36msize\u001b[0;34m(self)\u001b[0m\n\u001b[1;32m    852\u001b[0m         \u001b[0mCompute\u001b[0m \u001b[0mgroup\u001b[0m \u001b[0msizes\u001b[0m\u001b[0;34m.\u001b[0m\u001b[0;34m\u001b[0m\u001b[0;34m\u001b[0m\u001b[0m\n\u001b[1;32m    853\u001b[0m         \"\"\"\n\u001b[0;32m--> 854\u001b[0;31m         \u001b[0mids\u001b[0m\u001b[0;34m,\u001b[0m \u001b[0m_\u001b[0m\u001b[0;34m,\u001b[0m \u001b[0mngroups\u001b[0m \u001b[0;34m=\u001b[0m \u001b[0mself\u001b[0m\u001b[0;34m.\u001b[0m\u001b[0mgroup_info\u001b[0m\u001b[0;34m\u001b[0m\u001b[0;34m\u001b[0m\u001b[0m\n\u001b[0m\u001b[1;32m    855\u001b[0m         \u001b[0;32mif\u001b[0m \u001b[0mngroups\u001b[0m\u001b[0;34m:\u001b[0m\u001b[0;34m\u001b[0m\u001b[0;34m\u001b[0m\u001b[0m\n\u001b[1;32m    856\u001b[0m             \u001b[0mout\u001b[0m \u001b[0;34m=\u001b[0m \u001b[0mnp\u001b[0m\u001b[0;34m.\u001b[0m\u001b[0mbincount\u001b[0m\u001b[0;34m(\u001b[0m\u001b[0mids\u001b[0m\u001b[0;34m[\u001b[0m\u001b[0mids\u001b[0m \u001b[0;34m!=\u001b[0m \u001b[0;34m-\u001b[0m\u001b[0;36m1\u001b[0m\u001b[0;34m]\u001b[0m\u001b[0;34m,\u001b[0m \u001b[0mminlength\u001b[0m\u001b[0;34m=\u001b[0m\u001b[0mngroups\u001b[0m\u001b[0;34m)\u001b[0m\u001b[0;34m\u001b[0m\u001b[0;34m\u001b[0m\u001b[0m\n",
      "\u001b[0;32m~/anaconda3/lib/python3.8/site-packages/pandas/_libs/properties.pyx\u001b[0m in \u001b[0;36mpandas._libs.properties.CachedProperty.__get__\u001b[0;34m()\u001b[0m\n",
      "\u001b[0;32m~/anaconda3/lib/python3.8/site-packages/pandas/core/groupby/ops.py\u001b[0m in \u001b[0;36mgroup_info\u001b[0;34m(self)\u001b[0m\n\u001b[1;32m    877\u001b[0m     \u001b[0;34m@\u001b[0m\u001b[0mcache_readonly\u001b[0m\u001b[0;34m\u001b[0m\u001b[0;34m\u001b[0m\u001b[0m\n\u001b[1;32m    878\u001b[0m     \u001b[0;32mdef\u001b[0m \u001b[0mgroup_info\u001b[0m\u001b[0;34m(\u001b[0m\u001b[0mself\u001b[0m\u001b[0;34m)\u001b[0m\u001b[0;34m:\u001b[0m\u001b[0;34m\u001b[0m\u001b[0;34m\u001b[0m\u001b[0m\n\u001b[0;32m--> 879\u001b[0;31m         \u001b[0mcomp_ids\u001b[0m\u001b[0;34m,\u001b[0m \u001b[0mobs_group_ids\u001b[0m \u001b[0;34m=\u001b[0m \u001b[0mself\u001b[0m\u001b[0;34m.\u001b[0m\u001b[0m_get_compressed_codes\u001b[0m\u001b[0;34m(\u001b[0m\u001b[0;34m)\u001b[0m\u001b[0;34m\u001b[0m\u001b[0;34m\u001b[0m\u001b[0m\n\u001b[0m\u001b[1;32m    880\u001b[0m \u001b[0;34m\u001b[0m\u001b[0m\n\u001b[1;32m    881\u001b[0m         \u001b[0mngroups\u001b[0m \u001b[0;34m=\u001b[0m \u001b[0mlen\u001b[0m\u001b[0;34m(\u001b[0m\u001b[0mobs_group_ids\u001b[0m\u001b[0;34m)\u001b[0m\u001b[0;34m\u001b[0m\u001b[0;34m\u001b[0m\u001b[0m\n",
      "\u001b[0;32m~/anaconda3/lib/python3.8/site-packages/pandas/core/groupby/ops.py\u001b[0m in \u001b[0;36m_get_compressed_codes\u001b[0;34m(self)\u001b[0m\n\u001b[1;32m    897\u001b[0m     \u001b[0;32mdef\u001b[0m \u001b[0m_get_compressed_codes\u001b[0m\u001b[0;34m(\u001b[0m\u001b[0mself\u001b[0m\u001b[0;34m)\u001b[0m \u001b[0;34m->\u001b[0m \u001b[0mtuple\u001b[0m\u001b[0;34m[\u001b[0m\u001b[0mnp\u001b[0m\u001b[0;34m.\u001b[0m\u001b[0mndarray\u001b[0m\u001b[0;34m,\u001b[0m \u001b[0mnp\u001b[0m\u001b[0;34m.\u001b[0m\u001b[0mndarray\u001b[0m\u001b[0;34m]\u001b[0m\u001b[0;34m:\u001b[0m\u001b[0;34m\u001b[0m\u001b[0;34m\u001b[0m\u001b[0m\n\u001b[1;32m    898\u001b[0m         \u001b[0;32mif\u001b[0m \u001b[0mlen\u001b[0m\u001b[0;34m(\u001b[0m\u001b[0mself\u001b[0m\u001b[0;34m.\u001b[0m\u001b[0mgroupings\u001b[0m\u001b[0;34m)\u001b[0m \u001b[0;34m>\u001b[0m \u001b[0;36m1\u001b[0m\u001b[0;34m:\u001b[0m\u001b[0;34m\u001b[0m\u001b[0;34m\u001b[0m\u001b[0m\n\u001b[0;32m--> 899\u001b[0;31m             \u001b[0mgroup_index\u001b[0m \u001b[0;34m=\u001b[0m \u001b[0mget_group_index\u001b[0m\u001b[0;34m(\u001b[0m\u001b[0mself\u001b[0m\u001b[0;34m.\u001b[0m\u001b[0mcodes\u001b[0m\u001b[0;34m,\u001b[0m \u001b[0mself\u001b[0m\u001b[0;34m.\u001b[0m\u001b[0mshape\u001b[0m\u001b[0;34m,\u001b[0m \u001b[0msort\u001b[0m\u001b[0;34m=\u001b[0m\u001b[0;32mTrue\u001b[0m\u001b[0;34m,\u001b[0m \u001b[0mxnull\u001b[0m\u001b[0;34m=\u001b[0m\u001b[0;32mTrue\u001b[0m\u001b[0;34m)\u001b[0m\u001b[0;34m\u001b[0m\u001b[0;34m\u001b[0m\u001b[0m\n\u001b[0m\u001b[1;32m    900\u001b[0m             \u001b[0;32mreturn\u001b[0m \u001b[0mcompress_group_index\u001b[0m\u001b[0;34m(\u001b[0m\u001b[0mgroup_index\u001b[0m\u001b[0;34m,\u001b[0m \u001b[0msort\u001b[0m\u001b[0;34m=\u001b[0m\u001b[0mself\u001b[0m\u001b[0;34m.\u001b[0m\u001b[0m_sort\u001b[0m\u001b[0;34m)\u001b[0m\u001b[0;34m\u001b[0m\u001b[0;34m\u001b[0m\u001b[0m\n\u001b[1;32m    901\u001b[0m \u001b[0;34m\u001b[0m\u001b[0m\n",
      "\u001b[0;32m~/anaconda3/lib/python3.8/site-packages/pandas/core/groupby/ops.py\u001b[0m in \u001b[0;36mcodes\u001b[0;34m(self)\u001b[0m\n\u001b[1;32m    837\u001b[0m     \u001b[0;34m@\u001b[0m\u001b[0mproperty\u001b[0m\u001b[0;34m\u001b[0m\u001b[0;34m\u001b[0m\u001b[0m\n\u001b[1;32m    838\u001b[0m     \u001b[0;32mdef\u001b[0m \u001b[0mcodes\u001b[0m\u001b[0;34m(\u001b[0m\u001b[0mself\u001b[0m\u001b[0;34m)\u001b[0m \u001b[0;34m->\u001b[0m \u001b[0mlist\u001b[0m\u001b[0;34m[\u001b[0m\u001b[0mnp\u001b[0m\u001b[0;34m.\u001b[0m\u001b[0mndarray\u001b[0m\u001b[0;34m]\u001b[0m\u001b[0;34m:\u001b[0m\u001b[0;34m\u001b[0m\u001b[0;34m\u001b[0m\u001b[0m\n\u001b[0;32m--> 839\u001b[0;31m         \u001b[0;32mreturn\u001b[0m \u001b[0;34m[\u001b[0m\u001b[0mping\u001b[0m\u001b[0;34m.\u001b[0m\u001b[0mcodes\u001b[0m \u001b[0;32mfor\u001b[0m \u001b[0mping\u001b[0m \u001b[0;32min\u001b[0m \u001b[0mself\u001b[0m\u001b[0;34m.\u001b[0m\u001b[0mgroupings\u001b[0m\u001b[0;34m]\u001b[0m\u001b[0;34m\u001b[0m\u001b[0;34m\u001b[0m\u001b[0m\n\u001b[0m\u001b[1;32m    840\u001b[0m \u001b[0;34m\u001b[0m\u001b[0m\n\u001b[1;32m    841\u001b[0m     \u001b[0;34m@\u001b[0m\u001b[0mproperty\u001b[0m\u001b[0;34m\u001b[0m\u001b[0;34m\u001b[0m\u001b[0m\n",
      "\u001b[0;32m~/anaconda3/lib/python3.8/site-packages/pandas/core/groupby/ops.py\u001b[0m in \u001b[0;36m<listcomp>\u001b[0;34m(.0)\u001b[0m\n\u001b[1;32m    837\u001b[0m     \u001b[0;34m@\u001b[0m\u001b[0mproperty\u001b[0m\u001b[0;34m\u001b[0m\u001b[0;34m\u001b[0m\u001b[0m\n\u001b[1;32m    838\u001b[0m     \u001b[0;32mdef\u001b[0m \u001b[0mcodes\u001b[0m\u001b[0;34m(\u001b[0m\u001b[0mself\u001b[0m\u001b[0;34m)\u001b[0m \u001b[0;34m->\u001b[0m \u001b[0mlist\u001b[0m\u001b[0;34m[\u001b[0m\u001b[0mnp\u001b[0m\u001b[0;34m.\u001b[0m\u001b[0mndarray\u001b[0m\u001b[0;34m]\u001b[0m\u001b[0;34m:\u001b[0m\u001b[0;34m\u001b[0m\u001b[0;34m\u001b[0m\u001b[0m\n\u001b[0;32m--> 839\u001b[0;31m         \u001b[0;32mreturn\u001b[0m \u001b[0;34m[\u001b[0m\u001b[0mping\u001b[0m\u001b[0;34m.\u001b[0m\u001b[0mcodes\u001b[0m \u001b[0;32mfor\u001b[0m \u001b[0mping\u001b[0m \u001b[0;32min\u001b[0m \u001b[0mself\u001b[0m\u001b[0;34m.\u001b[0m\u001b[0mgroupings\u001b[0m\u001b[0;34m]\u001b[0m\u001b[0;34m\u001b[0m\u001b[0;34m\u001b[0m\u001b[0m\n\u001b[0m\u001b[1;32m    840\u001b[0m \u001b[0;34m\u001b[0m\u001b[0m\n\u001b[1;32m    841\u001b[0m     \u001b[0;34m@\u001b[0m\u001b[0mproperty\u001b[0m\u001b[0;34m\u001b[0m\u001b[0;34m\u001b[0m\u001b[0m\n",
      "\u001b[0;32m~/anaconda3/lib/python3.8/site-packages/pandas/core/groupby/grouper.py\u001b[0m in \u001b[0;36mcodes\u001b[0;34m(self)\u001b[0m\n\u001b[1;32m    610\u001b[0m             \u001b[0;32mreturn\u001b[0m \u001b[0mself\u001b[0m\u001b[0;34m.\u001b[0m\u001b[0m_codes\u001b[0m\u001b[0;34m\u001b[0m\u001b[0;34m\u001b[0m\u001b[0m\n\u001b[1;32m    611\u001b[0m \u001b[0;34m\u001b[0m\u001b[0m\n\u001b[0;32m--> 612\u001b[0;31m         \u001b[0;32mreturn\u001b[0m \u001b[0mself\u001b[0m\u001b[0;34m.\u001b[0m\u001b[0m_codes_and_uniques\u001b[0m\u001b[0;34m[\u001b[0m\u001b[0;36m0\u001b[0m\u001b[0;34m]\u001b[0m\u001b[0;34m\u001b[0m\u001b[0;34m\u001b[0m\u001b[0m\n\u001b[0m\u001b[1;32m    613\u001b[0m \u001b[0;34m\u001b[0m\u001b[0m\n\u001b[1;32m    614\u001b[0m     \u001b[0;34m@\u001b[0m\u001b[0mcache_readonly\u001b[0m\u001b[0;34m\u001b[0m\u001b[0;34m\u001b[0m\u001b[0m\n",
      "\u001b[0;32m~/anaconda3/lib/python3.8/site-packages/pandas/_libs/properties.pyx\u001b[0m in \u001b[0;36mpandas._libs.properties.CachedProperty.__get__\u001b[0;34m()\u001b[0m\n",
      "\u001b[0;32m~/anaconda3/lib/python3.8/site-packages/pandas/core/groupby/grouper.py\u001b[0m in \u001b[0;36m_codes_and_uniques\u001b[0;34m(self)\u001b[0m\n\u001b[1;32m    668\u001b[0m             \u001b[0;32melse\u001b[0m\u001b[0;34m:\u001b[0m\u001b[0;34m\u001b[0m\u001b[0;34m\u001b[0m\u001b[0m\n\u001b[1;32m    669\u001b[0m                 \u001b[0mna_sentinel\u001b[0m \u001b[0;34m=\u001b[0m \u001b[0;34m-\u001b[0m\u001b[0;36m1\u001b[0m\u001b[0;34m\u001b[0m\u001b[0;34m\u001b[0m\u001b[0m\n\u001b[0;32m--> 670\u001b[0;31m             codes, uniques = algorithms.factorize(\n\u001b[0m\u001b[1;32m    671\u001b[0m                 \u001b[0mself\u001b[0m\u001b[0;34m.\u001b[0m\u001b[0mgrouping_vector\u001b[0m\u001b[0;34m,\u001b[0m \u001b[0msort\u001b[0m\u001b[0;34m=\u001b[0m\u001b[0mself\u001b[0m\u001b[0;34m.\u001b[0m\u001b[0m_sort\u001b[0m\u001b[0;34m,\u001b[0m \u001b[0mna_sentinel\u001b[0m\u001b[0;34m=\u001b[0m\u001b[0mna_sentinel\u001b[0m\u001b[0;34m\u001b[0m\u001b[0;34m\u001b[0m\u001b[0m\n\u001b[1;32m    672\u001b[0m             )\n",
      "\u001b[0;32m~/anaconda3/lib/python3.8/site-packages/pandas/core/algorithms.py\u001b[0m in \u001b[0;36mfactorize\u001b[0;34m(values, sort, na_sentinel, size_hint)\u001b[0m\n\u001b[1;32m    763\u001b[0m \u001b[0;34m\u001b[0m\u001b[0m\n\u001b[1;32m    764\u001b[0m     \u001b[0;32mif\u001b[0m \u001b[0msort\u001b[0m \u001b[0;32mand\u001b[0m \u001b[0mlen\u001b[0m\u001b[0;34m(\u001b[0m\u001b[0muniques\u001b[0m\u001b[0;34m)\u001b[0m \u001b[0;34m>\u001b[0m \u001b[0;36m0\u001b[0m\u001b[0;34m:\u001b[0m\u001b[0;34m\u001b[0m\u001b[0;34m\u001b[0m\u001b[0m\n\u001b[0;32m--> 765\u001b[0;31m         uniques, codes = safe_sort(\n\u001b[0m\u001b[1;32m    766\u001b[0m             \u001b[0muniques\u001b[0m\u001b[0;34m,\u001b[0m \u001b[0mcodes\u001b[0m\u001b[0;34m,\u001b[0m \u001b[0mna_sentinel\u001b[0m\u001b[0;34m=\u001b[0m\u001b[0mna_sentinel\u001b[0m\u001b[0;34m,\u001b[0m \u001b[0massume_unique\u001b[0m\u001b[0;34m=\u001b[0m\u001b[0;32mTrue\u001b[0m\u001b[0;34m,\u001b[0m \u001b[0mverify\u001b[0m\u001b[0;34m=\u001b[0m\u001b[0;32mFalse\u001b[0m\u001b[0;34m\u001b[0m\u001b[0;34m\u001b[0m\u001b[0m\n\u001b[1;32m    767\u001b[0m         )\n",
      "\u001b[0;32m~/anaconda3/lib/python3.8/site-packages/pandas/core/algorithms.py\u001b[0m in \u001b[0;36msafe_sort\u001b[0;34m(values, codes, na_sentinel, assume_unique, verify)\u001b[0m\n\u001b[1;32m   1778\u001b[0m         \u001b[0;32mand\u001b[0m \u001b[0mlib\u001b[0m\u001b[0;34m.\u001b[0m\u001b[0minfer_dtype\u001b[0m\u001b[0;34m(\u001b[0m\u001b[0mvalues\u001b[0m\u001b[0;34m,\u001b[0m \u001b[0mskipna\u001b[0m\u001b[0;34m=\u001b[0m\u001b[0;32mFalse\u001b[0m\u001b[0;34m)\u001b[0m \u001b[0;34m==\u001b[0m \u001b[0;34m\"mixed-integer\"\u001b[0m\u001b[0;34m\u001b[0m\u001b[0;34m\u001b[0m\u001b[0m\n\u001b[1;32m   1779\u001b[0m     ):\n\u001b[0;32m-> 1780\u001b[0;31m         \u001b[0mordered\u001b[0m \u001b[0;34m=\u001b[0m \u001b[0m_sort_mixed\u001b[0m\u001b[0;34m(\u001b[0m\u001b[0mvalues\u001b[0m\u001b[0;34m)\u001b[0m\u001b[0;34m\u001b[0m\u001b[0;34m\u001b[0m\u001b[0m\n\u001b[0m\u001b[1;32m   1781\u001b[0m     \u001b[0;32melse\u001b[0m\u001b[0;34m:\u001b[0m\u001b[0;34m\u001b[0m\u001b[0;34m\u001b[0m\u001b[0m\n\u001b[1;32m   1782\u001b[0m         \u001b[0;32mtry\u001b[0m\u001b[0;34m:\u001b[0m\u001b[0;34m\u001b[0m\u001b[0;34m\u001b[0m\u001b[0m\n",
      "\u001b[0;32m~/anaconda3/lib/python3.8/site-packages/pandas/core/algorithms.py\u001b[0m in \u001b[0;36m_sort_mixed\u001b[0;34m(values)\u001b[0m\n\u001b[1;32m   1842\u001b[0m     \u001b[0;34m\"\"\"order ints before strings in 1d arrays, safe in py3\"\"\"\u001b[0m\u001b[0;34m\u001b[0m\u001b[0;34m\u001b[0m\u001b[0m\n\u001b[1;32m   1843\u001b[0m     \u001b[0mstr_pos\u001b[0m \u001b[0;34m=\u001b[0m \u001b[0mnp\u001b[0m\u001b[0;34m.\u001b[0m\u001b[0marray\u001b[0m\u001b[0;34m(\u001b[0m\u001b[0;34m[\u001b[0m\u001b[0misinstance\u001b[0m\u001b[0;34m(\u001b[0m\u001b[0mx\u001b[0m\u001b[0;34m,\u001b[0m \u001b[0mstr\u001b[0m\u001b[0;34m)\u001b[0m \u001b[0;32mfor\u001b[0m \u001b[0mx\u001b[0m \u001b[0;32min\u001b[0m \u001b[0mvalues\u001b[0m\u001b[0;34m]\u001b[0m\u001b[0;34m,\u001b[0m \u001b[0mdtype\u001b[0m\u001b[0;34m=\u001b[0m\u001b[0mbool\u001b[0m\u001b[0;34m)\u001b[0m\u001b[0;34m\u001b[0m\u001b[0;34m\u001b[0m\u001b[0m\n\u001b[0;32m-> 1844\u001b[0;31m     \u001b[0mnums\u001b[0m \u001b[0;34m=\u001b[0m \u001b[0mnp\u001b[0m\u001b[0;34m.\u001b[0m\u001b[0msort\u001b[0m\u001b[0;34m(\u001b[0m\u001b[0mvalues\u001b[0m\u001b[0;34m[\u001b[0m\u001b[0;34m~\u001b[0m\u001b[0mstr_pos\u001b[0m\u001b[0;34m]\u001b[0m\u001b[0;34m)\u001b[0m\u001b[0;34m\u001b[0m\u001b[0;34m\u001b[0m\u001b[0m\n\u001b[0m\u001b[1;32m   1845\u001b[0m     \u001b[0mstrs\u001b[0m \u001b[0;34m=\u001b[0m \u001b[0mnp\u001b[0m\u001b[0;34m.\u001b[0m\u001b[0msort\u001b[0m\u001b[0;34m(\u001b[0m\u001b[0mvalues\u001b[0m\u001b[0;34m[\u001b[0m\u001b[0mstr_pos\u001b[0m\u001b[0;34m]\u001b[0m\u001b[0;34m)\u001b[0m\u001b[0;34m\u001b[0m\u001b[0;34m\u001b[0m\u001b[0m\n\u001b[1;32m   1846\u001b[0m     \u001b[0;32mreturn\u001b[0m \u001b[0mnp\u001b[0m\u001b[0;34m.\u001b[0m\u001b[0mconcatenate\u001b[0m\u001b[0;34m(\u001b[0m\u001b[0;34m[\u001b[0m\u001b[0mnums\u001b[0m\u001b[0;34m,\u001b[0m \u001b[0mnp\u001b[0m\u001b[0;34m.\u001b[0m\u001b[0masarray\u001b[0m\u001b[0;34m(\u001b[0m\u001b[0mstrs\u001b[0m\u001b[0;34m,\u001b[0m \u001b[0mdtype\u001b[0m\u001b[0;34m=\u001b[0m\u001b[0mobject\u001b[0m\u001b[0;34m)\u001b[0m\u001b[0;34m]\u001b[0m\u001b[0;34m)\u001b[0m\u001b[0;34m\u001b[0m\u001b[0;34m\u001b[0m\u001b[0m\n",
      "\u001b[0;32m<__array_function__ internals>\u001b[0m in \u001b[0;36msort\u001b[0;34m(*args, **kwargs)\u001b[0m\n",
      "\u001b[0;32m~/anaconda3/lib/python3.8/site-packages/numpy/core/fromnumeric.py\u001b[0m in \u001b[0;36msort\u001b[0;34m(a, axis, kind, order)\u001b[0m\n\u001b[1;32m    996\u001b[0m     \u001b[0;32melse\u001b[0m\u001b[0;34m:\u001b[0m\u001b[0;34m\u001b[0m\u001b[0;34m\u001b[0m\u001b[0m\n\u001b[1;32m    997\u001b[0m         \u001b[0ma\u001b[0m \u001b[0;34m=\u001b[0m \u001b[0masanyarray\u001b[0m\u001b[0;34m(\u001b[0m\u001b[0ma\u001b[0m\u001b[0;34m)\u001b[0m\u001b[0;34m.\u001b[0m\u001b[0mcopy\u001b[0m\u001b[0;34m(\u001b[0m\u001b[0morder\u001b[0m\u001b[0;34m=\u001b[0m\u001b[0;34m\"K\"\u001b[0m\u001b[0;34m)\u001b[0m\u001b[0;34m\u001b[0m\u001b[0;34m\u001b[0m\u001b[0m\n\u001b[0;32m--> 998\u001b[0;31m     \u001b[0ma\u001b[0m\u001b[0;34m.\u001b[0m\u001b[0msort\u001b[0m\u001b[0;34m(\u001b[0m\u001b[0maxis\u001b[0m\u001b[0;34m=\u001b[0m\u001b[0maxis\u001b[0m\u001b[0;34m,\u001b[0m \u001b[0mkind\u001b[0m\u001b[0;34m=\u001b[0m\u001b[0mkind\u001b[0m\u001b[0;34m,\u001b[0m \u001b[0morder\u001b[0m\u001b[0;34m=\u001b[0m\u001b[0morder\u001b[0m\u001b[0;34m)\u001b[0m\u001b[0;34m\u001b[0m\u001b[0;34m\u001b[0m\u001b[0m\n\u001b[0m\u001b[1;32m    999\u001b[0m     \u001b[0;32mreturn\u001b[0m \u001b[0ma\u001b[0m\u001b[0;34m\u001b[0m\u001b[0;34m\u001b[0m\u001b[0m\n\u001b[1;32m   1000\u001b[0m \u001b[0;34m\u001b[0m\u001b[0m\n",
      "\u001b[0;31mTypeError\u001b[0m: '<' not supported between instances of 'datetime.datetime' and 'int'"
     ]
    }
   ],
   "source": [
    "HIC_df.value_counts()"
   ]
  },
  {
   "cell_type": "code",
   "execution_count": 101,
   "metadata": {},
   "outputs": [
    {
     "output_type": "execute_result",
     "data": {
      "text/plain": [
       "RowID                           float64\n",
       "State                            object\n",
       "CoC Name                         object\n",
       "CoC ID                          float64\n",
       "HUD CoC Number                   object\n",
       "                              ...      \n",
       "HIC Date                 datetime64[ns]\n",
       "Target Population                object\n",
       "HMIS Participating              float64\n",
       "mcKinneyVentoCocYhdp            float64\n",
       "mcKinneyVentoCocThRrh           float64\n",
       "Length: 137, dtype: object"
      ]
     },
     "metadata": {},
     "execution_count": 101
    }
   ],
   "source": [
    "HIC_df.dtypes"
   ]
  },
  {
   "cell_type": "code",
   "execution_count": 102,
   "metadata": {},
   "outputs": [
    {
     "output_type": "execute_result",
     "data": {
      "text/plain": [
       "          RowID State                     CoC Name  CoC ID HUD CoC Number  \\\n",
       "0      110441.0    AK  Alaska Balance of State CoC  1105.0         AK-501   \n",
       "1      110504.0    AK  Alaska Balance of State CoC  1105.0         AK-501   \n",
       "2      110442.0    AK  Alaska Balance of State CoC  1105.0         AK-501   \n",
       "3      110443.0    AK  Alaska Balance of State CoC  1105.0         AK-501   \n",
       "4      110444.0    AK  Alaska Balance of State CoC  1105.0         AK-501   \n",
       "...         ...   ...                          ...     ...            ...   \n",
       "25223       NaN   NaN                          NaN     NaN            NaN   \n",
       "25224       NaN   NaN                          NaN     NaN            NaN   \n",
       "25225       NaN   NaN                          NaN     NaN            NaN   \n",
       "25226       NaN   NaN                          NaN     NaN            NaN   \n",
       "25227       NaN   NaN                          NaN     NaN            NaN   \n",
       "\n",
       "         Year             Organization Name    Program Name Program Type  \\\n",
       "0      2012.0  Adocates f/Victims of Violnc      DV Shelter           ES   \n",
       "1      2012.0     AHFC - Public Housing Div  VASH-Fairbanks          PSH   \n",
       "2      2012.0            AK Family Services      DV Shelter           ES   \n",
       "3      2012.0            AK Family Services  Saxton Shelter           ES   \n",
       "4      2012.0        Arctic Women in Crisis      DV Shelter           ES   \n",
       "...       ...                           ...             ...          ...   \n",
       "25223     NaN                  Saving Grace             NaN          NaN   \n",
       "25224     NaN             Buckelew Programs             NaN          NaN   \n",
       "25225     NaN             Buckelew Programs             NaN          NaN   \n",
       "25226     NaN             Buckelew Programs             NaN          NaN   \n",
       "25227     NaN             Buckelew Programs             NaN          NaN   \n",
       "\n",
       "      Bed Type  ...  federalFundingHopwaStsf federalFundingHopwaTh state  \\\n",
       "0            F  ...                      NaN                   NaN   NaN   \n",
       "1          NaN  ...                      NaN                   NaN   NaN   \n",
       "2            F  ...                      NaN                   NaN   NaN   \n",
       "3            F  ...                      NaN                   NaN   NaN   \n",
       "4            F  ...                      NaN                   NaN   NaN   \n",
       "...        ...  ...                      ...                   ...   ...   \n",
       "25223        F  ...                      NaN                   NaN   NaN   \n",
       "25224      NaN  ...                      NaN                   NaN    CA   \n",
       "25225      NaN  ...                      NaN                   NaN    CA   \n",
       "25226      NaN  ...                      NaN                   NaN    CA   \n",
       "25227      NaN  ...                      NaN                   NaN    CA   \n",
       "\n",
       "      HMIS Org ID HMIS Project ID   HIC Date  Target Population  \\\n",
       "0             NaN             NaN        NaT                NaN   \n",
       "1             NaN             NaN        NaT                NaN   \n",
       "2             NaN             NaN        NaT                NaN   \n",
       "3             NaN             NaN        NaT                NaN   \n",
       "4             NaN             NaN        NaT                NaN   \n",
       "...           ...             ...        ...                ...   \n",
       "25223        4204            5908 2020-01-29                 DV   \n",
       "25224           1             822 2020-02-28                NaN   \n",
       "25225           1             820 2020-02-28                NaN   \n",
       "25226           1             979 2020-02-28                NaN   \n",
       "25227           1             935 2020-02-28                NaN   \n",
       "\n",
       "       HMIS Participating  mcKinneyVentoCocYhdp  mcKinneyVentoCocThRrh  \n",
       "0                     NaN                   NaN                    NaN  \n",
       "1                     NaN                   NaN                    NaN  \n",
       "2                     NaN                   NaN                    NaN  \n",
       "3                     NaN                   NaN                    NaN  \n",
       "4                     NaN                   NaN                    NaN  \n",
       "...                   ...                   ...                    ...  \n",
       "25223                 0.0                   NaN                    NaN  \n",
       "25224                 1.0                   0.0                    0.0  \n",
       "25225                 1.0                   0.0                    0.0  \n",
       "25226                 1.0                   NaN                    NaN  \n",
       "25227                 1.0                   NaN                    NaN  \n",
       "\n",
       "[217633 rows x 137 columns]"
      ],
      "text/html": "<div>\n<style scoped>\n    .dataframe tbody tr th:only-of-type {\n        vertical-align: middle;\n    }\n\n    .dataframe tbody tr th {\n        vertical-align: top;\n    }\n\n    .dataframe thead th {\n        text-align: right;\n    }\n</style>\n<table border=\"1\" class=\"dataframe\">\n  <thead>\n    <tr style=\"text-align: right;\">\n      <th></th>\n      <th>RowID</th>\n      <th>State</th>\n      <th>CoC Name</th>\n      <th>CoC ID</th>\n      <th>HUD CoC Number</th>\n      <th>Year</th>\n      <th>Organization Name</th>\n      <th>Program Name</th>\n      <th>Program Type</th>\n      <th>Bed Type</th>\n      <th>...</th>\n      <th>federalFundingHopwaStsf</th>\n      <th>federalFundingHopwaTh</th>\n      <th>state</th>\n      <th>HMIS Org ID</th>\n      <th>HMIS Project ID</th>\n      <th>HIC Date</th>\n      <th>Target Population</th>\n      <th>HMIS Participating</th>\n      <th>mcKinneyVentoCocYhdp</th>\n      <th>mcKinneyVentoCocThRrh</th>\n    </tr>\n  </thead>\n  <tbody>\n    <tr>\n      <th>0</th>\n      <td>110441.0</td>\n      <td>AK</td>\n      <td>Alaska Balance of State CoC</td>\n      <td>1105.0</td>\n      <td>AK-501</td>\n      <td>2012.0</td>\n      <td>Adocates f/Victims of Violnc</td>\n      <td>DV Shelter</td>\n      <td>ES</td>\n      <td>F</td>\n      <td>...</td>\n      <td>NaN</td>\n      <td>NaN</td>\n      <td>NaN</td>\n      <td>NaN</td>\n      <td>NaN</td>\n      <td>NaT</td>\n      <td>NaN</td>\n      <td>NaN</td>\n      <td>NaN</td>\n      <td>NaN</td>\n    </tr>\n    <tr>\n      <th>1</th>\n      <td>110504.0</td>\n      <td>AK</td>\n      <td>Alaska Balance of State CoC</td>\n      <td>1105.0</td>\n      <td>AK-501</td>\n      <td>2012.0</td>\n      <td>AHFC - Public Housing Div</td>\n      <td>VASH-Fairbanks</td>\n      <td>PSH</td>\n      <td>NaN</td>\n      <td>...</td>\n      <td>NaN</td>\n      <td>NaN</td>\n      <td>NaN</td>\n      <td>NaN</td>\n      <td>NaN</td>\n      <td>NaT</td>\n      <td>NaN</td>\n      <td>NaN</td>\n      <td>NaN</td>\n      <td>NaN</td>\n    </tr>\n    <tr>\n      <th>2</th>\n      <td>110442.0</td>\n      <td>AK</td>\n      <td>Alaska Balance of State CoC</td>\n      <td>1105.0</td>\n      <td>AK-501</td>\n      <td>2012.0</td>\n      <td>AK Family Services</td>\n      <td>DV Shelter</td>\n      <td>ES</td>\n      <td>F</td>\n      <td>...</td>\n      <td>NaN</td>\n      <td>NaN</td>\n      <td>NaN</td>\n      <td>NaN</td>\n      <td>NaN</td>\n      <td>NaT</td>\n      <td>NaN</td>\n      <td>NaN</td>\n      <td>NaN</td>\n      <td>NaN</td>\n    </tr>\n    <tr>\n      <th>3</th>\n      <td>110443.0</td>\n      <td>AK</td>\n      <td>Alaska Balance of State CoC</td>\n      <td>1105.0</td>\n      <td>AK-501</td>\n      <td>2012.0</td>\n      <td>AK Family Services</td>\n      <td>Saxton Shelter</td>\n      <td>ES</td>\n      <td>F</td>\n      <td>...</td>\n      <td>NaN</td>\n      <td>NaN</td>\n      <td>NaN</td>\n      <td>NaN</td>\n      <td>NaN</td>\n      <td>NaT</td>\n      <td>NaN</td>\n      <td>NaN</td>\n      <td>NaN</td>\n      <td>NaN</td>\n    </tr>\n    <tr>\n      <th>4</th>\n      <td>110444.0</td>\n      <td>AK</td>\n      <td>Alaska Balance of State CoC</td>\n      <td>1105.0</td>\n      <td>AK-501</td>\n      <td>2012.0</td>\n      <td>Arctic Women in Crisis</td>\n      <td>DV Shelter</td>\n      <td>ES</td>\n      <td>F</td>\n      <td>...</td>\n      <td>NaN</td>\n      <td>NaN</td>\n      <td>NaN</td>\n      <td>NaN</td>\n      <td>NaN</td>\n      <td>NaT</td>\n      <td>NaN</td>\n      <td>NaN</td>\n      <td>NaN</td>\n      <td>NaN</td>\n    </tr>\n    <tr>\n      <th>...</th>\n      <td>...</td>\n      <td>...</td>\n      <td>...</td>\n      <td>...</td>\n      <td>...</td>\n      <td>...</td>\n      <td>...</td>\n      <td>...</td>\n      <td>...</td>\n      <td>...</td>\n      <td>...</td>\n      <td>...</td>\n      <td>...</td>\n      <td>...</td>\n      <td>...</td>\n      <td>...</td>\n      <td>...</td>\n      <td>...</td>\n      <td>...</td>\n      <td>...</td>\n      <td>...</td>\n    </tr>\n    <tr>\n      <th>25223</th>\n      <td>NaN</td>\n      <td>NaN</td>\n      <td>NaN</td>\n      <td>NaN</td>\n      <td>NaN</td>\n      <td>NaN</td>\n      <td>Saving Grace</td>\n      <td>NaN</td>\n      <td>NaN</td>\n      <td>F</td>\n      <td>...</td>\n      <td>NaN</td>\n      <td>NaN</td>\n      <td>NaN</td>\n      <td>4204</td>\n      <td>5908</td>\n      <td>2020-01-29</td>\n      <td>DV</td>\n      <td>0.0</td>\n      <td>NaN</td>\n      <td>NaN</td>\n    </tr>\n    <tr>\n      <th>25224</th>\n      <td>NaN</td>\n      <td>NaN</td>\n      <td>NaN</td>\n      <td>NaN</td>\n      <td>NaN</td>\n      <td>NaN</td>\n      <td>Buckelew Programs</td>\n      <td>NaN</td>\n      <td>NaN</td>\n      <td>NaN</td>\n      <td>...</td>\n      <td>NaN</td>\n      <td>NaN</td>\n      <td>CA</td>\n      <td>1</td>\n      <td>822</td>\n      <td>2020-02-28</td>\n      <td>NaN</td>\n      <td>1.0</td>\n      <td>0.0</td>\n      <td>0.0</td>\n    </tr>\n    <tr>\n      <th>25225</th>\n      <td>NaN</td>\n      <td>NaN</td>\n      <td>NaN</td>\n      <td>NaN</td>\n      <td>NaN</td>\n      <td>NaN</td>\n      <td>Buckelew Programs</td>\n      <td>NaN</td>\n      <td>NaN</td>\n      <td>NaN</td>\n      <td>...</td>\n      <td>NaN</td>\n      <td>NaN</td>\n      <td>CA</td>\n      <td>1</td>\n      <td>820</td>\n      <td>2020-02-28</td>\n      <td>NaN</td>\n      <td>1.0</td>\n      <td>0.0</td>\n      <td>0.0</td>\n    </tr>\n    <tr>\n      <th>25226</th>\n      <td>NaN</td>\n      <td>NaN</td>\n      <td>NaN</td>\n      <td>NaN</td>\n      <td>NaN</td>\n      <td>NaN</td>\n      <td>Buckelew Programs</td>\n      <td>NaN</td>\n      <td>NaN</td>\n      <td>NaN</td>\n      <td>...</td>\n      <td>NaN</td>\n      <td>NaN</td>\n      <td>CA</td>\n      <td>1</td>\n      <td>979</td>\n      <td>2020-02-28</td>\n      <td>NaN</td>\n      <td>1.0</td>\n      <td>NaN</td>\n      <td>NaN</td>\n    </tr>\n    <tr>\n      <th>25227</th>\n      <td>NaN</td>\n      <td>NaN</td>\n      <td>NaN</td>\n      <td>NaN</td>\n      <td>NaN</td>\n      <td>NaN</td>\n      <td>Buckelew Programs</td>\n      <td>NaN</td>\n      <td>NaN</td>\n      <td>NaN</td>\n      <td>...</td>\n      <td>NaN</td>\n      <td>NaN</td>\n      <td>CA</td>\n      <td>1</td>\n      <td>935</td>\n      <td>2020-02-28</td>\n      <td>NaN</td>\n      <td>1.0</td>\n      <td>NaN</td>\n      <td>NaN</td>\n    </tr>\n  </tbody>\n</table>\n<p>217633 rows × 137 columns</p>\n</div>"
     },
     "metadata": {},
     "execution_count": 102
    }
   ],
   "source": [
    "HIC_df\n"
   ]
  },
  {
   "cell_type": "code",
   "execution_count": 84,
   "metadata": {},
   "outputs": [],
   "source": [
    "PIT_2012 = pd.read_csv(\"../data/2007-2020-PIT-Estimates-by-CoC/2012-Table 1.csv\")"
   ]
  },
  {
   "cell_type": "code",
   "execution_count": 95,
   "metadata": {
    "tags": []
   },
   "outputs": [],
   "source": [
    "PIT_2013 = pd.read_csv(\"../data/2007-2020-PIT-Estimates-by-CoC/2012-Table 1.csv\")"
   ]
  },
  {
   "cell_type": "code",
   "execution_count": 86,
   "metadata": {},
   "outputs": [],
   "source": [
    "PIT_2014 = pd.read_csv(\"../data/2007-2020-PIT-Estimates-by-CoC/2014-Table 1.csv\")"
   ]
  },
  {
   "cell_type": "code",
   "execution_count": 87,
   "metadata": {},
   "outputs": [],
   "source": [
    "PIT_2015 = pd.read_csv(\"../data/2007-2020-PIT-Estimates-by-CoC/2015-Table 1.csv\")"
   ]
  },
  {
   "cell_type": "code",
   "execution_count": 88,
   "metadata": {},
   "outputs": [],
   "source": [
    "PIT_2016 = pd.read_csv(\"../data/2007-2020-PIT-Estimates-by-CoC/2016-Table 1.csv\")"
   ]
  },
  {
   "cell_type": "code",
   "execution_count": 89,
   "metadata": {},
   "outputs": [],
   "source": [
    "PIT_2017 = pd.read_csv(\"../data/2007-2020-PIT-Estimates-by-CoC/2017-Table 1.csv\")"
   ]
  },
  {
   "cell_type": "code",
   "execution_count": 90,
   "metadata": {},
   "outputs": [],
   "source": [
    "PIT_2018 = pd.read_csv(\"../data/2007-2020-PIT-Estimates-by-CoC/2018-Table 1.csv\")"
   ]
  },
  {
   "cell_type": "code",
   "execution_count": 91,
   "metadata": {},
   "outputs": [],
   "source": [
    "PIT_2019 = pd.read_csv(\"../data/2007-2020-PIT-Estimates-by-CoC/2019-Table 1.csv\")"
   ]
  },
  {
   "cell_type": "code",
   "execution_count": 92,
   "metadata": {},
   "outputs": [],
   "source": [
    "PIT_2020 = pd.read_csv(\"../data/2007-2020-PIT-Estimates-by-CoC/2020-Table 1.csv\")"
   ]
  },
  {
   "cell_type": "code",
   "execution_count": 96,
   "metadata": {},
   "outputs": [],
   "source": [
    "PITs = [PIT_2012, PIT_2013, PIT_2014, PIT_2015, PIT_2016, PIT_2017, PIT_2018, PIT_2019, PIT_2020]"
   ]
  },
  {
   "cell_type": "code",
   "execution_count": 103,
   "metadata": {},
   "outputs": [],
   "source": [
    "PIT_df = pd.concat(PITs)"
   ]
  },
  {
   "cell_type": "code",
   "execution_count": 104,
   "metadata": {},
   "outputs": [
    {
     "output_type": "stream",
     "name": "stdout",
     "text": [
      "<class 'pandas.core.frame.DataFrame'>\nInt64Index: 3537 entries, 0 to 394\nColumns: 3057 entries, CoC Number to Unsheltered Homeless Children of Parenting Youth, 2020\ndtypes: float64(937), object(2120)\nmemory usage: 82.5+ MB\n"
     ]
    }
   ],
   "source": [
    "PIT_df.info()"
   ]
  },
  {
   "cell_type": "code",
   "execution_count": 106,
   "metadata": {},
   "outputs": [
    {
     "output_type": "execute_result",
     "data": {
      "text/plain": [
       "Index(['CoC Number', 'CoC Name', 'Overall Homeless, 2012',\n",
       "       'Sheltered ES Homeless, 2012', 'Sheltered TH Homeless, 2012',\n",
       "       'Sheltered SH Homeless, 2012', 'Sheltered Total Homeless, 2012',\n",
       "       'Unsheltered Homeless, 2012', 'Overall Homeless Individuals, 2012',\n",
       "       'Overall Homeless Individuals - Under 18, 2012',\n",
       "       ...\n",
       "       'Overall Homeless Parenting Youth Age 18-24, 2020',\n",
       "       'Sheltered ES Homeless Parenting Youth Age 18-24, 2020',\n",
       "       'Sheltered TH Homeless Parenting Youth Age 18-24, 2020',\n",
       "       'Sheltered Total Homeless Parenting Youth Age 18-24, 2020',\n",
       "       'Unsheltered Homeless Parenting Youth Age 18-24, 2020',\n",
       "       'Overall Homeless Children of Parenting Youth, 2020',\n",
       "       'Sheltered ES Homeless Children of Parenting Youth, 2020',\n",
       "       'Sheltered TH Homeless Children of Parenting Youth, 2020',\n",
       "       'Sheltered Total Homeless Children of Parenting Youth, 2020',\n",
       "       'Unsheltered Homeless Children of Parenting Youth, 2020'],\n",
       "      dtype='object', length=3057)"
      ]
     },
     "metadata": {},
     "execution_count": 106
    }
   ],
   "source": [
    "PIT_df.columns.unique()"
   ]
  },
  {
   "cell_type": "code",
   "execution_count": null,
   "metadata": {},
   "outputs": [],
   "source": []
  }
 ]
}